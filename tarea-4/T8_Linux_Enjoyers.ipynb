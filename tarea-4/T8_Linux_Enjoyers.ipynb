{
  "cells": [
    {
      "cell_type": "markdown",
      "metadata": {
        "id": "KJ3CH3gFtttD"
      },
      "source": [
        "<hr style=\"height:2px;border:none\"/>\n",
        "<h1 align='center'> INF-280 Estadística Computacional II-2022 </h1>\n",
        "\n",
        "<H3 align='center'> Tema 8 - Test de Hipótesis  </H3>\n",
        "\n",
        "\\\n",
        "\n",
        "\n",
        "Nombre del equipo: \n",
        "\n",
        "Integrantes:\n",
        "\n",
        "\n",
        "*   Martin Sarubbi - 201973587-K - [video](https://youtu.be/EK3z4FocSss)\n",
        "*   Benjamín Vallejos - 201910516-7 - [video](https://www.youtube.com/watch?v=SeNL2fmQm8w)\n",
        "*   Miguel Soto Delgado - 201973623-K - [video](https://drive.google.com/drive/folders/17FG7pWxCkkUPgBBfAmCoJMoXVYcjhqIp?usp=sharing)\n",
        "\n",
        "\n",
        "*Recuerden que si su equipo se llama \"El ritmo no perdona\", entonces el nombre del archivo a subir debe ser T8_El_ritmo_no_perdona.ipynb*\n",
        "\n",
        "\n",
        "### **Formalidades**  \n",
        "* Es posible utilizar apuntes, libros, papers, ejemplos y cualquier otro material que desee de internet, pero debe ser usted quien desarrolle los ejercicios y comente los resultados en el Notebook que entregará. \n",
        "* Se permite el uso de las librerías: pandas, numpy, matplotlib y seaborn. Si desea utilizar otra librería debe indicar cómo instalarla.\n",
        "* Se debe trabajar en grupos de **dos o tres personas**, las cuales deberán estar inscritas a través de __[Aula](https://aula.usm.cl/)__.\n",
        "* Además del Notebook, deberán entregar un video explicando lo que hizo, paso a paso, como en los ejemplos entregados en AULA. Este vídeo es **individual**, es decir, cada integrante debe hacerlo por separado (debiendo utilizar el mismo Jupyter Notebook). El video puede ser subido a una plataforma externa como Youtube, Google Drive, ó Dropbox. El **link a compartir** (*visible para cualquier usuario con el link*) debe ir dentro del Notebook.\n",
        "* La nota de esta actividad es grupal.\n",
        "\n",
        "\n",
        "<hr style=\"height:2px;border:none\"/>\n",
        "\n",
        "### **Entrega** \n",
        "* **Formato**: Se debe realizar una **única** entrega por grupo (un representate del grupo) a través de  __[**Aula**](https://aula.usm.cl/)__.\n",
        "* **Archivo**: El nombre del archivo a subir debe ser **T8_Nombre_Del_Equipo.ipynb**, por ejemplo, si su equipo se llama \"El ritmo no perdona\", entonces el nombre del archivo debe ser **T8_El_ritmo_no_perdona.ipynb**\n",
        "* **Archivo**: Sus respuestas deben ser entregadas en forma de Jupyter Notebook, incluyendo **todos links** a los vídeos explicativos, uno por cada integrante.\n",
        "    * **Vídeo**: Debe grabar la pantalla (Jupyter Notebok) donde se realiza la explicación de la actividad, con una duración máxima de 25 minutos.\n",
        "* **Fecha límite**: Martes 6 de Diciembre a las 23:59\n",
        "\n",
        "<hr style=\"height:2px;border:none\"/>\n",
        "\n",
        "### **Descuentos**\n",
        "\n",
        "* Se descontarán 5 puntos si el nombre del archivo subido no sigue el formato señalado.\n",
        "* Se descontarán 10 puntos por cada hora de atraso en la entrega.\n",
        "* Todos los gráficos que realicen deben contener los nombres de las variables en los ejes. Se descontarán 3 puntos por cada nombre faltante.\n",
        "\n",
        "<hr style=\"height:2px;border:none\"/>"
      ]
    },
    {
      "cell_type": "markdown",
      "metadata": {
        "id": "SaaUQp7FSjWv"
      },
      "source": [
        "<table align='left'>\n",
        "<tr>\n",
        "<td><img src='https://comunicacion.uaa.mx/revista/wp-content/uploads/2019/01/discurso-620x350.png' width='650'/> </td>\n",
        "</tr>\n",
        "</table>"
      ]
    },
    {
      "cell_type": "markdown",
      "metadata": {
        "id": "srxBFeLqS3TM"
      },
      "source": [
        "## Contexto"
      ]
    },
    {
      "cell_type": "code",
      "source": [],
      "metadata": {
        "id": "7lEb-7U-FY2F"
      },
      "execution_count": null,
      "outputs": []
    },
    {
      "cell_type": "markdown",
      "metadata": {
        "id": "KULeq6-zhXTZ"
      },
      "source": [
        "La Universidad de Harvard ha recopilado una serie de discursos para medir el nivel de populismo en los discursos de 241 jefes ejecutivos (presidentes y primeros ministros) de 74 países de todos los continentes. El conjunto de datos cubre 324 mandatos gubernamentales e incluye 1240 discursos, en su mayoría entre 2000 y 2022. \n",
        "\n",
        "El dataset `gpd_v2_20220427.csv` está compuesto por los siguientes atriibutos:\n",
        "\n",
        "1.   `merging_variable`: name of the .txt file in the folder with Speeches with the speech that matches that coder’s score.\n",
        "2.   `Country`\n",
        "3.   `Leader`: name of president or prime minister.\n",
        "4.   `lr`: categorical indicator with -1 = left; 0 = center; 1 = right.\n",
        "5.   `president`: binary. 1 if the leader is a president, 0 if a prime minister.\n",
        "6.   `term`: leader term in office, ordinal.\n",
        "8.   `startofterm`: date of start of respective term\n",
        "9.   `yearbegin`: year of beginning of term.\n",
        "10.   `endofterm`: date of end of respective term.\n",
        "11.   `yearend`: year of ending of respective term.\n",
        "12.   `speechtype`: type of speech: international, campaign, ribbon-cutting, famous.\n",
        "13.   `speechnum`: number of that speech for that leader-term.\n",
        "14.   `codernum`: coder identifier for that speech-leader.\n",
        "15.   `rubricgrade`: grade of that speech by that coder on the 0-2 populism scale.\n",
        "16.   `averagerubric`: average populism grade for that speech. Arithmetic average across all coders for that speech.\n",
        "17.    `totalaverage`: average populism grade for that leader-term. Arithmetic mean for all speeches by all coders for that leader-term\n",
        "18.    `wb_region`: World Bank global region classification."
      ]
    },
    {
      "cell_type": "markdown",
      "metadata": {
        "id": "Uy7o-VE6wgNg"
      },
      "source": [
        "# Librerías"
      ]
    },
    {
      "cell_type": "code",
      "execution_count": null,
      "metadata": {
        "id": "Fnn3KM_QwieF"
      },
      "outputs": [],
      "source": [
        "import pandas as pd\n",
        "import numpy as np \n",
        "import seaborn as sns; sns.set()\n",
        "import matplotlib.pyplot as plt\n",
        "import warnings\n",
        "warnings.filterwarnings(\"ignore\")\n"
      ]
    },
    {
      "cell_type": "markdown",
      "metadata": {
        "id": "yu2fyuuKhfQo"
      },
      "source": [
        "# Datos"
      ]
    },
    {
      "cell_type": "code",
      "execution_count": null,
      "metadata": {
        "id": "JTb8zJpk9YIU",
        "colab": {
          "base_uri": "https://localhost:8080/",
          "height": 922
        },
        "outputId": "2a7536a6-026a-45b0-9144-bcb71e8fbc91"
      },
      "outputs": [
        {
          "output_type": "execute_result",
          "data": {
            "text/plain": [
              "                            merging_variable    country          leader  \\\n",
              "0             Albania_Berisha_Campaign_2.txt    Albania    Sali Berisha   \n",
              "1             Albania_Berisha_Campaign_2.txt    Albania    Sali Berisha   \n",
              "2             Albania_Berisha_Campaign_2.txt    Albania    Sali Berisha   \n",
              "3             Albania_Berisha_Campaign_2.txt    Albania    Sali Berisha   \n",
              "4               Albania_Berisha_Ribbon_2.txt    Albania    Sali Berisha   \n",
              "...                                      ...        ...             ...   \n",
              "4955  Australia_Morrison_International_1.txt  Australia  Scott Morrison   \n",
              "4956         Australia_Morrison_Ribbon_1.txt  Australia  Scott Morrison   \n",
              "4957         Australia_Morrison_Ribbon_1.txt  Australia  Scott Morrison   \n",
              "4958         Australia_Morrison_Ribbon_1.txt  Australia  Scott Morrison   \n",
              "4959         Australia_Morrison_Ribbon_1.txt  Australia  Scott Morrison   \n",
              "\n",
              "                            party   lr  president  term startofterm  \\\n",
              "0     Democratic Party of Albania  0.0          0     2  2009-06-28   \n",
              "1     Democratic Party of Albania  0.0          0     2  2009-06-28   \n",
              "2     Democratic Party of Albania  0.0          0     2  2009-06-28   \n",
              "3     Democratic Party of Albania  0.0          0     2  2009-06-28   \n",
              "4     Democratic Party of Albania  0.0          0     2  2009-06-28   \n",
              "...                           ...  ...        ...   ...         ...   \n",
              "4955   Liberal Party of Australia  NaN          0     1  2018-04-24   \n",
              "4956   Liberal Party of Australia  NaN          0     1  2018-04-24   \n",
              "4957   Liberal Party of Australia  NaN          0     1  2018-04-24   \n",
              "4958   Liberal Party of Australia  NaN          0     1  2018-04-24   \n",
              "4959   Liberal Party of Australia  NaN          0     1  2018-04-24   \n",
              "\n",
              "      yearbegin   endofterm  yearend      speechtype  speechnum  codernum  \\\n",
              "0          2009  2013-06-23     2013        Campaign          1         1   \n",
              "1          2009  2013-06-23     2013        Campaign          1         2   \n",
              "2          2009  2013-06-23     2013        Campaign          1         3   \n",
              "3          2009  2013-06-23     2013        Campaign          1         4   \n",
              "4          2009  2013-06-23     2013  Ribbon cutting          2         1   \n",
              "...         ...         ...      ...             ...        ...       ...   \n",
              "4955       2018     present  present   International          3         4   \n",
              "4956       2018     present  present  Ribbon cutting          4         1   \n",
              "4957       2018     present  present  Ribbon cutting          4         2   \n",
              "4958       2018     present  present  Ribbon cutting          4         3   \n",
              "4959       2018     present  present  Ribbon cutting          4         4   \n",
              "\n",
              "      rubricgrade  averagerubric  totalaverage              wb_region  \\\n",
              "0             0.0            0.5       0.12500  Europe & Central Asia   \n",
              "1             1.0            0.5       0.12500  Europe & Central Asia   \n",
              "2             NaN            0.5       0.12500  Europe & Central Asia   \n",
              "3             NaN            0.5       0.12500  Europe & Central Asia   \n",
              "4             0.0            0.0       0.12500  Europe & Central Asia   \n",
              "...           ...            ...           ...                    ...   \n",
              "4955          NaN            0.0       0.15625    East Asia & Pacific   \n",
              "4956          0.0            0.0       0.15625    East Asia & Pacific   \n",
              "4957          0.0            0.0       0.15625    East Asia & Pacific   \n",
              "4958          NaN            0.0       0.15625    East Asia & Pacific   \n",
              "4959          NaN            0.0       0.15625    East Asia & Pacific   \n",
              "\n",
              "                          region  \n",
              "0     Central and Eastern Europe  \n",
              "1     Central and Eastern Europe  \n",
              "2     Central and Eastern Europe  \n",
              "3     Central and Eastern Europe  \n",
              "4     Central and Eastern Europe  \n",
              "...                          ...  \n",
              "4955                         NaN  \n",
              "4956                         NaN  \n",
              "4957                         NaN  \n",
              "4958                         NaN  \n",
              "4959                         NaN  \n",
              "\n",
              "[4960 rows x 19 columns]"
            ],
            "text/html": [
              "\n",
              "  <div id=\"df-8c7d2f77-276e-4904-b2de-ff739d7f791c\">\n",
              "    <div class=\"colab-df-container\">\n",
              "      <div>\n",
              "<style scoped>\n",
              "    .dataframe tbody tr th:only-of-type {\n",
              "        vertical-align: middle;\n",
              "    }\n",
              "\n",
              "    .dataframe tbody tr th {\n",
              "        vertical-align: top;\n",
              "    }\n",
              "\n",
              "    .dataframe thead th {\n",
              "        text-align: right;\n",
              "    }\n",
              "</style>\n",
              "<table border=\"1\" class=\"dataframe\">\n",
              "  <thead>\n",
              "    <tr style=\"text-align: right;\">\n",
              "      <th></th>\n",
              "      <th>merging_variable</th>\n",
              "      <th>country</th>\n",
              "      <th>leader</th>\n",
              "      <th>party</th>\n",
              "      <th>lr</th>\n",
              "      <th>president</th>\n",
              "      <th>term</th>\n",
              "      <th>startofterm</th>\n",
              "      <th>yearbegin</th>\n",
              "      <th>endofterm</th>\n",
              "      <th>yearend</th>\n",
              "      <th>speechtype</th>\n",
              "      <th>speechnum</th>\n",
              "      <th>codernum</th>\n",
              "      <th>rubricgrade</th>\n",
              "      <th>averagerubric</th>\n",
              "      <th>totalaverage</th>\n",
              "      <th>wb_region</th>\n",
              "      <th>region</th>\n",
              "    </tr>\n",
              "  </thead>\n",
              "  <tbody>\n",
              "    <tr>\n",
              "      <th>0</th>\n",
              "      <td>Albania_Berisha_Campaign_2.txt</td>\n",
              "      <td>Albania</td>\n",
              "      <td>Sali Berisha</td>\n",
              "      <td>Democratic Party of Albania</td>\n",
              "      <td>0.0</td>\n",
              "      <td>0</td>\n",
              "      <td>2</td>\n",
              "      <td>2009-06-28</td>\n",
              "      <td>2009</td>\n",
              "      <td>2013-06-23</td>\n",
              "      <td>2013</td>\n",
              "      <td>Campaign</td>\n",
              "      <td>1</td>\n",
              "      <td>1</td>\n",
              "      <td>0.0</td>\n",
              "      <td>0.5</td>\n",
              "      <td>0.12500</td>\n",
              "      <td>Europe &amp; Central Asia</td>\n",
              "      <td>Central and Eastern Europe</td>\n",
              "    </tr>\n",
              "    <tr>\n",
              "      <th>1</th>\n",
              "      <td>Albania_Berisha_Campaign_2.txt</td>\n",
              "      <td>Albania</td>\n",
              "      <td>Sali Berisha</td>\n",
              "      <td>Democratic Party of Albania</td>\n",
              "      <td>0.0</td>\n",
              "      <td>0</td>\n",
              "      <td>2</td>\n",
              "      <td>2009-06-28</td>\n",
              "      <td>2009</td>\n",
              "      <td>2013-06-23</td>\n",
              "      <td>2013</td>\n",
              "      <td>Campaign</td>\n",
              "      <td>1</td>\n",
              "      <td>2</td>\n",
              "      <td>1.0</td>\n",
              "      <td>0.5</td>\n",
              "      <td>0.12500</td>\n",
              "      <td>Europe &amp; Central Asia</td>\n",
              "      <td>Central and Eastern Europe</td>\n",
              "    </tr>\n",
              "    <tr>\n",
              "      <th>2</th>\n",
              "      <td>Albania_Berisha_Campaign_2.txt</td>\n",
              "      <td>Albania</td>\n",
              "      <td>Sali Berisha</td>\n",
              "      <td>Democratic Party of Albania</td>\n",
              "      <td>0.0</td>\n",
              "      <td>0</td>\n",
              "      <td>2</td>\n",
              "      <td>2009-06-28</td>\n",
              "      <td>2009</td>\n",
              "      <td>2013-06-23</td>\n",
              "      <td>2013</td>\n",
              "      <td>Campaign</td>\n",
              "      <td>1</td>\n",
              "      <td>3</td>\n",
              "      <td>NaN</td>\n",
              "      <td>0.5</td>\n",
              "      <td>0.12500</td>\n",
              "      <td>Europe &amp; Central Asia</td>\n",
              "      <td>Central and Eastern Europe</td>\n",
              "    </tr>\n",
              "    <tr>\n",
              "      <th>3</th>\n",
              "      <td>Albania_Berisha_Campaign_2.txt</td>\n",
              "      <td>Albania</td>\n",
              "      <td>Sali Berisha</td>\n",
              "      <td>Democratic Party of Albania</td>\n",
              "      <td>0.0</td>\n",
              "      <td>0</td>\n",
              "      <td>2</td>\n",
              "      <td>2009-06-28</td>\n",
              "      <td>2009</td>\n",
              "      <td>2013-06-23</td>\n",
              "      <td>2013</td>\n",
              "      <td>Campaign</td>\n",
              "      <td>1</td>\n",
              "      <td>4</td>\n",
              "      <td>NaN</td>\n",
              "      <td>0.5</td>\n",
              "      <td>0.12500</td>\n",
              "      <td>Europe &amp; Central Asia</td>\n",
              "      <td>Central and Eastern Europe</td>\n",
              "    </tr>\n",
              "    <tr>\n",
              "      <th>4</th>\n",
              "      <td>Albania_Berisha_Ribbon_2.txt</td>\n",
              "      <td>Albania</td>\n",
              "      <td>Sali Berisha</td>\n",
              "      <td>Democratic Party of Albania</td>\n",
              "      <td>0.0</td>\n",
              "      <td>0</td>\n",
              "      <td>2</td>\n",
              "      <td>2009-06-28</td>\n",
              "      <td>2009</td>\n",
              "      <td>2013-06-23</td>\n",
              "      <td>2013</td>\n",
              "      <td>Ribbon cutting</td>\n",
              "      <td>2</td>\n",
              "      <td>1</td>\n",
              "      <td>0.0</td>\n",
              "      <td>0.0</td>\n",
              "      <td>0.12500</td>\n",
              "      <td>Europe &amp; Central Asia</td>\n",
              "      <td>Central and Eastern Europe</td>\n",
              "    </tr>\n",
              "    <tr>\n",
              "      <th>...</th>\n",
              "      <td>...</td>\n",
              "      <td>...</td>\n",
              "      <td>...</td>\n",
              "      <td>...</td>\n",
              "      <td>...</td>\n",
              "      <td>...</td>\n",
              "      <td>...</td>\n",
              "      <td>...</td>\n",
              "      <td>...</td>\n",
              "      <td>...</td>\n",
              "      <td>...</td>\n",
              "      <td>...</td>\n",
              "      <td>...</td>\n",
              "      <td>...</td>\n",
              "      <td>...</td>\n",
              "      <td>...</td>\n",
              "      <td>...</td>\n",
              "      <td>...</td>\n",
              "      <td>...</td>\n",
              "    </tr>\n",
              "    <tr>\n",
              "      <th>4955</th>\n",
              "      <td>Australia_Morrison_International_1.txt</td>\n",
              "      <td>Australia</td>\n",
              "      <td>Scott Morrison</td>\n",
              "      <td>Liberal Party of Australia</td>\n",
              "      <td>NaN</td>\n",
              "      <td>0</td>\n",
              "      <td>1</td>\n",
              "      <td>2018-04-24</td>\n",
              "      <td>2018</td>\n",
              "      <td>present</td>\n",
              "      <td>present</td>\n",
              "      <td>International</td>\n",
              "      <td>3</td>\n",
              "      <td>4</td>\n",
              "      <td>NaN</td>\n",
              "      <td>0.0</td>\n",
              "      <td>0.15625</td>\n",
              "      <td>East Asia &amp; Pacific</td>\n",
              "      <td>NaN</td>\n",
              "    </tr>\n",
              "    <tr>\n",
              "      <th>4956</th>\n",
              "      <td>Australia_Morrison_Ribbon_1.txt</td>\n",
              "      <td>Australia</td>\n",
              "      <td>Scott Morrison</td>\n",
              "      <td>Liberal Party of Australia</td>\n",
              "      <td>NaN</td>\n",
              "      <td>0</td>\n",
              "      <td>1</td>\n",
              "      <td>2018-04-24</td>\n",
              "      <td>2018</td>\n",
              "      <td>present</td>\n",
              "      <td>present</td>\n",
              "      <td>Ribbon cutting</td>\n",
              "      <td>4</td>\n",
              "      <td>1</td>\n",
              "      <td>0.0</td>\n",
              "      <td>0.0</td>\n",
              "      <td>0.15625</td>\n",
              "      <td>East Asia &amp; Pacific</td>\n",
              "      <td>NaN</td>\n",
              "    </tr>\n",
              "    <tr>\n",
              "      <th>4957</th>\n",
              "      <td>Australia_Morrison_Ribbon_1.txt</td>\n",
              "      <td>Australia</td>\n",
              "      <td>Scott Morrison</td>\n",
              "      <td>Liberal Party of Australia</td>\n",
              "      <td>NaN</td>\n",
              "      <td>0</td>\n",
              "      <td>1</td>\n",
              "      <td>2018-04-24</td>\n",
              "      <td>2018</td>\n",
              "      <td>present</td>\n",
              "      <td>present</td>\n",
              "      <td>Ribbon cutting</td>\n",
              "      <td>4</td>\n",
              "      <td>2</td>\n",
              "      <td>0.0</td>\n",
              "      <td>0.0</td>\n",
              "      <td>0.15625</td>\n",
              "      <td>East Asia &amp; Pacific</td>\n",
              "      <td>NaN</td>\n",
              "    </tr>\n",
              "    <tr>\n",
              "      <th>4958</th>\n",
              "      <td>Australia_Morrison_Ribbon_1.txt</td>\n",
              "      <td>Australia</td>\n",
              "      <td>Scott Morrison</td>\n",
              "      <td>Liberal Party of Australia</td>\n",
              "      <td>NaN</td>\n",
              "      <td>0</td>\n",
              "      <td>1</td>\n",
              "      <td>2018-04-24</td>\n",
              "      <td>2018</td>\n",
              "      <td>present</td>\n",
              "      <td>present</td>\n",
              "      <td>Ribbon cutting</td>\n",
              "      <td>4</td>\n",
              "      <td>3</td>\n",
              "      <td>NaN</td>\n",
              "      <td>0.0</td>\n",
              "      <td>0.15625</td>\n",
              "      <td>East Asia &amp; Pacific</td>\n",
              "      <td>NaN</td>\n",
              "    </tr>\n",
              "    <tr>\n",
              "      <th>4959</th>\n",
              "      <td>Australia_Morrison_Ribbon_1.txt</td>\n",
              "      <td>Australia</td>\n",
              "      <td>Scott Morrison</td>\n",
              "      <td>Liberal Party of Australia</td>\n",
              "      <td>NaN</td>\n",
              "      <td>0</td>\n",
              "      <td>1</td>\n",
              "      <td>2018-04-24</td>\n",
              "      <td>2018</td>\n",
              "      <td>present</td>\n",
              "      <td>present</td>\n",
              "      <td>Ribbon cutting</td>\n",
              "      <td>4</td>\n",
              "      <td>4</td>\n",
              "      <td>NaN</td>\n",
              "      <td>0.0</td>\n",
              "      <td>0.15625</td>\n",
              "      <td>East Asia &amp; Pacific</td>\n",
              "      <td>NaN</td>\n",
              "    </tr>\n",
              "  </tbody>\n",
              "</table>\n",
              "<p>4960 rows × 19 columns</p>\n",
              "</div>\n",
              "      <button class=\"colab-df-convert\" onclick=\"convertToInteractive('df-8c7d2f77-276e-4904-b2de-ff739d7f791c')\"\n",
              "              title=\"Convert this dataframe to an interactive table.\"\n",
              "              style=\"display:none;\">\n",
              "        \n",
              "  <svg xmlns=\"http://www.w3.org/2000/svg\" height=\"24px\"viewBox=\"0 0 24 24\"\n",
              "       width=\"24px\">\n",
              "    <path d=\"M0 0h24v24H0V0z\" fill=\"none\"/>\n",
              "    <path d=\"M18.56 5.44l.94 2.06.94-2.06 2.06-.94-2.06-.94-.94-2.06-.94 2.06-2.06.94zm-11 1L8.5 8.5l.94-2.06 2.06-.94-2.06-.94L8.5 2.5l-.94 2.06-2.06.94zm10 10l.94 2.06.94-2.06 2.06-.94-2.06-.94-.94-2.06-.94 2.06-2.06.94z\"/><path d=\"M17.41 7.96l-1.37-1.37c-.4-.4-.92-.59-1.43-.59-.52 0-1.04.2-1.43.59L10.3 9.45l-7.72 7.72c-.78.78-.78 2.05 0 2.83L4 21.41c.39.39.9.59 1.41.59.51 0 1.02-.2 1.41-.59l7.78-7.78 2.81-2.81c.8-.78.8-2.07 0-2.86zM5.41 20L4 18.59l7.72-7.72 1.47 1.35L5.41 20z\"/>\n",
              "  </svg>\n",
              "      </button>\n",
              "      \n",
              "  <style>\n",
              "    .colab-df-container {\n",
              "      display:flex;\n",
              "      flex-wrap:wrap;\n",
              "      gap: 12px;\n",
              "    }\n",
              "\n",
              "    .colab-df-convert {\n",
              "      background-color: #E8F0FE;\n",
              "      border: none;\n",
              "      border-radius: 50%;\n",
              "      cursor: pointer;\n",
              "      display: none;\n",
              "      fill: #1967D2;\n",
              "      height: 32px;\n",
              "      padding: 0 0 0 0;\n",
              "      width: 32px;\n",
              "    }\n",
              "\n",
              "    .colab-df-convert:hover {\n",
              "      background-color: #E2EBFA;\n",
              "      box-shadow: 0px 1px 2px rgba(60, 64, 67, 0.3), 0px 1px 3px 1px rgba(60, 64, 67, 0.15);\n",
              "      fill: #174EA6;\n",
              "    }\n",
              "\n",
              "    [theme=dark] .colab-df-convert {\n",
              "      background-color: #3B4455;\n",
              "      fill: #D2E3FC;\n",
              "    }\n",
              "\n",
              "    [theme=dark] .colab-df-convert:hover {\n",
              "      background-color: #434B5C;\n",
              "      box-shadow: 0px 1px 3px 1px rgba(0, 0, 0, 0.15);\n",
              "      filter: drop-shadow(0px 1px 2px rgba(0, 0, 0, 0.3));\n",
              "      fill: #FFFFFF;\n",
              "    }\n",
              "  </style>\n",
              "\n",
              "      <script>\n",
              "        const buttonEl =\n",
              "          document.querySelector('#df-8c7d2f77-276e-4904-b2de-ff739d7f791c button.colab-df-convert');\n",
              "        buttonEl.style.display =\n",
              "          google.colab.kernel.accessAllowed ? 'block' : 'none';\n",
              "\n",
              "        async function convertToInteractive(key) {\n",
              "          const element = document.querySelector('#df-8c7d2f77-276e-4904-b2de-ff739d7f791c');\n",
              "          const dataTable =\n",
              "            await google.colab.kernel.invokeFunction('convertToInteractive',\n",
              "                                                     [key], {});\n",
              "          if (!dataTable) return;\n",
              "\n",
              "          const docLinkHtml = 'Like what you see? Visit the ' +\n",
              "            '<a target=\"_blank\" href=https://colab.research.google.com/notebooks/data_table.ipynb>data table notebook</a>'\n",
              "            + ' to learn more about interactive tables.';\n",
              "          element.innerHTML = '';\n",
              "          dataTable['output_type'] = 'display_data';\n",
              "          await google.colab.output.renderOutput(dataTable, element);\n",
              "          const docLink = document.createElement('div');\n",
              "          docLink.innerHTML = docLinkHtml;\n",
              "          element.appendChild(docLink);\n",
              "        }\n",
              "      </script>\n",
              "    </div>\n",
              "  </div>\n",
              "  "
            ]
          },
          "metadata": {},
          "execution_count": 120
        }
      ],
      "source": [
        "data = pd.read_csv(\"gpd_v2_20220427.csv\")\n",
        "data\n"
      ]
    },
    {
      "cell_type": "markdown",
      "metadata": {
        "id": "4-2AWCa2WgCS"
      },
      "source": [
        "#Funciones\n"
      ]
    },
    {
      "cell_type": "code",
      "execution_count": null,
      "metadata": {
        "id": "gS3LSf9UWiAG"
      },
      "outputs": [],
      "source": [
        "#H0: mu1 = mu2 (mu1,mu2 ambas no conocidas)\n",
        "def contrate_2medias(n1,n2,media1,media2,std1,std2,error_tipo1,alternativa='1>2'):\n",
        "  region_critica = []\n",
        "  gl_num = (std1**2/float(n1) + std2**2/float(n2))**2\n",
        "  gl_den = ((std1**2/float(n1))**2)/(n1-1.0) + ((std2**2/float(n2))**2)/(n2-1.0)\n",
        "  gl = int(np.floor(gl_num/gl_den))\n",
        "  std_error = np.sqrt(std1**2/n1 + std2**2/n2)\n",
        "  T0 = (media1-media2)/std_error#estadistico bajo H0\n",
        "  if (alternativa=='1>2'):\n",
        "    region_critica.append(pd.Interval(left=t.ppf(1-error_tipo1,df=gl), right=np.inf,closed='neither'))\n",
        "    p_value = 1-t.cdf(T0,df=gl)\n",
        "  elif (alternativa=='1<2'):\n",
        "    region_critica.append(pd.Interval(left=-np.inf, right=t.ppf(error_tipo1,df=gl),closed='neither'))\n",
        "    p_value = t.cdf(T0,df=gl)\n",
        "  else:#dos colas\n",
        "    region_critica.append(pd.Interval(left=-np.inf,right=t.ppf(error_tipo1/2,df=gl),closed='neither'))\n",
        "    region_critica.append(pd.Interval(left=t.ppf(1-error_tipo1/2,df=gl),right=np.inf,closed='neither'))\n",
        "    p_value = 2*min(1-t.cdf(T0,df=gl),t.cdf(T0,df=gl))\n",
        "  return T0, region_critica, p_value\n",
        "\n",
        "\n",
        "def contrate_1media(n1,media1,std1,mu0,error_tipo1,alternativa='1>0'):\n",
        "  region_critica = []\n",
        "  gl = n1-1\n",
        "  std_error = np.sqrt(std1**2/n1)\n",
        "  T0 = (media1-mu0)/std_error#estadistico bajo H0\n",
        "  if (alternativa=='1>0'):\n",
        "    region_critica.append(pd.Interval(left=t.ppf(1-error_tipo1,df=gl), right=np.inf,closed='neither'))\n",
        "    p_value = 1-t.cdf(T0,df=gl)\n",
        "  elif (alternativa=='1<0'):\n",
        "    region_critica.append(pd.Interval(left=-np.inf, right=t.ppf(error_tipo1,df=gl),closed='neither'))\n",
        "    p_value = t.cdf(T0,df=gl)\n",
        "  else:#dos colas\n",
        "    region_critica.append(pd.Interval(left=-np.inf,right=t.ppf(error_tipo1/2,df=gl),closed='neither'))\n",
        "    region_critica.append(pd.Interval(left=t.ppf(1-error_tipo1/2,df=gl),right=np.inf,closed='neither'))\n",
        "    p_value = 2*min(1-t.cdf(T0,df=gl),t.cdf(T0,df=gl))\n",
        "  return T0, region_critica, p_value\n",
        "\n"
      ]
    },
    {
      "cell_type": "markdown",
      "metadata": {
        "id": "KknvDAeG2V9j"
      },
      "source": [
        "# Preguntas"
      ]
    },
    {
      "cell_type": "markdown",
      "metadata": {
        "id": "IvUsPbc-dMyL"
      },
      "source": [
        "---\n",
        "\n",
        "**Importante** para las siguientes preguntas:\n",
        "* Indique explicitamente **los supuestos** que consideraron.\n",
        "* Indique explicitamente **$H_0$** y **$H_1$**.\n",
        "* Indique explicitamente el valor del **Estadístico de Contraste**.\n",
        "* Indique explicitamente la **Región Crítica**.\n",
        "* Indique explicitamente si **se acepta $H_0$** o **se rechaza $H_0$**.\n",
        "\n",
        "---\n",
        "\n",
        "1. Considerando solo los discursos realizados en  `region=Latin America & Caribbean` y `region=Western Europe` desde el año 2000 en adelante y solamente aquellos realizados en campaña (`speechtype = Campaign`). \n",
        "\n",
        "> a) Diseñe un contraste que permita evaluar la hipótesis de que \"*los discursos realizados por presidentes de izquierda (`lr = -1`) tienen un populismo (`rubricgrade`) promedio **distinto** en ambas regiones*\". Diseñe su contraste de manera que la probabilidad de aceptar incorrectamente esta conjetura sea menor al 5%. **(10 pts)**\n",
        "\n",
        "> b) Diseñe un contraste que permita evaluar la hipótesis de que \"*los discursos realizados por presidentes de centro (`lr = 0`) tienen un populismo (`rubricgrade`) promedio **distinto** en ambas regiones*\". Diseñe un contraste de manera que la probabilidad de aceptar incorrectamente esta conjetura sea menor al 5%. **(10 pts)**\n",
        "\n",
        "> c) Diseñe un contraste que permita evaluar la hipótesis de que \"*los discursos realizados por presidentes de derecha (`lr = 1`) tienen un populismo (`rubricgrade`) promedio **distinto** en ambas regiones*\". Diseñe un contraste de manera que la probabilidad de aceptar incorrectamente esta conjetura sea menor al 5%. **(10 pts)**\n",
        "\n",
        "2. Considerando solo los discursos realizados en Chile desde el año 2000 en adelante. Diseñe un contraste que permita evaluar la hipótesis de que \"*los discursos realizados por presidentes de izquierda (`lr = -1`) son **más populistas** (utilice `rubricgrade`) que los discursos realizados por presidentes de derecha (`lr = -1`)*\". Diseñe un contraste de manera que la probabilidad de aceptar incorrectamente esta conjetura sea menor al 5%.  **(10 pts)**\n",
        "\n",
        "3. En Chile, Michelle Bachelet y Sebastián Piñera han sido dos veces presidente de la república. Por esto, podría resultar interesante determinar si sus niveles de populismo (utilice `rubricgrade`) en sus discursos cambiaron en algo durante sus dos mandatos. \n",
        "\n",
        "> a) Ejecute un contraste donde $H_0$ corresponda a que \"*los discursos de \"Bachelet 1\" son **igual o más populistas** que los discursos de \"Bachelet 2\"* \". Considere $α =  5\\%$. **(15 pts)**\n",
        "\n",
        "> b) Ejecute un contraste donde $H_0$ corresponda a que \"*los discursos de \"Piñera 1\" son **igual o más populistas** que los discursos de \"Piñera 2\"* \". Considere $α =  5\\%$. **(15 pts)**\n",
        "\n",
        "4. En los últimos 20 años Argentina ha aumentado su nivel de pobreza, donde más del 25% de la población del país se encuentra en esta situación.\n",
        "\n",
        "> a) Diseñe un contraste que permita evaluar la hipótesis de que \"*el populismo (utilice `rubricgrade`) promedio en los discursos de presidentes argentinos es mayor a 0.5*\". Diseñe un contraste de manera que la probabilidad de aceptar incorrectamente esta conjetura sea menor al 5%. **(10 pts)**\n",
        "\n",
        "> b) Diseñe un contraste que permita evaluar la hipótesis de que \"*los discursos realizados por presidentes argentinos son más populistas que los discursos realizados por el resto de países de `region=Latin America & Caribbean`*\". Diseñe un contraste de manera que la probabilidad de aceptar incorrectamente esta conjetura sea menor al 5%  **(10 pts)**\n",
        "\n",
        "**Debido a los problemas con el dataset de la pregunta 5), se ha decidido eliminar dicha pregunta. Por esto, se otorgará un puntaje base de 20 pts.**"
      ]
    },
    {
      "cell_type": "markdown",
      "metadata": {
        "id": "vFF0FqDvxtos"
      },
      "source": [
        "# Ejemplo Test de Hipótesis:\n"
      ]
    },
    {
      "cell_type": "markdown",
      "metadata": {
        "id": "CbHQArrgxxfP"
      },
      "source": [
        "En un test de hipótesis, la hipótesis nula ($H_0$) corresponde al *status quo*, es decir, a lo que se \"cree que es lo normal\". En cambio, la hipótesis alternativa es lo que se \"sospecha\" que ocurre.\n",
        "\n",
        "\n",
        "\n"
      ]
    },
    {
      "cell_type": "markdown",
      "metadata": {
        "id": "4RV7wKSH5tNa"
      },
      "source": [
        "Ejemplo:\n",
        "\n",
        "Diseñe un contraste que permita evaluar la hipótesis de que \"la media de la población X es distinta a la media de la población Y\". Diseñe un contraste de manera que la probabilidad de aceptar incorrectamente esta conjetura sea menor al 5%.\n",
        "\n",
        "En este caso, se tiene que:\n",
        "* $H_0$: $μ_X = \\mu_Y$ (Corresponde a lo que se cree \"normal\")\n",
        "* $H_1$: $μ_X \\neq \\mu_Y$\n",
        "\n",
        "Además, se plantean de esta manera las hipótesis ya que \"aceptar incorrectamente la conjetura\" corresponde a un error tipo 1 (valor de $α$) y se sabe que siempre se debe acotar este tipo de error, pues es más grave que un error tipo 2."
      ]
    },
    {
      "cell_type": "markdown",
      "metadata": {
        "id": "wj6RsUmLxy8Y"
      },
      "source": [
        "# Respuestas"
      ]
    },
    {
      "cell_type": "markdown",
      "metadata": {
        "id": "gUYsU3wGFotS"
      },
      "source": [
        "#Pregunta 1\n",
        "\n",
        "Considerando solo los discursos realizados en  `region=Latin America & Caribbean` y `region=Western Europe` desde el año 2000 en adelante y solamente aquellos realizados en campaña (`speechtype = Campaign`). \n",
        "\n",
        "> a) Diseñe un contraste que permita evaluar la hipótesis de que \"*los discursos realizados por presidentes de izquierda (`lr = -1`) tienen un populismo (`rubricgrade`) promedio **distinto** en ambas regiones*\". Diseñe su contraste de manera que la probabilidad de aceptar incorrectamente esta conjetura sea menor al 5%. **(10 pts)**\n",
        "\n",
        "> b) Diseñe un contraste que permita evaluar la hipótesis de que \"*los discursos realizados por presidentes de centro (`lr = 0`) tienen un populismo (`rubricgrade`) promedio **distinto** en ambas regiones*\". Diseñe un contraste de manera que la probabilidad de aceptar incorrectamente esta conjetura sea menor al 5%. **(10 pts)**\n",
        "\n",
        "> c) Diseñe un contraste que permita evaluar la hipótesis de que \"*los discursos realizados por presidentes de derecha (`lr = 1`) tienen un populismo (`rubricgrade`) promedio **distinto** en ambas regiones*\". Diseñe un contraste de manera que la probabilidad de aceptar incorrectamente esta conjetura sea menor al 5%. **(10 pts)**"
      ]
    },
    {
      "cell_type": "markdown",
      "source": [
        "Para empezar iniciemos creando la hipotesis, la cual es\n",
        "\n",
        "\n",
        "\n",
        "$H_0$: $μ_L$ $=$  $μ_E$\n",
        "\n",
        "$H_1$: $μ_L$ $\\not =$ $μ_E$\n",
        "\n",
        "Estas hipotesis son iguales para las tres casos, solo que cambia que los presidentes son de izquieda, centro o derecha"
      ],
      "metadata": {
        "id": "mo0eyv_jguAp"
      }
    },
    {
      "cell_type": "code",
      "execution_count": null,
      "metadata": {
        "colab": {
          "base_uri": "https://localhost:8080/"
        },
        "id": "YNxtxPEuxyb6",
        "outputId": "23ce4fd5-fdde-43ec-822b-c706b52559d8"
      },
      "outputs": [
        {
          "output_type": "stream",
          "name": "stdout",
          "text": [
            "\n",
            "Como resultado se obtienen los siguientes valores:\n",
            "\n",
            "     Z0                                                         región crítica                                                           p-value\n",
            "\n",
            "(0.6357399377546483, [Interval(-inf, -1.9670282846690177, closed='neither'), Interval(1.9670282846690172, inf, closed='neither')], 0.5253774161703222)\n"
          ]
        }
      ],
      "source": [
        "from scipy.stats import t  \n",
        "#Parte a\n",
        "\n",
        "muestra = data[(data['region'] == 'Latin America & Caribbean')| (data['region'] == 'Western Europe')]\n",
        "muestra = muestra[muestra['speechtype'] =='Campaign']\n",
        "\n",
        "Izq_Lat = muestra[(muestra['region'] == 'Latin America & Caribbean')| (muestra['lr'] == -1)]\n",
        "Izq_Lat = Izq_Lat[Izq_Lat['rubricgrade'].notnull()]\n",
        "Izq_Lat = Izq_Lat['rubricgrade']\n",
        "\n",
        "Izq_Eu = muestra[(muestra['region'] == 'Western Europe') | (data['lr'] == -1)]\n",
        "Izq_Eu = Izq_Eu[Izq_Eu['rubricgrade'].notnull()]\n",
        "Izq_Eu = Izq_Eu['rubricgrade']\n",
        "#Parametros Latino\n",
        "N_Izq_Lat = len(Izq_Lat)\n",
        "media_Izq_Lat = np.mean(Izq_Lat)\n",
        "std_Izq_Lat = np.std(Izq_Lat)\n",
        "#Parametros Europa\n",
        "N_Izq_Eu = len(Izq_Eu)\n",
        "media_Izq_Eu = np.mean(Izq_Eu)\n",
        "std_Izq_Eu = np.std(Izq_Eu)\n",
        "\n",
        "\n",
        "Contraste_Izq = contrate_2medias(N_Izq_Lat,N_Izq_Eu,media_Izq_Lat,media_Izq_Eu,std_Izq_Lat,std_Izq_Eu,0.05,alternativa='1=2')\n",
        "\n",
        "print(\"\\nComo resultado se obtienen los siguientes valores:\\n\")\n",
        "print(\"     Z0                                                         región crítica                                                           p-value\\n\")\n",
        "print(Contraste_Izq)"
      ]
    },
    {
      "cell_type": "markdown",
      "source": [],
      "metadata": {
        "id": "fObHUtabfo6E"
      }
    },
    {
      "cell_type": "markdown",
      "metadata": {
        "id": "VXED0PesfBB4"
      },
      "source": [
        "a)\n",
        "\n",
        "Como se puede observar, no se tiene la evidencia suficiente para poder rechazar $H_0$, esto se debe a que el estadistico no esta dentro de la región crítica, por lo tanto se puede tomar en cuenta que los discursos realizados por presidentes de izquierda tienen un populismo similar en las dos regiones. "
      ]
    },
    {
      "cell_type": "code",
      "execution_count": null,
      "metadata": {
        "colab": {
          "base_uri": "https://localhost:8080/"
        },
        "id": "MRQVKlPecj0-",
        "outputId": "a296694b-9c61-484a-daf7-15a66f7fabb9"
      },
      "outputs": [
        {
          "output_type": "stream",
          "name": "stdout",
          "text": [
            "\n",
            "Como resultado se obtienen los siguientes valores:\n",
            "\n",
            "     Z0                                                         región crítica                                                           p-value\n",
            "\n",
            "(5.367953557095783, [Interval(-inf, -1.968821974103945, closed='neither'), Interval(1.9688219741039445, inf, closed='neither')], 1.7212752112527596e-07)\n"
          ]
        }
      ],
      "source": [
        "#Parte B\n",
        "Cen_Lat = muestra[(muestra['region'] == 'Latin America & Caribbean')| (muestra['lr'] == 0)]\n",
        "Cen_Lat = Cen_Lat[Cen_Lat['rubricgrade'].notnull()]\n",
        "Cen_Lat = Cen_Lat['rubricgrade']\n",
        "\n",
        "\n",
        "Cen_Eu = muestra[(muestra['region'] == 'Western Europe') | (data['lr'] == 0)]\n",
        "Cen_Eu = Cen_Eu[Cen_Eu['rubricgrade'].notnull()]\n",
        "Cen_Eu = Cen_Eu['rubricgrade']\n",
        "#Parametros Latino\n",
        "N_Cen_Lat = len(Cen_Lat)\n",
        "media_Cen_Lat = np.mean(Cen_Lat)\n",
        "std_Cen_Lat = np.std(Cen_Lat)\n",
        "#Parametros Europa\n",
        "N_Cen_Eu = len(Cen_Eu)\n",
        "media_Cen_Eu = np.mean(Cen_Eu)\n",
        "std_Cen_Eu = np.std(Cen_Eu)\n",
        "\n",
        "\n",
        "Contraste_Cen = contrate_2medias(N_Cen_Lat,N_Cen_Eu,media_Cen_Lat,media_Cen_Eu,std_Cen_Lat,std_Cen_Eu,0.05,alternativa='1=2')\n",
        "\n",
        "print(\"\\nComo resultado se obtienen los siguientes valores:\\n\")\n",
        "print(\"     Z0                                                         región crítica                                                           p-value\\n\")\n",
        "print(Contraste_Cen)\n",
        "\n",
        "\n"
      ]
    },
    {
      "cell_type": "markdown",
      "metadata": {
        "id": "n6kErCatnHTL"
      },
      "source": [
        "b)\n",
        "\n",
        "Como se puede ver en lo obtenido $Z_0$, se encuentra en la zona critica, por lo que tenemos suficiente evidencia para rechazar $H_0$. Una vez analizado lo anterior se puede saber que la hipotesis que toma validez es la que tiene nuestro interes la cual es que los discursos realizados por presidentes de centro tienen un populismo distinto en las dos regiones.\n",
        "\n",
        "Por otro lado se tiene el p-value, el cual es el valor minimo del error 1 para el cual poder rechazar $H_0$ y de esa manera aceptar la hipotesis alternativa, si el error 1 es menor al p-value, entonces el rechazo de $H_0$ no se podrá hacer, en caso de que el error 1 sea igual al p_value se va a poder visualizar que para los intervalos de rechazo se tiene lo siguiente [(-inf , $Z_0$),($Z_0$ , inf)]. En este caso se puede observar que el p-value es muy pequeño, por lo que se puede concluir que es poco probable que se rechace $H_0$ incorrectamente.\n"
      ]
    },
    {
      "cell_type": "code",
      "execution_count": null,
      "metadata": {
        "colab": {
          "base_uri": "https://localhost:8080/"
        },
        "id": "Usdk_D1SeM7L",
        "outputId": "304ed8ae-c0d1-45d9-d88d-66a44898c935"
      },
      "outputs": [
        {
          "output_type": "stream",
          "name": "stdout",
          "text": [
            "\n",
            "Como resultado se obtienen los siguientes valores:\n",
            "\n",
            "     Z0                                                         región crítica                                                           p-value\n",
            "\n",
            "(4.414566642893978, [Interval(-inf, -1.96742838690215, closed='neither'), Interval(1.9674283869021496, inf, closed='neither')], 1.3870836741425308e-05)\n"
          ]
        }
      ],
      "source": [
        "#Parte C\n",
        "\n",
        "Der_Lat = muestra[(muestra['region'] == 'Latin America & Caribbean')| (muestra['lr'] == 1)]\n",
        "Der_Lat = Der_Lat[Der_Lat['rubricgrade'].notnull()]\n",
        "Der_Lat = Der_Lat['rubricgrade']\n",
        "\n",
        "Der_Eu = muestra[(muestra['region'] == 'Western Europe') | (data['lr'] == 1)]\n",
        "Der_Eu = Der_Eu[Der_Eu['rubricgrade'].notnull()]\n",
        "Der_Eu = Der_Eu['rubricgrade']\n",
        "\n",
        "#Parametros Latino\n",
        "N_Der_Lat = len(Der_Lat)\n",
        "media_Der_Lat = np.mean(Der_Lat)\n",
        "std_Der_Lat = np.std(Der_Lat)\n",
        "#Parametros Europa\n",
        "N_Der_Eu = len(Der_Eu)\n",
        "media_Der_Eu = np.mean(Der_Eu)\n",
        "std_Der_Eu = np.std(Der_Eu)\n",
        "\n",
        "Contraste_Der = contrate_2medias(N_Der_Lat,N_Der_Eu,media_Der_Lat,media_Der_Eu,std_Der_Lat,std_Der_Eu,0.05,alternativa='1=2')\n",
        "\n",
        "print(\"\\nComo resultado se obtienen los siguientes valores:\\n\")\n",
        "print(\"     Z0                                                         región crítica                                                           p-value\\n\")\n",
        "print(Contraste_Der)\n"
      ]
    },
    {
      "cell_type": "markdown",
      "metadata": {
        "id": "KSKuGw5Doa3Q"
      },
      "source": [
        "c) \n",
        "\n",
        "Como se puede ver en lo obtenido $Z_0$, se encuentra en la zona critica, por lo que tenemos suficiente evidencia para rechazar $H_0$. Una vez que se pueda ver lo anterior, se sabe que la hipotesis que toma validez es la que tiene nuestro interés la cual es que los discursos realizados por presidentes de derecha tienen un populismo distinto en las dos regiones.\n",
        "\n",
        "Al respecto del p-value, al igual que los discursos de los presidentes de centro, se puede observar que este valor es muy pequeño, por lo que se concluye que estadisticamente es muy poco probable que se rechace $H_0$ de manera incorrecta"
      ]
    },
    {
      "cell_type": "markdown",
      "metadata": {
        "id": "C44aP_LAF248"
      },
      "source": [
        "#Pregunta 2\n",
        "\n",
        "Considerando solo los discursos realizados en Chile desde el año 2000 en adelante. Diseñe un contraste que permita evaluar la hipótesis de que \"*los discursos realizados por presidentes de izquierda (`lr = -1`) son **más populistas** (utilice `rubricgrade`) que los discursos realizados por presidentes de derecha (`lr = -1`)*\". Diseñe un contraste de manera que la probabilidad de aceptar incorrectamente esta conjetura sea menor al 5%.  **(10 pts)**"
      ]
    },
    {
      "cell_type": "markdown",
      "metadata": {
        "id": "ugABNVohJ2vx"
      },
      "source": [
        "Supongamos por hipótesis nula $H_{o}$ que _Los discursos realizados por presidentes de izquierda son __igual__ de populistas que los discursos realizados por presidentes de derecha_. Así, la hipótesis alternativa $H_{1}$ será que _Los discursos realizados por presidentes de izquierda son __más__ de populistas que los discursos realizados por presidentes de derecha_. Es decir, considerando el contraste mediante hipótesis unilateal y comparando por diferencia de medias con varianza desconocida, esto será: <br>\n",
        "$\\hspace{9cm} H_o :\\hspace{2cm}\\mu_{izq} = \\mu_{der}$<br>$\\hspace{9cm} H_1 :\\hspace{2cm}\\mu_{izq} > \\mu_{der}$<br><br>\n",
        "Abordemos el problema para que el error tipo 1 sea del 5%: "
      ]
    },
    {
      "cell_type": "code",
      "execution_count": null,
      "metadata": {
        "colab": {
          "base_uri": "https://localhost:8080/"
        },
        "id": "7uiJGGt5J5sg",
        "outputId": "f0495ba2-e86b-4e84-b98c-a0a94d856fa9"
      },
      "outputs": [
        {
          "output_type": "stream",
          "name": "stdout",
          "text": [
            "\n",
            "Obtenemos los siguientes valores:\n",
            "\n",
            "     Z0                           región crítica                                    p-value\n",
            "\n",
            "(0.44547192501661115, [Interval(1.6882977108049164, inf, closed='neither')], 0.32932309676164273)\n"
          ]
        }
      ],
      "source": [
        "error_t1 = 0.05 #alpha\n",
        "\n",
        "#Muestra considerada eliminando datos desconocidos\n",
        "muestra = data[data[\"country\"]==\"Chile\"][data[\"yearbegin\"]>=2000][data[\"president\"]==1][(data[\"lr\"]==-1)|(data[\"lr\"]==1)].dropna()\n",
        "muestra_p_izq = muestra[muestra[\"lr\"]==-1]\n",
        "muestra_p_der = muestra[muestra[\"lr\"]==1]\n",
        "\n",
        "#Media\n",
        "media_izq = muestra_p_izq[\"rubricgrade\"].mean()\n",
        "media_der = muestra_p_der[\"rubricgrade\"].mean()\n",
        "\n",
        "#Desviación estandar\n",
        "desv_izq = muestra_p_izq[\"rubricgrade\"].std()\n",
        "desv_der = muestra_p_der[\"rubricgrade\"].std()\n",
        "\n",
        "#Cantidad de datos\n",
        "n_izq = len(muestra_p_izq)\n",
        "n_der = len(muestra_p_der)\n",
        "\n",
        "#Presentación de datos\n",
        "Contraste = contrate_2medias(n_izq,n_der,media_izq,media_der,desv_izq,desv_der,error_t1,'1>2') \n",
        "print(\"\\nObtenemos los siguientes valores:\\n\")\n",
        "print(\"     Z0                           región crítica                                    p-value\\n\")\n",
        "print(Contraste)\n"
      ]
    },
    {
      "cell_type": "code",
      "source": [],
      "metadata": {
        "id": "k9qczUEJkwMA"
      },
      "execution_count": null,
      "outputs": []
    },
    {
      "cell_type": "markdown",
      "metadata": {
        "id": "WCQ2lz3HT3LN"
      },
      "source": [
        "Dado entonces a que el estadístico es $T_{o}$= 0.445472 no tenemos suficiente evidencia para rechazar la hipótesis nula, pues notemos que el valor límite del intervalo crítico: $t_{n_{X}+n_{Y}-2}^{\\alpha}$ = 1.688298 es superior al estadístico obtenido.\n",
        "\n",
        "Ahora bien, veamos que el p-value será:<br>\n",
        "$\\hspace{10cm} P = P(T>0.445) = 0.33$<br><br>\n",
        "Es decir, la probabilidad de que el estadístico sea mayor a $T_{o}$ es de un $33$%. No es evidencia fuerte para rechazar la hipótesis. \n"
      ]
    },
    {
      "cell_type": "markdown",
      "metadata": {
        "id": "y9MvqJnYGDL5"
      },
      "source": [
        "#Pregunta 3\n",
        "\n",
        "En Chile, Michelle Bachelet y Sebastián Piñera han sido dos veces presidente de la república. Por esto, podría resultar interesante determinar si sus niveles de populismo (utilice `rubricgrade`) en sus discursos cambiaron en algo durante sus dos mandatos. \n",
        "\n",
        "> a) Ejecute un contraste donde $H_0$ corresponda a que \"*los discursos de \"Bachelet 1\" son **igual o más populistas** que los discursos de \"Bachelet 2\"* \". Considere $α =  5\\%$. **(15 pts)**\n",
        "\n",
        "> b) Ejecute un contraste donde $H_0$ corresponda a que \"*los discursos de \"Piñera 1\" son **igual o más populistas** que los discursos de \"Piñera 2\"* \". Considere $α =  5\\%$. **(15 pts)**"
      ]
    },
    {
      "cell_type": "markdown",
      "metadata": {
        "id": "UQ7b-v0W2S1q"
      },
      "source": [
        "a) Para esta pregunta, tendremos que nuestra hipótesis es la siguiente:\n",
        "\n",
        "+ $ H_0 $ = Los discursos de Bachelet 1 son igual o más populistas que el de Bachelet 2\n",
        "\n",
        "+ $ H_1 $ = Los discursos de Bachelet 1 son menos populistas que el de Bachelet 2"
      ]
    },
    {
      "cell_type": "code",
      "execution_count": null,
      "metadata": {
        "id": "PpnRdbI5GNG7"
      },
      "outputs": [],
      "source": [
        "# Lee los datos desde el dataset\n",
        "data = pd.read_csv(\"gpd_v2_20220427.csv\")\n",
        "\n",
        "# Filtra por el presidente 'Michele Bachelet'\n",
        "data_bachelet = data[data['leader'] == 'Michelle Bachelet']\n",
        "data_bachelet = data_bachelet[['leader', 'yearbegin', 'rubricgrade']]\n",
        "data_bachelet.dropna()\n",
        "\n",
        "# Filtra por el índice de populismo (0-2)\n",
        "data_bachelet_populism = data_bachelet.rubricgrade"
      ]
    },
    {
      "cell_type": "markdown",
      "metadata": {
        "id": "DFma5b-p2XFk"
      },
      "source": [
        "Para suplir nuestra falta de conocimiento general y para más certeza, usamos Python para saber en que años la presidenta asumió el mandato, para así poder corroborar que tuvo dos periodos presidenciales y para saber como filtrar los datos."
      ]
    },
    {
      "cell_type": "code",
      "execution_count": null,
      "metadata": {
        "colab": {
          "base_uri": "https://localhost:8080/"
        },
        "id": "bdjnBXjx2Yc6",
        "outputId": "ccfce145-be55-4a3c-fe26-93ed9c81791c"
      },
      "outputs": [
        {
          "output_type": "stream",
          "name": "stdout",
          "text": [
            "[2014 2006]\n"
          ]
        }
      ],
      "source": [
        "column_list = data_bachelet.columns.values.tolist()\n",
        "print(data_bachelet['yearbegin'].unique())"
      ]
    },
    {
      "cell_type": "markdown",
      "metadata": {
        "id": "lC66aAg32aIC"
      },
      "source": [
        "Ahora usamos un contraste de 2 medias con alternativa bilateral, usando el $\\alpha = 0.05$"
      ]
    },
    {
      "cell_type": "code",
      "execution_count": null,
      "metadata": {
        "colab": {
          "base_uri": "https://localhost:8080/"
        },
        "id": "wOVuIuf52biu",
        "outputId": "7064609b-7db0-4a0c-d480-c0a7e59560e3"
      },
      "outputs": [
        {
          "output_type": "stream",
          "name": "stdout",
          "text": [
            "El n de el primer y segundo periodo presidencial de Bachelet\n",
            "   n1 = 16\n",
            "   n2 = 16\n",
            "La media entre el primer y segundo periodo presidencial de Bachelet\n",
            "   media1 = 0.0\n",
            "   media2 = 0.2333333333333333\n",
            "La desviación estándar entre el primer y segundo periodo presidencial de Bachelet\n",
            "   std1 = 0.0\n",
            "   std2 = 0.1885618083164127\n",
            "Nuestro alpha\n",
            "   a = 0.05\n",
            "Contraste de H0\n",
            "\n",
            "Obtenemos los siguientes valores:\n",
            "\n",
            "     Z0                           región crítica                                    p-value\n",
            "\n",
            "    (-4.949747468305832, [Interval(1.7530503556925547, inf, closed='neither')], 0.9999127035584517)\n"
          ]
        }
      ],
      "source": [
        "# Filtramos los datos por las fechas de mandato\n",
        "data_bachelet_2014 = data_bachelet[data_bachelet['yearbegin'] == 2014]\n",
        "data_bachelet_2006 = data_bachelet[data_bachelet['yearbegin'] == 2006]\n",
        "data_bachelet_2014_populism = data_bachelet_2014['rubricgrade']\n",
        "data_bachelet_2006_populism = data_bachelet_2006['rubricgrade']\n",
        "\n",
        "# Obtenemos la poblacion para cada grupo\n",
        "print(\"El n de el primer y segundo periodo presidencial de Bachelet\")\n",
        "n1 = len(data_bachelet_2006_populism)\n",
        "n2 = len(data_bachelet_2014_populism)\n",
        "print(\"   n1 =\", n1)\n",
        "print(\"   n2 =\", n2)\n",
        "\n",
        "# Obtenemos la media para cada grupo\n",
        "print(\"La media entre el primer y segundo periodo presidencial de Bachelet\")\n",
        "media1 = data_bachelet_2006_populism.mean()\n",
        "media2 = data_bachelet_2014_populism.mean()\n",
        "print(\"   media1 =\", media1)\n",
        "print(\"   media2 =\", media2)\n",
        "\n",
        "# Obtenemos la desviación estándar\n",
        "print(\"La desviación estándar entre el primer y segundo periodo presidencial de Bachelet\")\n",
        "std1 = np.std(data_bachelet_2006_populism)\n",
        "std2 = np.std(data_bachelet_2014_populism)\n",
        "print(\"   std1 =\", std1)\n",
        "print(\"   std2 =\", std2)\n",
        "\n",
        "# Mostramos el alpha pedido\n",
        "print(\"Nuestro alpha\")\n",
        "error_tipo1 = 0.05\n",
        "print(\"   a =\", error_tipo1)\n",
        "\n",
        "# Calculamos el contraste\n",
        "print(\"Contraste de H0\")\n",
        "\n",
        "print(\"\\nObtenemos los siguientes valores:\\n\")\n",
        "print(\"     Z0                           región crítica                                    p-value\\n\")\n",
        "contraste_h0 = contrate_2medias(n1,n2,media1,media2,std1,std2,error_tipo1,alternativa='1>2')\n",
        "print(\"   \", contraste_h0)"
      ]
    },
    {
      "cell_type": "markdown",
      "metadata": {
        "id": "QuoJ4kR8igUT"
      },
      "source": [
        "Nuestra hipótesis inicial $H_0$ era que los discursos de la presidenta eran más populistas en su primer periodo en relación al segundo. Podemos ver que en el contraste que realizamos, que nuestro $Z_0$ = $-4.94$ está fuera de la *región crítica* = $[1.753,∞]$, lo cuál puede ser un indicio de que la hipótesis es correcta. Luego, vemos el *p-value*, el cuál representa el error mínimo que debe tomar $\\alpha$ para poder rechazar, en este caso es evidente que está muy alejado del $\\alpha$ que usamos. Como no tenemos argumentos para rechazar, podemos decir que nuestra Hipótesis puede ser correcta."
      ]
    },
    {
      "cell_type": "markdown",
      "metadata": {
        "id": "8TPkzdKip3yD"
      },
      "source": [
        "b) Para esta pregunta, repetimos el mísmo procesoq que en el punto anterior:\n",
        "\n",
        "+ $ H_0 $ = Los discursos de Piñera 1 son igual o más populistas que el de Piñera 2\n",
        "\n",
        "+ $ H_1 $ = Los discursos de Piñera 1 son menos populistas que el de Piñera 2"
      ]
    },
    {
      "cell_type": "code",
      "execution_count": null,
      "metadata": {
        "colab": {
          "base_uri": "https://localhost:8080/"
        },
        "id": "s2DmgdCcqDwD",
        "outputId": "b10d3c98-4d7f-4a7b-8004-c3d576cb0fab"
      },
      "outputs": [
        {
          "output_type": "stream",
          "name": "stdout",
          "text": [
            "Los diferentes periodos de Piñera\n",
            "   T = [2018 2010]\n"
          ]
        }
      ],
      "source": [
        "# Filtra por el presidente 'Sebastián Piñera'\n",
        "data_pinera = data[data['leader'] == 'Sebastian Pinera']\n",
        "data_pinera = data_pinera[['leader', 'yearbegin', 'rubricgrade']]\n",
        "data_pinera.dropna()\n",
        "\n",
        "# Filtra por el índice de populismo (0-2)\n",
        "data_pinera_populism = data_pinera.rubricgrade\n",
        "\n",
        "# Busca los distintos periodos de Piñera\n",
        "column_list = data_pinera.columns.values.tolist()\n",
        "print(\"Los diferentes periodos de Piñera\")\n",
        "print(\"   T =\", data_pinera['yearbegin'].unique())"
      ]
    },
    {
      "cell_type": "code",
      "execution_count": null,
      "metadata": {
        "colab": {
          "base_uri": "https://localhost:8080/"
        },
        "id": "ILz3Q3jirGSL",
        "outputId": "73cbe5dd-2978-49b6-d390-dcbdf9cacb21"
      },
      "outputs": [
        {
          "output_type": "stream",
          "name": "stdout",
          "text": [
            "El n de el primer y segundo periodo presidencial de Piñera\n",
            "   n1 = 16\n",
            "   n2 = 16\n",
            "La media entre el primer y segundo periodo presidencial de Piñera\n",
            "   media1 = 0.0\n",
            "   media2 = 0.15\n",
            "La desviación estándar entre el primer y segundo periodo presidencial de Piñera\n",
            "   std1 = 0.0\n",
            "   std2 = 0.206155281280883\n",
            "Nuestro alpha\n",
            "   a = 0.05\n",
            "Contraste de H0\n",
            "\n",
            "Obtenemos los siguientes valores:\n",
            "\n",
            "     Z0                           región crítica                                    p-value\n",
            "\n",
            "    (-2.910427500435996, [Interval(1.7530503556925547, inf, closed='neither')], 0.9946177121196285)\n"
          ]
        }
      ],
      "source": [
        "# Filtramos los datos por las fechas de mandato\n",
        "data_pinera_2010 = data_pinera[data_pinera['yearbegin'] == 2010]\n",
        "data_pinera_2018 = data_pinera[data_pinera['yearbegin'] == 2018]\n",
        "data_pinera_2010_populism = data_pinera_2010['rubricgrade']\n",
        "data_pinera_2018_populism = data_pinera_2018['rubricgrade']\n",
        "data_pinera_2010.dropna()\n",
        "data_pinera_2018.dropna()\n",
        "\n",
        "# Obtenemos la poblacion para cada grupo\n",
        "print(\"El n de el primer y segundo periodo presidencial de Piñera\")\n",
        "n1 = len(data_pinera_2010)\n",
        "n2 = len(data_pinera_2018)\n",
        "print(\"   n1 =\", n1)\n",
        "print(\"   n2 =\", n2)\n",
        "\n",
        "# Obtenemos la media para cada grupo\n",
        "print(\"La media entre el primer y segundo periodo presidencial de Piñera\")\n",
        "media1 = data_pinera_2010_populism.mean()\n",
        "media2 = data_pinera_2018_populism.mean()\n",
        "print(\"   media1 =\", media1)\n",
        "print(\"   media2 =\", media2)\n",
        "\n",
        "# Obtenemos la desviación estándar\n",
        "print(\"La desviación estándar entre el primer y segundo periodo presidencial de Piñera\")\n",
        "std1 = np.std(data_pinera_2010_populism)\n",
        "std2 = np.std(data_pinera_2018_populism)\n",
        "print(\"   std1 =\", std1)\n",
        "print(\"   std2 =\", std2)\n",
        "\n",
        "# Mostramos el alpha pedido\n",
        "print(\"Nuestro alpha\")\n",
        "error_tipo1 = 0.05\n",
        "print(\"   a =\", error_tipo1)\n",
        "\n",
        "# Calculamos el contraste\n",
        "print(\"Contraste de H0\")\n",
        "\n",
        "print(\"\\nObtenemos los siguientes valores:\\n\")\n",
        "print(\"     Z0                           región crítica                                    p-value\\n\")\n",
        "contraste_h0 = contrate_2medias(n1,n2,media1,media2,std1,std2,error_tipo1,alternativa='1>2')\n",
        "print(\"   \", contraste_h0)"
      ]
    },
    {
      "cell_type": "markdown",
      "metadata": {
        "id": "wPxUqQhbtqhD"
      },
      "source": [
        "Nuestra hipótesis inicial $H_0$ era que los discursos del presidente eran más populistas en su primer periodo en relación al segundo. Podemos ver que en el contraste que realizamos, que nuestro $Z_0$ = $-4.94$ está fuera de la *región crítica* = $[1.753,∞]$, lo cuál puede ser un indicio de que la hipótesis es correcta. Luego, vemos el *p-value*, el cuál representa el error mínimo que debe tomar $\\alpha$ para poder rechazar, en este caso es evidente que está muy alejado del $\\alpha$ que usamos. Como no tenemos argumentos para rechazar, podemos decir que nuestra Hipótesis puede ser correcta."
      ]
    },
    {
      "cell_type": "markdown",
      "metadata": {
        "id": "l8vOU_a1GOHd"
      },
      "source": [
        "#Pregunta 4\n",
        "\n",
        "En los últimos 20 años Argentina ha aumentado su nivel de pobreza, donde más del 25% de la población del país se encuentra en esta situación.\n",
        "\n",
        "> a) Diseñe un contraste que permita evaluar la hipótesis de que \"*el populismo (utilice `rubricgrade`) promedio en los discursos de presidentes argentinos es mayor a 0.5*\". Diseñe un contraste de manera que la probabilidad de aceptar incorrectamente esta conjetura sea menor al 5%. **(10 pts)**\n",
        "\n",
        "> b) Diseñe un contraste que permita evaluar la hipótesis de que \"*los discursos realizados por presidentes argentinos son más populistas que los discursos realizados por el resto de países de `region=Latin America & Caribbean`*\". Diseñe un contraste de manera que la probabilidad de aceptar incorrectamente esta conjetura sea menor al 5%  **(10 pts)**"
      ]
    },
    {
      "cell_type": "markdown",
      "metadata": {
        "id": "AZzLINCov2aP"
      },
      "source": [
        "Como supuesto se va a tomar los discursos hechos entre 2000 y 2022, para las dos preguntas, esta aclaración se hace por la contextualización de la pregunta. \n",
        "Ademas se tiene que $H_0$ sea que los discursos realizados por presidentes argentinos son igual o menor a 0.5 y el caribe. Por lo que $H_1$ es igual a que los discursos argentinos son mas populistas que 0.5\n",
        "\n",
        "a) \n",
        "\n",
        "El contraste evaluado para evaluar la hipotesis que se utilizará, va a ser el Test de una media con varianza desconocida. Con lo que se obtiene:\n",
        "\n",
        "$H_0$: popArg $\\leqslant$ 0.5\n",
        "\n",
        "$H_1$: popArg $>$ 0.5"
      ]
    },
    {
      "cell_type": "code",
      "execution_count": null,
      "metadata": {
        "colab": {
          "base_uri": "https://localhost:8080/"
        },
        "id": "lWFz0X6jGbXV",
        "outputId": "60f52094-f72e-4b1c-daa4-c03d085a4a1a"
      },
      "outputs": [
        {
          "output_type": "stream",
          "name": "stdout",
          "text": [
            "\n",
            "Como resultado se obtienen los siguientes valores:\n",
            "\n",
            "     Z0                                 región crítica                              p-value\n",
            "\n",
            "(-0.48603649954805606, [Interval(1.669013024840352, inf, closed='neither')], 0.6856993326586565)\n"
          ]
        }
      ],
      "source": [
        "Arg = data[data['country'] == 'Argentina']\n",
        "Arg = Arg[Arg['rubricgrade'].notnull()]\n",
        "Arg = Arg['rubricgrade']\n",
        "\n",
        "N_Arg = len(Arg)\n",
        "std_Arg = np.std(Arg)\n",
        "media_Arg = np.mean(Arg)\n",
        "\n",
        "Con_Arg = contrate_1media(N_Arg,media_Arg,std_Arg,0.5,0.05,alternativa='1>0')\n",
        "\n",
        "\n",
        "print(\"\\nComo resultado se obtienen los siguientes valores:\\n\")\n",
        "print(\"     Z0                                 región crítica                              p-value\\n\")\n",
        "print(Con_Arg)\n",
        "\n"
      ]
    },
    {
      "cell_type": "markdown",
      "metadata": {
        "id": "eO3DQ7eT95LJ"
      },
      "source": [
        "Con los resultados obtenidos, no se tiene la evidencia suficiente para poder rechazar $H_0$, esto se debe a que el estadistico no esta dentro de la región crítica, por lo que se puede decir que el populismo promedio en los discursos de presidentes argentinos es menor o igual a 0.5 entre los años del 2000 al 2022"
      ]
    },
    {
      "cell_type": "markdown",
      "metadata": {
        "id": "Q9OktY1i_hBz"
      },
      "source": [
        "b)\n",
        "\n",
        "Tomemos como supuesto que $H_0$ sea que los discursos realizados por presidentes argentinos son igual o menos populistas que los discursos realizados por el resto de países de la region Latino America y el caribe. Por lo que $H_1$ es igual a que los discursos argentinos son mas populistas que en los otros paises de la region Latino America y el caribe.\n",
        "\n",
        "Para este caso el contraste utilizado va a ser el Test de dos medias con varianzas desconocidas\n",
        "\n",
        "$H_0$: $\\mu$popArg $\\leqslant$ $\\mu$popLat\n",
        "\n",
        "$H_1$: $\\mu$popArg $>$ $\\mu$popLat"
      ]
    },
    {
      "cell_type": "code",
      "execution_count": null,
      "metadata": {
        "colab": {
          "base_uri": "https://localhost:8080/"
        },
        "id": "b1m658P_ATyy",
        "outputId": "ed369b18-eda6-4ba6-9827-76aabdfad11a"
      },
      "outputs": [
        {
          "output_type": "stream",
          "name": "stdout",
          "text": [
            "\n",
            "Como resultado se obtienen los siguientes valores:\n",
            "\n",
            "     Z0                                 región crítica                              p-value\n",
            "\n",
            "(-0.27015369791507815, [Interval(1.6648845371855607, inf, closed='neither')], 0.6061176182944319)\n"
          ]
        }
      ],
      "source": [
        "Lat = data[data['region'] == 'Latin America & Caribbean']\n",
        "Lat = Lat[Lat['country'] != 'Argentina']\n",
        "Lat = Lat[Lat['rubricgrade'].notnull()]\n",
        "Lat = Lat['rubricgrade']\n",
        "\n",
        "N_Lat = len(Lat)\n",
        "std_Lat = np.std(Lat)\n",
        "media_Lat = np.mean(Lat)\n",
        "\n",
        "Con_Diff = contrate_2medias(N_Arg,N_Lat,media_Arg,media_Lat,std_Arg,std_Lat,0.05,alternativa='1>2')\n",
        "\n",
        "\n",
        "print(\"\\nComo resultado se obtienen los siguientes valores:\\n\")\n",
        "print(\"     Z0                                 región crítica                              p-value\\n\")\n",
        "print(Con_Diff)"
      ]
    },
    {
      "cell_type": "markdown",
      "metadata": {
        "id": "P7crzashCvo8"
      },
      "source": [
        "Dado que el estadistico de contraste no esta dentro de la región crítica, no hay evidencia suficiente para poder rechazar $H_0$, por lo que se podría decir que los discursos realizados por presidentes argentinos son menos o igual de populistas que los discursos realizados por el resto de países de la region Latino America y el Caribe entre los años del 2000 al 2022"
      ]
    },
    {
      "cell_type": "markdown",
      "metadata": {
        "id": "rtzQ0flYCqTX"
      },
      "source": [
        "# Disclaimer "
      ]
    },
    {
      "cell_type": "markdown",
      "metadata": {
        "id": "ETP4g7kTCmOd"
      },
      "source": [
        "Los datos aquí utilizados fueron obtenidos usando la metodología detallada en [1] y por lo tanto no necesariamente reflejan la opinión de los profesores o ayudantes de este curso. Cualquier alusión a personas o países es meramente circustancial y tiene sólo fines pedagógicos. Todo público puede acceder a los datos en [2] \n",
        "\n",
        "[1] Hawkins, K. A., Aguilar, R., Silva, B. C., Jenne, E. K., Kocijan, B., & Kaltwasser, C. R. (2019, June). Measuring populist discourse: The global populism database. In EPSA Annual Conference in Belfast, UK, June (pp. 20-22).\n",
        "\n",
        "[2] Hawkins, Kirk A.; Aguilar, Rosario; Castanho Silva, Bruno; Jenne, Erin K.; Kocijan, Bojana; Rovira Kaltwasser, Cristóbal, 2019, \"Global Populism Database\", https://doi.org/10.7910/DVN/LFTQEZ, Harvard Dataverse, V2"
      ]
    },
    {
      "cell_type": "markdown",
      "source": [
        "# Código de Honor UTFSM\n",
        "La realización de este taller de adhiere al código de honor de la Universidad Federico Santa María."
      ],
      "metadata": {
        "id": "jT1brTHZouz9"
      }
    }
  ],
  "metadata": {
    "colab": {
      "provenance": []
    },
    "kernelspec": {
      "display_name": "Python 3",
      "name": "python3"
    },
    "language_info": {
      "name": "python"
    }
  },
  "nbformat": 4,
  "nbformat_minor": 0
}