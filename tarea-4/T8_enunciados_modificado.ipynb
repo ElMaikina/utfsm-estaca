{
  "cells": [
    {
      "cell_type": "markdown",
      "metadata": {
        "id": "KJ3CH3gFtttD"
      },
      "source": [
        "<hr style=\"height:2px;border:none\"/>\n",
        "<h1 align='center'> INF-280 Estadística Computacional II-2022 </h1>\n",
        "\n",
        "<H3 align='center'> Tema 8 - Test de Hipótesis  </H3>\n",
        "\n",
        "\\\n",
        "\n",
        "\n",
        "Nombre del equipo: \n",
        "\n",
        "Integrantes:\n",
        "\n",
        "\n",
        "*   Nombre Integrante 1 - ROL - [video](https://youtu.be/A6O67uLJfcQ)\n",
        "*   Nombre Integrante 2 - ROL - [video](https://youtu.be/A6O67uLJfcQ)\n",
        "*   Nombre Integrante 3 - ROL - [video](https://youtu.be/A6O67uLJfcQ)\n",
        "\n",
        "\n",
        "*Recuerden que si su equipo se llama \"El ritmo no perdona\", entonces el nombre del archivo a subir debe ser T8_El_ritmo_no_perdona.ipynb*\n",
        "\n",
        "\n",
        "### **Formalidades**  \n",
        "* Es posible utilizar apuntes, libros, papers, ejemplos y cualquier otro material que desee de internet, pero debe ser usted quien desarrolle los ejercicios y comente los resultados en el Notebook que entregará. \n",
        "* Se permite el uso de las librerías: pandas, numpy, matplotlib y seaborn. Si desea utilizar otra librería debe indicar cómo instalarla.\n",
        "* Se debe trabajar en grupos de **dos o tres personas**, las cuales deberán estar inscritas a través de __[Aula](https://aula.usm.cl/)__.\n",
        "* Además del Notebook, deberán entregar un video explicando lo que hizo, paso a paso, como en los ejemplos entregados en AULA. Este vídeo es **individual**, es decir, cada integrante debe hacerlo por separado (debiendo utilizar el mismo Jupyter Notebook). El video puede ser subido a una plataforma externa como Youtube, Google Drive, ó Dropbox. El **link a compartir** (*visible para cualquier usuario con el link*) debe ir dentro del Notebook.\n",
        "* La nota de esta actividad es grupal.\n",
        "\n",
        "\n",
        "<hr style=\"height:2px;border:none\"/>\n",
        "\n",
        "### **Entrega** \n",
        "* **Formato**: Se debe realizar una **única** entrega por grupo (un representate del grupo) a través de  __[**Aula**](https://aula.usm.cl/)__.\n",
        "* **Archivo**: El nombre del archivo a subir debe ser **T8_Nombre_Del_Equipo.ipynb**, por ejemplo, si su equipo se llama \"El ritmo no perdona\", entonces el nombre del archivo debe ser **T8_El_ritmo_no_perdona.ipynb**\n",
        "* **Archivo**: Sus respuestas deben ser entregadas en forma de Jupyter Notebook, incluyendo **todos links** a los vídeos explicativos, uno por cada integrante.\n",
        "    * **Vídeo**: Debe grabar la pantalla (Jupyter Notebok) donde se realiza la explicación de la actividad, con una duración máxima de 25 minutos.\n",
        "* **Fecha límite**: Martes 6 de Diciembre a las 23:59\n",
        "\n",
        "<hr style=\"height:2px;border:none\"/>\n",
        "\n",
        "### **Descuentos**\n",
        "\n",
        "* Se descontarán 5 puntos si el nombre del archivo subido no sigue el formato señalado.\n",
        "* Se descontarán 10 puntos por cada hora de atraso en la entrega.\n",
        "* Todos los gráficos que realicen deben contener los nombres de las variables en los ejes. Se descontarán 3 puntos por cada nombre faltante.\n",
        "\n",
        "<hr style=\"height:2px;border:none\"/>"
      ]
    },
    {
      "cell_type": "markdown",
      "metadata": {
        "id": "SaaUQp7FSjWv"
      },
      "source": [
        "<table align='left'>\n",
        "<tr>\n",
        "<td><img src='https://comunicacion.uaa.mx/revista/wp-content/uploads/2019/01/discurso-620x350.png' width='650'/> </td>\n",
        "</tr>\n",
        "</table>"
      ]
    },
    {
      "cell_type": "markdown",
      "metadata": {
        "id": "srxBFeLqS3TM"
      },
      "source": [
        "## Contexto"
      ]
    },
    {
      "cell_type": "markdown",
      "metadata": {
        "id": "KULeq6-zhXTZ"
      },
      "source": [
        "La Universidad de Harvard ha recopilado una serie de discursos para medir el nivel de populismo en los discursos de 241 jefes ejecutivos (presidentes y primeros ministros) de 74 países de todos los continentes. El conjunto de datos cubre 324 mandatos gubernamentales e incluye 1240 discursos, en su mayoría entre 2000 y 2022. \n",
        "\n",
        "El dataset `gpd_v2_20220427.csv` está compuesto por los siguientes atriibutos:\n",
        "\n",
        "1.   `merging_variable`: name of the .txt file in the folder with Speeches with the speech that matches that coder’s score.\n",
        "2.   `Country`\n",
        "3.   `Leader`: name of president or prime minister.\n",
        "4.   `lr`: categorical indicator with -1 = left; 0 = center; 1 = right.\n",
        "5.   `president`: binary. 1 if the leader is a president, 0 if a prime minister.\n",
        "6.   `term`: leader term in office, ordinal.\n",
        "8.   `startofterm`: date of start of respective term\n",
        "9.   `yearbegin`: year of beginning of term.\n",
        "10.   `endofterm`: date of end of respective term.\n",
        "11.   `yearend`: year of ending of respective term.\n",
        "12.   `speechtype`: type of speech: international, campaign, ribbon-cutting, famous.\n",
        "13.   `speechnum`: number of that speech for that leader-term.\n",
        "14.   `codernum`: coder identifier for that speech-leader.\n",
        "15.   `rubricgrade`: grade of that speech by that coder on the 0-2 populism scale.\n",
        "16.   `averagerubric`: average populism grade for that speech. Arithmetic average across all coders for that speech.\n",
        "17.    `totalaverage`: average populism grade for that leader-term. Arithmetic mean for all speeches by all coders for that leader-term\n",
        "18.    `wb_region`: World Bank global region classification."
      ]
    },
    {
      "cell_type": "markdown",
      "metadata": {
        "id": "Uy7o-VE6wgNg"
      },
      "source": [
        "# Librerías"
      ]
    },
    {
      "cell_type": "code",
      "execution_count": 156,
      "metadata": {
        "id": "Fnn3KM_QwieF"
      },
      "outputs": [],
      "source": [
        "import numpy as np\n",
        "import pandas as pd\n",
        "import matplotlib.pyplot as plt\n",
        "from scipy.stats import norm, t\n",
        "from scipy.stats import f as fisher\n",
        "\n",
        "#H0: mu1 = mu0 (mu1 desconocida, m0 valor fijo)\n",
        "def contrate_1media(n1,media1,std1,mu0,error_tipo1,alternativa='1>0'):\n",
        "  region_critica = []\n",
        "  gl = n1-1\n",
        "  std_error = np.sqrt(std1**2/n1)\n",
        "  T0 = (media1-mu0)/std_error#estadistico bajo H0\n",
        "  if (alternativa=='1>0'):\n",
        "    region_critica.append(pd.Interval(left=t.ppf(1-error_tipo1,df=gl), right=np.inf,closed='neither'))\n",
        "    p_value = 1-t.cdf(T0,df=gl)\n",
        "  elif (alternativa=='1<0'):\n",
        "    region_critica.append(pd.Interval(left=-np.inf, right=t.ppf(error_tipo1,df=gl),closed='neither'))\n",
        "    p_value = t.cdf(T0,df=gl)\n",
        "  else:#dos colas\n",
        "    region_critica.append(pd.Interval(left=-np.inf,right=t.ppf(error_tipo1/2,df=gl),closed='neither'))\n",
        "    region_critica.append(pd.Interval(left=t.ppf(1-error_tipo1/2,df=gl),right=np.inf,closed='neither'))\n",
        "    p_value = 2*min(1-t.cdf(T0,df=gl),t.cdf(T0,df=gl))\n",
        "  return T0, region_critica, p_value\n",
        "\n",
        "\n",
        "#H0: mu1 = mu2 (mu1,mu2 ambas no conocidas)\n",
        "def contrate_2medias(n1,n2,media1,media2,std1,std2,error_tipo1,alternativa='1>2'):\n",
        "  region_critica = []\n",
        "  gl_num = (std1**2/float(n1) + std2**2/float(n2))**2\n",
        "  gl_den = ((std1**2/float(n1))**2)/(n1-1.0) + ((std2**2/float(n2))**2)/(n2-1.0)\n",
        "  gl = int(np.floor(gl_num/gl_den))\n",
        "  std_error = np.sqrt(std1**2/n1 + std2**2/n2)\n",
        "  T0 = (media1-media2)/std_error#estadistico bajo H0\n",
        "  if (alternativa=='1>2'):\n",
        "    region_critica.append(pd.Interval(left=t.ppf(1-error_tipo1,df=gl), right=np.inf,closed='neither'))\n",
        "    p_value = 1-t.cdf(T0,df=gl)\n",
        "  elif (alternativa=='1<2'):\n",
        "    region_critica.append(pd.Interval(left=-np.inf, right=t.ppf(error_tipo1,df=gl),closed='neither'))\n",
        "    p_value = t.cdf(T0,df=gl)\n",
        "  else:#dos colas\n",
        "    region_critica.append(pd.Interval(left=-np.inf,right=t.ppf(error_tipo1/2,df=gl),closed='neither'))\n",
        "    region_critica.append(pd.Interval(left=t.ppf(1-error_tipo1/2,df=gl),right=np.inf,closed='neither'))\n",
        "    p_value = 2*min(1-t.cdf(T0,df=gl),t.cdf(T0,df=gl))\n",
        "  return T0, region_critica, p_value\n",
        "\n",
        "#H0: sigma1 = sigma2 (sigma1,sigma2 ambas no conocidas)\n",
        "def contrate_dos_varianzas(n1,n2,std1,std2,error_tipo1,alternativa='1>2'):\n",
        "  region_critica = []\n",
        "  F0 = std1**2/std2**2\n",
        "  if (alternativa=='1>2'):\n",
        "    region_critica.append(pd.Interval(left=fisher.ppf(1-error_tipo1,dfn=n1-1, dfd=n2-1), right=np.inf,closed='neither'))\n",
        "    p_value = 1-fisher.cdf(F0,dfn=n1-1, dfd=n2-1)\n",
        "  elif (alternativa=='1<2'):\n",
        "    region_critica.append(pd.Interval(left=-np.inf, right=fisher.ppf(error_tipo1,dfn=n1-1, dfd=n2-1),closed='neither'))\n",
        "    p_value = fisher.cdf(F0,dfn=n1-1, dfd=n2-1)\n",
        "  else:#dos colas\n",
        "    region_critica.append(pd.Interval(left=-np.inf,right=fisher.ppf(error_tipo1/2,dfn=n1-1, dfd=n2-1),closed='neither'))\n",
        "    region_critica.append(pd.Interval(left=fisher.ppf(1-error_tipo1/2,dfn=n1-1, dfd=n2-1),right=np.inf,closed='neither'))\n",
        "    p_value = 2*min(1-fisher.cdf(F0,dfn=n1-1, dfd=n2-1),fisher.cdf(F0,dfn=n1-1, dfd=n2-1))\n",
        "  return F0, region_critica, p_value\n",
        "\n",
        "\n",
        "#H0: p1 = p0 (p1 desconocida, p0 valor fijo)\n",
        "def contrate_1prop(n1,prop1,p0,error_tipo1,alternativa='1>0'):\n",
        "  region_critica = []\n",
        "  std_error = np.sqrt(p0*(1.0-p0))*np.sqrt(1.0/n1)\n",
        "  Z0 = (prop1-p0)/std_error\n",
        "  if (alternativa=='1>0'):\n",
        "    region_critica.append(pd.Interval(left=norm.ppf(1-error_tipo1), right=np.inf,closed='neither'))\n",
        "    p_value = 1-norm.cdf(Z0)\n",
        "  elif (alternativa=='1<0'):\n",
        "    region_critica.append(pd.Interval(left=-np.inf, right=norm.ppf(error_tipo1),closed='neither'))\n",
        "    p_value = norm.cdf(Z0)\n",
        "  else:#dos colas\n",
        "    region_critica.append(pd.Interval(left=-np.inf,right=norm.ppf(error_tipo1/2),closed='neither'))\n",
        "    region_critica.append(pd.Interval(left=norm.ppf(1-error_tipo1/2),right=np.inf,closed='neither'))\n",
        "    print(\">>\",Z0,1-norm.cdf(Z0),norm.cdf(Z0))\n",
        "    p_value = 2*min(1-norm.cdf(Z0),norm.cdf(Z0))\n",
        "  return Z0, region_critica, p_value\n",
        "\n",
        "#H0: p1 = p2 (p1,p2 no conocidas, ni funcion una de la otra)\n",
        "def contrate_2props(n1,n2,prop1,prop2,error_tipo1,alternativa='1>2'):\n",
        "  region_critica = []\n",
        "  prop_comb = (n1*prop1 + n2*prop2)/(n1+n2)\n",
        "  print(prop_comb)\n",
        "  std_error = np.sqrt(prop_comb*(1.0-prop_comb))*np.sqrt(1.0/n1 + 1.0/n2)\n",
        "  Z0 = (prop1-prop2)/std_error\n",
        "\n",
        "  if (alternativa=='1>2'):\n",
        "    region_critica.append(pd.Interval(left=norm.ppf(1-error_tipo1), right=np.inf,closed='neither'))\n",
        "    p_value = 1-norm.cdf(Z0)\n",
        "  elif (alternativa=='1<2'):\n",
        "    region_critica.append(pd.Interval(left=-np.inf, right=norm.ppf(error_tipo1),closed='neither'))\n",
        "    p_value = norm.cdf(Z0)\n",
        "  else:#dos colas\n",
        "    region_critica.append(pd.Interval(left=-np.inf,right=norm.ppf(error_tipo1/2),closed='neither'))\n",
        "    region_critica.append(pd.Interval(left=norm.ppf(1-error_tipo1/2),right=np.inf,closed='neither'))\n",
        "    print(\">>\",Z0,1-norm.cdf(Z0),norm.cdf(Z0))\n",
        "    p_value = 2*min(1-norm.cdf(Z0),norm.cdf(Z0))\n",
        "  return Z0, region_critica, p_value\n"
      ]
    },
    {
      "cell_type": "markdown",
      "metadata": {
        "id": "yu2fyuuKhfQo"
      },
      "source": [
        "# Datos"
      ]
    },
    {
      "cell_type": "code",
      "execution_count": 157,
      "metadata": {
        "id": "JTb8zJpk9YIU"
      },
      "outputs": [],
      "source": [
        "data = pd.read_csv(\"gpd_v2_20220427.csv\")"
      ]
    },
    {
      "cell_type": "markdown",
      "metadata": {
        "id": "KknvDAeG2V9j"
      },
      "source": [
        "# Preguntas"
      ]
    },
    {
      "cell_type": "markdown",
      "metadata": {
        "id": "IvUsPbc-dMyL"
      },
      "source": [
        "---\n",
        "\n",
        "**Importante** para las siguientes preguntas:\n",
        "* Indique explicitamente **los supuestos** que consideraron.\n",
        "* Indique explicitamente **$H_0$** y **$H_1$**.\n",
        "* Indique explicitamente el valor del **Estadístico de Contraste**.\n",
        "* Indique explicitamente la **Región Crítica**.\n",
        "* Indique explicitamente si **se acepta $H_0$** o **se rechaza $H_0$**.\n",
        "\n",
        "---\n",
        "\n",
        "1. Considerando solo los discursos realizados en  `region=Latin America & Caribbean` y `region=Western Europe` desde el año 2000 en adelante y solamente aquellos realizados en campaña (`speechtype = Campaign`). \n",
        "\n",
        "> a) Diseñe un contraste que permita evaluar la hipótesis de que \"*los discursos realizados por presidentes de izquierda (`lr = -1`) tienen un populismo (`rubricgrade`) promedio **distinto** en ambas regiones*\". Diseñe su contraste de manera que la probabilidad de aceptar incorrectamente esta conjetura sea menor al 5%. **(10 pts)**\n",
        "\n",
        "> b) Diseñe un contraste que permita evaluar la hipótesis de que \"*los discursos realizados por presidentes de centro (`lr = 0`) tienen un populismo (`rubricgrade`) promedio **distinto** en ambas regiones*\". Diseñe un contraste de manera que la probabilidad de aceptar incorrectamente esta conjetura sea menor al 5%. **(10 pts)**\n",
        "\n",
        "> c) Diseñe un contraste que permita evaluar la hipótesis de que \"*los discursos realizados por presidentes de derecha (`lr = 1`) tienen un populismo (`rubricgrade`) promedio **distinto** en ambas regiones*\". Diseñe un contraste de manera que la probabilidad de aceptar incorrectamente esta conjetura sea menor al 5%. **(10 pts)**\n",
        "\n",
        "2. Considerando solo los discursos realizados en Chile desde el año 2000 en adelante. Diseñe un contraste que permita evaluar la hipótesis de que \"*los discursos realizados por presidentes de izquierda (`lr = -1`) son **más populistas** (utilice `rubricgrade`) que los discursos realizados por presidentes de derecha (`lr = -1`)*\". Diseñe un contraste de manera que la probabilidad de aceptar incorrectamente esta conjetura sea menor al 5%.  **(10 pts)**\n",
        "\n",
        "3. En Chile, Michelle Bachelet y Sebastián Piñera han sido dos veces presidente de la república. Por esto, podría resultar interesante determinar si sus niveles de populismo (utilice `rubricgrade`) en sus discursos cambiaron en algo durante sus dos mandatos. \n",
        "\n",
        "> a) Ejecute un contraste donde $H_0$ corresponda a que \"*los discursos de \"Bachelet 1\" son **igual o más populistas** que los discursos de \"Bachelet 2\"* \". Considere $α =  5\\%$. **(15 pts)**\n",
        "\n",
        "> b) Ejecute un contraste donde $H_0$ corresponda a que \"*los discursos de \"Piñera 1\" son **igual o más populistas** que los discursos de \"Piñera 2\"* \". Considere $α =  5\\%$. **(15 pts)**\n",
        "\n",
        "4. En los últimos 20 años Argentina ha aumentado su nivel de pobreza, donde más del 25% de la población del país se encuentra en esta situación.\n",
        "\n",
        "> a) Diseñe un contraste que permita evaluar la hipótesis de que \"*el populismo (utilice `rubricgrade`) promedio en los discursos de presidentes argentinos es mayor a 0.5*\". Diseñe un contraste de manera que la probabilidad de aceptar incorrectamente esta conjetura sea menor al 5%. **(10 pts)**\n",
        "\n",
        "> b) Diseñe un contraste que permita evaluar la hipótesis de que \"*los discursos realizados por presidentes argentinos son más populistas que los discursos realizados por el resto de países de `region=Latin America & Caribbean`*\". Diseñe un contraste de manera que la probabilidad de aceptar incorrectamente esta conjetura sea menor al 5%  **(10 pts)**\n",
        "\n",
        "**Debido a los problemas con el dataset de la pregunta 5), se ha decidido eliminar dicha pregunta. Por esto, se otorgará un puntaje base de 20 pts.**"
      ]
    },
    {
      "cell_type": "markdown",
      "metadata": {
        "id": "vFF0FqDvxtos"
      },
      "source": [
        "# Ejemplo Test de Hipótesis:\n"
      ]
    },
    {
      "cell_type": "markdown",
      "metadata": {
        "id": "CbHQArrgxxfP"
      },
      "source": [
        "En un test de hipótesis, la hipótesis nula ($H_0$) corresponde al *status quo*, es decir, a lo que se \"cree que es lo normal\". En cambio, la hipótesis alternativa es lo que se \"sospecha\" que ocurre.\n",
        "\n",
        "\n",
        "\n"
      ]
    },
    {
      "cell_type": "markdown",
      "metadata": {
        "id": "4RV7wKSH5tNa"
      },
      "source": [
        "Ejemplo:\n",
        "\n",
        "Diseñe un contraste que permita evaluar la hipótesis de que \"la media de la población X es distinta a la media de la población Y\". Diseñe un contraste de manera que la probabilidad de aceptar incorrectamente esta conjetura sea menor al 5%.\n",
        "\n",
        "En este caso, se tiene que:\n",
        "* $H_0$: $μ_X = \\mu_Y$ (Corresponde a lo que se cree \"normal\")\n",
        "* $H_1$: $μ_X \\neq \\mu_Y$\n",
        "\n",
        "Además, se plantean de esta manera las hipótesis ya que \"aceptar incorrectamente la conjetura\" corresponde a un error tipo 1 (valor de $α$) y se sabe que siempre se debe acotar este tipo de error, pues es más grave que un error tipo 2."
      ]
    },
    {
      "cell_type": "markdown",
      "metadata": {
        "id": "wj6RsUmLxy8Y"
      },
      "source": [
        "# Respuestas"
      ]
    },
    {
      "attachments": {},
      "cell_type": "markdown",
      "metadata": {},
      "source": [
        "# Pregunta 3\n",
        "\n",
        "En Chile, Michelle Bachelet y Sebastián Piñera han sido dos veces presidente de la república. Por esto, podría resultar interesante determinar si sus niveles de populismo (utilice `rubricgrade`) en sus discursos cambiaron en algo durante sus dos mandatos. \n",
        "\n",
        "> a) Ejecute un contraste donde $H_0$ corresponda a que \"*los discursos de \"Bachelet 1\" son **igual o más populistas** que los discursos de \"Bachelet 2\"* \". Considere $α =  5\\%$. **(15 pts)**\n",
        "\n",
        "> b) Ejecute un contraste donde $H_0$ corresponda a que \"*los discursos de \"Piñera 1\" son **igual o más populistas** que los discursos de \"Piñera 2\"* \". Considere $α =  5\\%$. **(15 pts)**"
      ]
    },
    {
      "attachments": {},
      "cell_type": "markdown",
      "metadata": {},
      "source": [
        "a) Para esta pregunta, tendremos que nuestra hipótesis es la siguiente:\n",
        "\n",
        "+ $ H_0 $ = Los discursos de Bachelet 1 son igual o más populistas que el de Bachelet 2\n",
        "\n",
        "En notación matemática:\n",
        "\n",
        "+ $ H_0 : {Discurso\\ 1}_{rubricgrade} \\geq {Discurso\\ 2}_{rubricgrade}$\n",
        "\n",
        "Por ende, tendremos que la hipótesis alternativa será:\n",
        "\n",
        "+ $ H_1 $ = Los discursos de Bachelet 1 son menos populistas que el de Bachelet 2\n",
        "\n",
        "En notación matemática:\n",
        "\n",
        "+ $ H_1 : {Discurso\\ 1}_{rubricgrade} \\lt {Discurso\\ 2}_{rubricgrade}$\n",
        "\n",
        "Luego, nuestro parámetro $\\theta$ será el nivel de populísmo (medido en el dataset como `rubricgrade`). Partanos mostrando por pantalla los datos de forma general, sin filtrar nada y eligiendo las columnas que a nosotros más nos competen (el año de entrada, el nombre del presidente y su grado de populismo).\n"
      ]
    },
    {
      "cell_type": "code",
      "execution_count": 158,
      "metadata": {
        "id": "YNxtxPEuxyb6"
      },
      "outputs": [
        {
          "data": {
            "text/plain": [
              "<Axes: xlabel='rubricgrade', ylabel='Density'>"
            ]
          },
          "execution_count": 158,
          "metadata": {},
          "output_type": "execute_result"
        },
        {
          "data": {
            "image/png": "[encoded data removed]",
            "text/plain": [
              "<Figure size 1000x600 with 1 Axes>"
            ]
          },
          "metadata": {},
          "output_type": "display_data"
        }
      ],
      "source": [
        "import seaborn as sns; sns.set()\n",
        "import matplotlib.pyplot as plt\n",
        "f = plt.figure(figsize=(10,6))\n",
        "ax = f.add_axes([0.1, 0.1, 0.9, 0.9])\n",
        "\n",
        "# Lee los datos desde el dataset\n",
        "data = pd.read_csv(\"gpd_v2_20220427.csv\")\n",
        "\n",
        "# Filtra por el presidente 'Michele Bachelet'\n",
        "data_bachelet = data[data['leader'] == 'Michelle Bachelet']\n",
        "data_bachelet = data_bachelet[['leader', 'yearbegin', 'rubricgrade']]\n",
        "\n",
        "# Filtra por el índice de populismo (0-2)\n",
        "data_bachelet_populism = data_bachelet.rubricgrade\n",
        "\n",
        "# Los muestra en un gráfico contínuo\n",
        "sns.distplot(data_bachelet_populism, ax=ax, rug=True, hist=False, kde=True, kde_kws={\"shade\": True}, label = 'Distribución de Populísmo')"
      ]
    },
    {
      "attachments": {},
      "cell_type": "markdown",
      "metadata": {},
      "source": [
        "Para suplir nuestra falta de conocimiento general y para más certeza, usamos Python para saber en que años la presidenta asumió el mandato, para así poder corroborar que tuvo dos periodos presidenciales y para saber como filtrar los datos."
      ]
    },
    {
      "cell_type": "code",
      "execution_count": 159,
      "metadata": {},
      "outputs": [
        {
          "name": "stdout",
          "output_type": "stream",
          "text": [
            "[2014 2006]\n"
          ]
        }
      ],
      "source": [
        "column_list = data_bachelet.columns.values.tolist()\n",
        "print(data_bachelet['yearbegin'].unique())"
      ]
    },
    {
      "attachments": {},
      "cell_type": "markdown",
      "metadata": {},
      "source": [
        "Ahora usamos un contraste de 2 medias con alternativa bilateral, usando el $\\alpha = 0.05$"
      ]
    },
    {
      "cell_type": "code",
      "execution_count": 160,
      "metadata": {},
      "outputs": [
        {
          "name": "stdout",
          "output_type": "stream",
          "text": [
            "La media entre el primer y segundo periodo presidencial de Bachelet\n",
            "0.0\n",
            "0.1\n",
            "La desviación estándar entre el primer y segundo periodo presidencial de Bachelet\n",
            "0.6572315962737312\n",
            "0.5751572917609648\n",
            "El n de el primer y segundo periodo presidencial de Bachelet\n",
            "308\n",
            "344\n",
            "Nuestro alpha\n",
            "0.05\n",
            "(-2.056685547041562, [Interval(1.6473431678534394, inf, closed='neither')], 0.9799304249789696)\n"
          ]
        }
      ],
      "source": [
        "# Filstramos los datos por las fechas de mandato\n",
        "data_bachelet_2014 = data[data['yearbegin'] == 2014]\n",
        "data_bachelet_2006 = data[data['yearbegin'] == 2006]\n",
        "data_bachelet_2014_populism = data_bachelet_2014['rubricgrade']\n",
        "data_bachelet_2006_populism = data_bachelet_2006['rubricgrade']\n",
        "\n",
        "print(\"La media entre el primer y segundo periodo presidencial de Bachelet\")\n",
        "media1 = data_bachelet_2006_populism.median()\n",
        "media2 = data_bachelet_2014_populism.median()\n",
        "print(data_bachelet_2006_populism.median())\n",
        "print(data_bachelet_2014_populism.median())\n",
        "\n",
        "print(\"La desviación estándar entre el primer y segundo periodo presidencial de Bachelet\")\n",
        "std1 = np.std(data_bachelet_2006_populism)\n",
        "std2 = np.std(data_bachelet_2014_populism)\n",
        "print(std1)\n",
        "print(std2)\n",
        "\n",
        "print(\"El n de el primer y segundo periodo presidencial de Bachelet\")\n",
        "n1 = len(data_bachelet_2006_populism)\n",
        "n2 = len(data_bachelet_2014_populism)\n",
        "print(n1)\n",
        "print(n2)\n",
        "\n",
        "print(\"Nuestro alpha\")\n",
        "error_tipo1 = 0.05\n",
        "print(error_tipo1)\n",
        "\n",
        "print(\"Contraste de H0\")\n",
        "contraste_h0 = contrate_2medias(n1,n2,media1,media2,std1,std2,error_tipo1,alternativa='1>2')\n",
        "print(contraste_h0)"
      ]
    },
    {
      "cell_type": "code",
      "execution_count": null,
      "metadata": {},
      "outputs": [],
      "source": []
    },
    {
      "cell_type": "markdown",
      "metadata": {
        "id": "rtzQ0flYCqTX"
      },
      "source": [
        "# Disclaimer "
      ]
    },
    {
      "cell_type": "markdown",
      "metadata": {
        "id": "ETP4g7kTCmOd"
      },
      "source": [
        "Los datos aquí utilizados fueron obtenidos usando la metodología detallada en [1] y por lo tanto no necesariamente reflejan la opinión de los profesores o ayudantes de este curso. Cualquier alusión a personas o países es meramente circustancial y tiene sólo fines pedagógicos. Todo público puede acceder a los datos en [2] \n",
        "\n",
        "[1] Hawkins, K. A., Aguilar, R., Silva, B. C., Jenne, E. K., Kocijan, B., & Kaltwasser, C. R. (2019, June). Measuring populist discourse: The global populism database. In EPSA Annual Conference in Belfast, UK, June (pp. 20-22).\n",
        "\n",
        "[2] Hawkins, Kirk A.; Aguilar, Rosario; Castanho Silva, Bruno; Jenne, Erin K.; Kocijan, Bojana; Rovira Kaltwasser, Cristóbal, 2019, \"Global Populism Database\", https://doi.org/10.7910/DVN/LFTQEZ, Harvard Dataverse, V2"
      ]
    }
  ],
  "metadata": {
    "colab": {
      "provenance": [],
      "toc_visible": true
    },
    "kernelspec": {
      "display_name": "Python 3",
      "language": "python",
      "name": "python3"
    },
    "language_info": {
      "codemirror_mode": {
        "name": "ipython",
        "version": 3
      },
      "file_extension": ".py",
      "mimetype": "text/x-python",
      "name": "python",
      "nbconvert_exporter": "python",
      "pygments_lexer": "ipython3",
      "version": "3.11.0"
    },
    "vscode": {
      "interpreter": {
        "hash": "37eb9ec2bcd9e69ab528215dae40b39c5dd7d7b5703861ad8897752f17ad4699"
      }
    }
  },
  "nbformat": 4,
  "nbformat_minor": 0
}
