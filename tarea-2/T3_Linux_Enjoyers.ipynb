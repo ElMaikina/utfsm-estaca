{
  "cells": [
    {
      "cell_type": "markdown",
      "metadata": {
        "id": "PWblY1IUlRRU"
      },
      "source": [
        "<hr style=\"height:2px;border:none\"/>\n",
        "<h1 align='center'> INF-280 Estadística Computacional II-2022 </h1>\n",
        "\n",
        "<H3 align='center'> Tema 3 - Variables Aleatorias Discretas  </H3>\n",
        "\n",
        "\\\n",
        "\n",
        "\n",
        "Nombre del equipo: \n",
        "\n",
        "Integrantes:\n",
        "\n",
        "\n",
        "*   Miguel Soto Delgado - 201973623-K - [video](https://drive.google.com/drive/folders/17FG7pWxCkkUPgBBfAmCoJMoXVYcjhqIp?usp=sharing)\n",
        "*   Martin Ignacio Sarubbi - 201973587-K - [video](https://www.youtube.com/watch?v=I8iaGaL8LrM)\n",
        "\n",
        "\n",
        "*Recuerden que si su equipo se llama \"El ritmo no perdona\", entonces el nombre del archivo a subir debe ser T3_El_ritmo_no_perdona.ipynb*\n",
        "\n",
        "\n",
        "### **Formalidades**  \n",
        "* Es posible utilizar apuntes, libros, papers, ejemplos y cualquier otro material que desee de internet, pero debe ser usted quien desarrolle los ejercicios y comente los resultados en el Notebook que entregará. \n",
        "* Se permite el uso de las librerías: pandas, numpy, matplotlib y seaborn. Si desea utilizar otra librería debe indicar cómo instalarla.\n",
        "* Se debe trabajar en grupos de **dos o tres personas**, las cuales deberán estar inscritas a través de __[Aula](https://aula.usm.cl/)__.\n",
        "* Además del Notebook, deberán entregar un video explicando lo que hizo, paso a paso, como en los ejemplos entregados en AULA. Este vídeo es **individual**, es decir, cada integrante debe hacerlo por separado (debiendo utilizar el mismo Jupyter Notebook). El video puede ser subido a una plataforma externa como Youtube, Google Drive, ó Dropbox. El **link a compartir** (*visible para cualquier usuario con el link*) debe ir dentro del Notebook.\n",
        "* La nota de esta actividad es grupal.\n",
        "\n",
        "\n",
        "<hr style=\"height:2px;border:none\"/>\n",
        "\n",
        "### **Entrega** \n",
        "* **Formato**: Se debe realizar una **única** entrega por grupo (un representate del grupo) a través de  __[**Aula**](https://aula.usm.cl/)__.\n",
        "* **Archivo**: El nombre del archivo a subir debe ser **T3_Nombre_Del_Equipo.ipynb**, por ejemplo, si su equipo se llama \"El ritmo no perdona\", entonces el nombre del archivo debe ser **T3_El_ritmo_no_perdona.ipynb**\n",
        "* **Archivo**: Sus respuestas deben ser entregadas en forma de Jupyter Notebook, incluyendo **todos links** a los vídeos explicativos, uno por cada integrante.\n",
        "    * **Vídeo**: Debe grabar la pantalla (Jupyter Notebok) donde se realiza la explicación de la actividad, con una duración máxima de 25 minutos.\n",
        "* **Fecha límite**: Martes 4 de Octubre a las 23:59.\n",
        "\n",
        "<hr style=\"height:2px;border:none\"/>\n",
        "\n",
        "### **Descuentos**\n",
        "\n",
        "* Se descontarán 5 puntos si el nombre del archivo subido no sigue el formato señalado.\n",
        "* Se descontarán 10 puntos por cada hora de atraso en la entrega.\n",
        "* Todos los gráficos que realicen deben contener los nombres de las variables en los ejes. Se descontarán 3 puntos por cada nombre faltante.\n",
        "\n",
        "<hr style=\"height:2px;border:none\"/>"
      ]
    },
    {
      "cell_type": "markdown",
      "metadata": {
        "id": "tA7rjsenLJ_4"
      },
      "source": [
        "<table align='left'>\n",
        "<tr>\n",
        "<td><img src='https://miro.medium.com/max/1080/1*7uxvPFAUTDe483lCUxzRqQ.png' width='650'/> </td>\n",
        "</tr>\n",
        "</table>"
      ]
    },
    {
      "cell_type": "markdown",
      "metadata": {
        "id": "TJ4MCtOUK_dm"
      },
      "source": [
        "## Contexto \n",
        "\n",
        "Considere un sitio de comercio electrónico en que se presentan al usuario diferentes resultados de búsqueda. Cada resultado describe un producto o item que puede llamar la atención del cliente y terminar generando un \"click\" de su parte (para obtener información detallada y eventualmente comprarlo). La lista de resultados se ordena usando un algoritmo que predice la relevancia de un producto en base al texto introducido por el usuario, a la descripción del producto, y al historial de búsquedas y compras del cliente. \n",
        "\n"
      ]
    },
    {
      "cell_type": "markdown",
      "metadata": {
        "id": "gudzQGZUf8jm"
      },
      "source": [
        "## Definiciones\n",
        "\n",
        "Sea $C_r$ una v.a. de Bernoulli que toma el valor 1 cuando el usuario hace click en el resultado correspondiente a la posición r de la lista entregada por el algoritmo. Sea $A_r$ una v.a. de Bernoulli que toma el valor 1 cuando el resultado correspondiente a la posición r de la lista llama la atención del usuario, es decir, el resultado es relevante para el cliente por su forma o contenido. Sea $E_r$ una v.a. de Bernoulli que toma el valor 1 cuando el usuario lee/examina la descripción correspondiente a la posición r de la lista de resultados. Finalmente, sea $C$ el número total de clicks, es decir, si $N$ es el tamaño de la lista de resultados,\n",
        "\n",
        "\\begin{align}\n",
        "C=\\sum_{r=1}^N C_r\n",
        "\\end{align}\n"
      ]
    },
    {
      "cell_type": "markdown",
      "metadata": {
        "id": "BV29TCeYeafY"
      },
      "source": [
        "## Supuestos de Base\n",
        "\n",
        "Suponga en todo el taller que un usuario hace click en un resultado ($C_r=1$) sólo cuando $A_r=1$ y $E_r=1$. Asuma también que $A_r$ y $E_r$ son v.a. independientes y que el usuario siempre lee/examina el primer resultado, es decir $E_1=1$ con probabilidad 1.\n",
        "\n",
        "Suponga finalmente que el valor o beneficio por sesión $G$ que obtiene el sitio, considerando un modelo de negocios basado en la satisfacción del cliente y en el pago por clicks es una función de $C$ definida como\n",
        "\n",
        "\\begin{equation}\n",
        "G =\n",
        "\\begin{cases}\n",
        "  10\\sqrt{C} + 5 & \\text{si $C>0,\\mathrm{}$} \\\\\n",
        "  0 & \\text{si $C=0,\\mathrm{}$}\n",
        "\\end{cases}\n",
        "\\end{equation}"
      ]
    },
    {
      "cell_type": "markdown",
      "metadata": {
        "id": "xtdSAU47f-3R"
      },
      "source": [
        "## Preguntas\n"
      ]
    },
    {
      "cell_type": "markdown",
      "metadata": {
        "id": "FeKFg11tLQHQ"
      },
      "source": [
        "1. Si $N=100$, sabemos que el algoritmo pone un resultado relevante en la lista con probabilidad $1/5$, y que un usuario lee/examina un resultado cualquiera de la lista con probabilidad $1/2$, determine la f.d.p. teórica de $C$ y sus primeros dos momentos. (10 pts)\n",
        "\n",
        "2. Compare sus resultados teóricos con resultados obtenidos via simulación. Para ello, programe el desarrollo de $M$ sesiones de búsqueda independientes, registrando en cada una el valor de $C$. Determine la influencia de $M$ en la conclusión obtenida, explicando lo que observa. (10 pts)\n",
        "\n",
        "3. ¿Es cierto que si $\\mathbb{E}(C)>0$, $\\mathbb{E}(G)=10\\sqrt{\\mathbb{E}(C)}+5$? Compruebe su afirmación aprovechando la simulación realizada en la pregunta anterior. Explique lo que observa. (10 pts)\n",
        "\n",
        "4. Si $N=\\infty$, el algoritmo pone un resultado relevante en la lista con probabilidad $1/5$, y un usuario lee/examina un resultado cualquiera de la lista con probabilidad $1/2$, determine la f.d.p. teórica del número de resultados que examinará un usuario antes de hacer el primer click. Compare sus resultados teóricos con resultados obtenidos via simulación. (15 pts)\n",
        "\n",
        "5. Si $N=\\infty$, el algoritmo pone un resultado relevante en la lista con probabilidad $1/100$, y un usuario lee/examina un resultado cualquiera de la lista con probabilidad $1/10$, estime la probabilidad de que $C$ sea menor que 1 y compare sus resultados teóricos con resultados obtenidos via simulación. (15 pts)\n",
        "\n",
        "6. Para tener un modelo más realista suponga que si $E_r=0$ para algún $r$, entonces $E_q=0$ para todo $q>r$, es decir, que apenas el usuario deja de leer/examinar un resultado abandona totalmente la búsqueda (no examina más resultados). Suponga también que si un usuario lee/examina el resultado $r$, pero no hace click en éste, la probabilidad de que lea/examine el siguiente resultado es $1/r$, mientras que si hizo click en el resultado $r$, la probabilidad de que lea/examine el siguiente resultado es $0.9$. Si $N=100$, sabemos que el algoritmo pone un resultado relevante en la lista con probabilidad $1/5$ independiente de la posición, determine los valores esperados de $C$ y $G$ vía simulación. (20 pts)\n",
        "\n",
        "7. Determine cómo cambian los valores esperados de $C$ y $G$ en la pregunta anterior cuando el algoritmo de recomendación pone un resultado relevante en la posición $r$ con probabilidad $1$ hasta las primeras $R$ posiciones y $R/r$ para cualquier otro $r$. Estudie lo qye sucede con $R$ a medida que aumenta entre $1$ y $20$. (20 pts)\n",
        "\n",
        "\n"
      ]
    },
    {
      "cell_type": "code",
      "source": [
        "import numpy as np\n",
        "import math as math\n",
        "import pandas as pd\n",
        "import matplotlib.pyplot as plt\n",
        "import sys\n",
        "\n",
        "azar = np.random.default_rng()"
      ],
      "metadata": {
        "id": "ZENJuozCG9_V"
      },
      "execution_count": null,
      "outputs": []
    },
    {
      "cell_type": "code",
      "source": [
        "def factorial(n):\n",
        "  if n==0:\n",
        "    return 1\n",
        "  else:\n",
        "    return n*factorial(n-1)\n",
        "\n",
        "def combi(n,k):\n",
        "   return factorial(n)/(factorial(n-k)*factorial(k))\n",
        "\n",
        "def simulacion(n,p):\n",
        "  resp = 0\n",
        "  for i in range(n):\n",
        "    if i == 0:\n",
        "      a = 0.2 * 1\n",
        "      if azar.random() <= a:\n",
        "          resp+=1\n",
        "      else:\n",
        "          resp += 0\n",
        "    else:\n",
        "      if azar.random() <= p:\n",
        "          resp+=1\n",
        "      else:\n",
        "          resp += 0\n",
        "  return resp\n",
        "\n",
        "def fdp(n, p , x):\n",
        "  return combi(n,x) * (p**x) * ((1-p)**(n-x))\n",
        "\n",
        "def fdpb(n, p , x):\n",
        "  return combi(n,x) * (p**x)\n",
        "\n",
        "def probabilidades_bin(n,k,p):\n",
        "  lista = []\n",
        "  while k<n:\n",
        "    resultado = combi(n,k)*(p**(k))\n",
        "    resultado = resultado * ((1-p)**(n-k))\n",
        "    lista.append(resultado)\n",
        "    k = k+1\n",
        "  return lista\n",
        "\n",
        "def simulacion_geo(s):\n",
        "  lista = []\n",
        "  cont = 0\n",
        "  p = 0.2\n",
        "  while cont < s:\n",
        "    e = 0\n",
        "    flag = 0\n",
        "    while flag == 0:\n",
        "      if azar.random() <= p:\n",
        "        e += 1\n",
        "        lista.append(e)\n",
        "        cont = cont + 1\n",
        "        flag = 1\n",
        "      else:\n",
        "        e += 1\n",
        "  return lista\n",
        "\n",
        "def fdp_hyp(N,M,n,x):\n",
        "  return (combi(M,x)*combi(N-M,n-x))/combi(N,n)\n",
        "\n",
        "def prob_hyp(N,M,n):\n",
        "  probs = []\n",
        "  for x in range(n):\n",
        "    res = fdp_hyp(N,M,n,x)\n",
        "    probs.append(res)\n",
        "  return probs\n",
        "\n",
        "def funcion_G(C):\n",
        "  return 10*math.sqrt(C) + 5\n",
        "\n",
        "\n",
        "\n",
        "\n",
        "\n"
      ],
      "metadata": {
        "id": "91SYs25WFNXF"
      },
      "execution_count": null,
      "outputs": []
    },
    {
      "cell_type": "markdown",
      "metadata": {
        "id": "vz4jkI2I-whT"
      },
      "source": [
        "### Pregunta 1\n",
        "### Si $N=100$, sabemos que el algoritmo pone un resultado relevante en la lista con probabilidad $1/5$, y que un usuario lee/examina un resultado cualquiera de la lista con probabilidad $1/2$, determine la f.d.p. teórica de $C$ y sus primeros dos momentos. (10 pts)\n",
        "\n",
        "La información nos dice lo siguiente:\n",
        "\n",
        "* Primero, $C_r$ se considera un éxito si para cierta posición $r$ el usuario decide hacer click.\n",
        "* Segundo, $A_r$ se considera un éxito si el resultado está destinado a los intereses del usuario.\n",
        "* Tercero, $E_r$ se considera un éxito si el usuario lee y/o examina la información del producto en la posición $r$.\n",
        "* Y por último, sabremos que $C$ denota un total de clicks dentro de los $N$ resultados aparecidos.\n",
        "\n",
        "Con esta información ya ordenada, sabemos las variables que el negocio maneja. Luego, enunciado de la pregunta nos dice lo siguiente:\n",
        "\n",
        "#### \"Si $N=100$, sabemos que el algoritmo pone un resultado relevante en la lista con probabilidad $1/5$, y que un usuario lee/examina un resultado cualquiera de la lista con probabilidad $1/2$ (...).\"\n",
        "\n",
        "Se nos está dando un valor numérico a las variables declaradas anteriormente, así que las anotamos como corresponde:\n",
        "\n",
        "$N = 100$, La muestra de casos\n",
        "\n",
        "$f(A_r) = 1/5$, La probabilidad de mostrar un resultado relevante\n",
        "\n",
        "$f(E_r) = 1/2$, La probabilidad de que llame la atención\n",
        "\n",
        "<!Esta lógica la deduje del plantemiento de la página 36 del ppt del tema 3>\n",
        "\n",
        "Dicho todo esto, nosotros necesitamos una formula para un éxito en $A_r$ y en $E_r$ simultáneo, ya que ambas condiciones deben cumplirse para asegurar un éxito en $C_r$. La probabilidad $f(C_r)$ se puede modelar de la siguiente manera:\n",
        "\n",
        "\\begin{equation}\n",
        "f(C_r = 1) = f(A_r) \\cap f(E_r)\n",
        "\\end{equation}\n",
        "\n",
        "De forma análoga:\n",
        "\n",
        "\\begin{equation}\n",
        "f(C_r = 0) = (f(\\overline{A_r}) \\cap f(\\overline{E_r})) \\cup f(A_r) \\cap f(\\overline{E_r}) \\cup f(\\overline{A_r}) \\cap f(E_r)\n",
        "\\end{equation}\n",
        "\n",
        "Como se nos dice que ambos eventos son independientes, la probabilidad se puede calcular de la siguiente manera:\n",
        "\n",
        "\\begin{equation}\n",
        "f(C_r = 1) = f(A_r) \\times f(E_r) = 1/5 \\times 1/2 = 0.1 \n",
        "\\end{equation}\n",
        "\n",
        "A través de esto también sabemos que\n",
        "\n",
        "\\begin{equation}\n",
        "f(C_r = 0) = 1 - f(C_r = 1) = 0.9  \n",
        "\\end{equation}\n",
        "\n",
        "Luego, para calcular el primer y segundo momento:\n",
        "\n",
        "#### \"Sea $X:Ω→R$ una v.a. discreta discreta con recorrido $R_x = \\{x_1,x_2,...\\}$ y su fdp $f(x)$. Su k-ésimo momento se define como el valor esperado de su k-ésimo monomio\"\n",
        "\n",
        "\\begin{equation}\n",
        "μ^k _{X} = E(X^k)\n",
        "\\end{equation}\n",
        "\n",
        "Por linealidad de la esperanza, el primer momento siempre será igual a 0. Para el segundo momento, este será igual a la varianza, de la siguiente manera:\n",
        "\n",
        "\\begin{equation}\n",
        "\\sigma^2 _X \\equiv VAR[X] = E((X-E(X))^2\n",
        "\\end{equation}\n",
        "\n",
        "Nosotros sabemos que los valores que puede tomar cada $C_r$ son [0,1] y que la probabilidad de que se cumpla o más bien que sea 1es de 10% o de 0.1. Se hace evidente entonces que se espera que de 100 artículos presentados, el usuario haga click a 10 de ellos.\n"
      ]
    },
    {
      "cell_type": "code",
      "source": [
        "# Ahora definimos una funcion especifica para calcular la esperanza de este ejercicio\n",
        "from random import randint\n",
        "\n",
        "def esperanza(N, fx, x):\n",
        "  sum = 0\n",
        "  for i in range(N):\n",
        "    sum += fx * x\n",
        "\n",
        "  return sum\n",
        "\n",
        "def varianza(N, fx, x):\n",
        "  e = esperanza(N, fx, x)\n",
        "  sum = 0\n",
        "  for i in range(N):\n",
        "    x = np.random.random(1)[0]\n",
        "    sum += (x - e)**2\n",
        "\n",
        "  return sum\n",
        "\n",
        "print(\"La esperanza es \", esperanza(100, 0.1, 1))\n",
        "print(\"El valor del primer momento será 0\")\n",
        "print(\"El valor del segundo momento será \", varianza(100, 0.1, 1))"
      ],
      "metadata": {
        "colab": {
          "base_uri": "https://localhost:8080/"
        },
        "id": "G8-mSF0QbXMq",
        "outputId": "13d70618-d2ea-4c88-cb92-a20fd3d82291"
      },
      "execution_count": null,
      "outputs": [
        {
          "output_type": "stream",
          "name": "stdout",
          "text": [
            "La esperanza es  9.99999999999998\n",
            "El valor del primer momento será 0\n",
            "El valor del segundo momento será  9064.289258574407\n"
          ]
        }
      ]
    },
    {
      "cell_type": "markdown",
      "source": [
        "### Pregunta 2\n",
        "### Compare sus resultados teóricos con resultados obtenidos via simulación. Para ello, programe el desarrollo de  M  sesiones de búsqueda independientes, registrando en cada una el valor de  C . Determine la influencia de  M  en la conclusión obtenida, explicando lo que observa. (10 pts)"
      ],
      "metadata": {
        "id": "vKN9ibi8AA21"
      }
    },
    {
      "cell_type": "code",
      "source": [
        "def poisson(n,k,p):\n",
        "  return ((math.e**-(n*p))*((n*p)**k))/factorial(k)\n",
        "#m = numero de simulaciones\n",
        "#resultados = lista donde se dejan los resultados\n",
        "m = 19\n",
        "resultados = []\n",
        "teo = []\n",
        "p = 0.2 * 0.5\n",
        "for i in range(m):\n",
        "  x = simulacion(100,p)\n",
        "  #if x not in resultados:\n",
        "  resultados.append(x)\n",
        "print(\"Resultados por simulacion: \",sorted(resultados))\n",
        "\n",
        "print(\"Resultado Teorico: \",100*0.1)"
      ],
      "metadata": {
        "id": "_dvqXt-kAAm8",
        "colab": {
          "base_uri": "https://localhost:8080/"
        },
        "outputId": "f4a86168-b34f-4fb8-f8a6-aa207a70ceb3"
      },
      "execution_count": null,
      "outputs": [
        {
          "output_type": "stream",
          "name": "stdout",
          "text": [
            "Resultados por simulacion:  [4, 4, 6, 6, 6, 7, 7, 8, 9, 10, 10, 10, 11, 11, 12, 12, 13, 13, 14]\n",
            "Resultado Teorico:  10.0\n"
          ]
        }
      ]
    },
    {
      "cell_type": "markdown",
      "source": [
        "Al hacer un mayor numero de simulaciones, hay una mayor probabilidad en que una de esas simulaciones tenga el resultado teorico, por ejemplo al simular 100 veces es muy probable que en al menos una de las simulaciones dio como resultado 10 en este caso"
      ],
      "metadata": {
        "id": "vvX1QKgKKkCz"
      }
    },
    {
      "cell_type": "markdown",
      "source": [
        "### Pregunta 3\n",
        "### ¿Es cierto que si $\\mathbb{E}(C)>0$, $\\mathbb{E}(G)=10\\sqrt{\\mathbb{E}(C)}+5$? Compruebe su afirmación aprovechando la simulación realizada en la pregunta anterior. Explique lo que observa. (10 pts)\n",
        "\n",
        "Sabemos que la esperanza se obtiene de la siguiente manera:\n",
        "\n",
        "\\begin{equation}\n",
        "E = Σ (P(X_i) × X_i)\n",
        "\\end{equation}\n",
        "\n",
        "Ahora volvemos a la función para C y G respectivamente, las cuáles se definen como:\n",
        "\n",
        "\\begin{equation}\n",
        "C=\\sum_{r=1}^N C_r \\\\\n",
        "G=10\\sqrt{C} + 5 \\\\\n",
        "\\end{equation}\n",
        "\n",
        "Nosotros sabemos que $C$ corresponde a la cantidad de clicks totales dado una lista de $N$ resultados, sin embargo, la única forma de obtener ese valor es sabiendo cada $C_r$ de los $N$ resultados. Por otro lado, la esperanza sirve para obtener un estimado de la cantidad de clicks a priori. Por ende tendremos:\n",
        "\n",
        "\\begin{equation}\n",
        "\\lim_{n \\to ∞} E(C) ∼ C \n",
        "\\end{equation}\n",
        "\n",
        "Finalmente, tendremos que $E(C) ∼ C$ implica que $G=10\\sqrt{C} + 5 ∼ E(G)=10\\sqrt{E(C)} + 5$\n",
        "\n",
        "\n",
        "\n",
        "\n"
      ],
      "metadata": {
        "id": "CSp-luDnawWO"
      }
    },
    {
      "cell_type": "markdown",
      "source": [
        "### Pregunta 4\n",
        "### Si  N=∞ , el algoritmo pone un resultado relevante en la lista con probabilidad  1/5 , y un usuario lee/examina un resultado cualquiera de la lista con probabilidad  1/2 , determine la f.d.p. teórica del número de resultados que examinará un usuario antes de hacer el primer click. Compare sus resultados teóricos con resultados obtenidos via simulación. (15 pts)\n",
        "\n"
      ],
      "metadata": {
        "id": "fVMdp_6tZ8nx"
      }
    },
    {
      "cell_type": "markdown",
      "source": [
        "Al Saber que $N=\\infty$, se decide utilizar la distribucion de Geometrica, ya que esta distribución se utiliza para encontrar las primeras ocurrencias de un evento \n",
        "\\begin{equation}\n",
        "f(x) =\n",
        "\\begin{cases}\n",
        "  (1-p)^{x - 1} p & \\text{si $x \\in \\{1,2,...\\}\\mathrm{}$} \\\\\n",
        "  0 & \\text{etoc}\n",
        "\\end{cases}\n",
        "\\end{equation}\n",
        "\n",
        "Como obtuvimos anteriormente\n",
        "\\begin{equation}\n",
        "f(C_r = 1) = f(A_r) \\cap f(E_r) = 0.1\n",
        "\\end{equation}\n",
        "\n",
        "Ademas siempre se asume que cada vez que se hace click, se examina la descripcion del resultado\n",
        "\\begin{equation}\n",
        "P(E_r/C_r) = 1\n",
        "\\end{equation}\n",
        "\n",
        "Como se nos pregunta una vez que el hecho ya se examina utilizaremos Bayes para obtener solamente los resulados que examina el usuario.\n",
        "\n",
        "\\begin{equation}\n",
        "P(C_r/E_r) = \\frac{1 * 0.1}{0.5} = 0.2\n",
        "\\end{equation}\n",
        "\n",
        "La probabilidad anterior equivale a \"p\" en la ecuacion geometrica, por lo que la f.d.p teorica de la cantidad de resultados examinados antes de que se haga el primer click equivale a\n",
        "\n",
        "\\begin{equation}\n",
        "f(x) =\n",
        "\\begin{cases}\n",
        "  (1-0.2)^{x - 1} 0.2 & \\text{si $x \\in \\{1,2,...\\}\\mathrm{}$} \\\\\n",
        "  0 & \\text{etoc}\n",
        "\\end{cases}\n",
        "\\end{equation}\n",
        "\n",
        "Los resultados obtenidos se compararan con la siguiente simulacion."
      ],
      "metadata": {
        "id": "n5JbkL0trGyW"
      }
    },
    {
      "cell_type": "code",
      "source": [
        "# s es la cantidad de veces que se hace la simulacion\n",
        "s = 10\n",
        "x = simulacion_geo(s)\n",
        "\n",
        "s = (1-0.2)/0.2\n",
        "\n",
        "print(\"Resultados simulados: \", sorted(x))\n",
        "\n",
        "print(\"Resultado teorico: \", s)"
      ],
      "metadata": {
        "id": "tncRPW1B-T7H",
        "colab": {
          "base_uri": "https://localhost:8080/"
        },
        "outputId": "e8a4b4bb-85bc-4dcb-f1d3-65213f5457d1"
      },
      "execution_count": null,
      "outputs": [
        {
          "output_type": "stream",
          "name": "stdout",
          "text": [
            "Resultados simulados:  [1, 1, 2, 3, 4, 5, 5, 7, 15, 18]\n",
            "Resultado teorico:  4.0\n"
          ]
        }
      ]
    },
    {
      "cell_type": "markdown",
      "source": [
        "### Pregunta 5\n",
        "### Si  N=∞ , el algoritmo pone un resultado relevante en la lista con probabilidad  1/100 , y un usuario lee/examina un resultado cualquiera de la lista con probabilidad  1/10 , estime la probabilidad de que  C  sea menor que 1 y compare sus resultados teóricos con resultados obtenidos via simulación. (15 pts)\n",
        "\n",
        "Al igual que en la primera pregunta, se nos está dando un valor numérico a las variables declaradas anteriormente, así que las anotamos como corresponde:\n",
        "\n",
        "$N = \\infty$, La muestra de casos\n",
        "\n",
        "$f(A_r) = 1/100$, La probabilidad de mostrar un resultado relevante\n",
        "\n",
        "$f(E_r) = 1/10$, La probabilidad de que llame la atención\n",
        "\n",
        "Aquí claramente debemos usar la fórmula de f.d.p. que obtuvimos en la primera pregunta. De esta manera:\n",
        "\n",
        "\\begin{equation}\n",
        "f(x) =\n",
        "\\begin{cases}\n",
        "  \\binom{n}{k} p^{x} (1-p)^{n-x} & \\text{si $x \\in \\{1,2,...,n\\}\\mathrm{}$} \\\\\n",
        "  0 & \\text{etoc}\n",
        "\\end{cases}\n",
        "\\end{equation}\n",
        "\n",
        "Remplazamos los valores correspondientes, sabiendo que $p = A_r \\times E_r$ lo cuál nos da un resultado numérico $p = 1/1000 = 0.0001$. La f.d.p. quedaría:\n",
        "\n",
        "\\begin{equation}\n",
        "f(x) = \\binom{n}{x} (0.0001)^{x} (1-0.0001)^{n-x} \\\\\n",
        "f(x) = (\\frac{n!}{(n-x)! \\times n!}) (0.0001)^{x} (1-0.0001)^{n-x}\n",
        "\\end{equation}\n",
        "\n",
        "En este caso tenemos un $n = ∞$ y un $x < 1$. Como los valores de $x$ solo pueden ser enteros (en vista de cómo está planteado el problema), la única oportunidad de $x < 1$ es $x = 0$. Luego, cómo matemáticamente es imposible evaluar en infinito, hacemos el límite de la ecuación con $x \\to ∞$:\n",
        "\n",
        "\\begin{equation}\n",
        "\\lim _{n \\to ∞} f(x) = \\lim _{n \\to ∞} (\\frac{n!}{(n-0)! \\times n!}) (0.0001)^{0} (1-0.0001)^{n-0} \\\\\n",
        "= \\lim _{n \\to ∞} (\\frac{n!}{(n)! \\times n!}) (1-0.0001)^{n} \\\\\n",
        "= \\lim _{n \\to ∞} (\\frac{n!}{n! ^2}) (1-0.0001)^{n} \\\\\n",
        "= \\lim _{n \\to ∞} (\\frac{1}{n!}) (1-0.0001)^{n}\n",
        "\\end{equation}\n",
        "\n",
        "Finalmente, sin hacer ningún cálculo es evidente que la función tiende a 0, así que concluímos que para infinitos casos la probabilidad de que $C$ sea menor a $1$ es casi imposible.\n",
        "\n"
      ],
      "metadata": {
        "id": "psJKclgVa3tG"
      }
    },
    {
      "cell_type": "markdown",
      "source": [
        "### Pregunta 6\n",
        "### Para tener un modelo más realista suponga que si  Er=0  para algún  r , entonces  Eq=0  para todo  q>r , es decir, que apenas el usuario deja de leer/examinar un resultado abandona totalmente la búsqueda (no examina más resultados). Suponga también que si un usuario lee/examina el resultado  r , pero no hace click en éste, la probabilidad de que lea/examine el siguiente resultado es  1/r , mientras que si hizo click en el resultado  r , la probabilidad de que lea/examine el siguiente resultado es  0.9 . Si  N=100 , sabemos que el algoritmo pone un resultado relevante en la lista con probabilidad  1/5  independiente de la posición, determine los valores esperados de  C  y  G  vía simulación. (20 pts)"
      ],
      "metadata": {
        "id": "X13Pz3ppa9x1"
      }
    },
    {
      "cell_type": "markdown",
      "source": [
        "Para lograr obtener los valores esperados de C y G se toman como N, todo valor de antes de la ocurrencia de $E_r$ = 0, siendo N <= 100, por ejemplo si $E_5$, entonces N = 4.\n",
        "\n",
        "Con esta logica se utiliza la f.d.p binomial, señalizada anteriormente.\n",
        "\n",
        "\n",
        "\n"
      ],
      "metadata": {
        "id": "9NOeXCp9tYj7"
      }
    },
    {
      "cell_type": "code",
      "source": [
        "# En teoria funciona como simulacion\n",
        "N = 100 #Total muestra\n",
        "cant_clicks = 0 #cantidad de clicks\n",
        "contador = 1 #Cantidad de muestra\n",
        "click = 0 #click = 1, se hizo click la anterior, click = 0, lo contrario\n",
        "for i in range(100):\n",
        "  if azar.random() <= 0.2:\n",
        "      cant_clicks+=1\n",
        "      click = 1\n",
        "  else:\n",
        "      click = 0\n",
        "  if click == 1:\n",
        "    if azar.random() <= 0.9:\n",
        "      contador += 1\n",
        "    else:\n",
        "      break\n",
        "  else:\n",
        "    if azar.random() <= 1/contador:\n",
        "      contador += 1\n",
        "    else:\n",
        "      break\n",
        "\n",
        "resultado = probabilidades_bin(contador,0,0.2)\n",
        "suma = 0\n",
        "for i in range(contador):\n",
        "  suma = suma + resultado[i]*i\n",
        "print(\"El Valor esperado de C con N =\",contador, \"es\", suma)\n",
        "#Hacer valor esperado de G, mañana se hace\n",
        "sumaG = 0\n",
        "for s in range(contador):\n",
        "  sumaG = sumaG + funcion_G(s)*s\n",
        "\n",
        "print(\"El Valor esperado de G con N =\",contador, \"es\", sumaG)"
      ],
      "metadata": {
        "id": "_qMqmPx6ePBf",
        "colab": {
          "base_uri": "https://localhost:8080/"
        },
        "outputId": "e72d7a15-6c87-425c-afbb-f218feca5afc"
      },
      "execution_count": null,
      "outputs": [
        {
          "output_type": "stream",
          "name": "stdout",
          "text": [
            "El Valor esperado de C con N = 4 es 0.7936000000000003\n",
            "El Valor esperado de G con N = 4 es 120.24579547452822\n"
          ]
        }
      ]
    },
    {
      "cell_type": "markdown",
      "source": [
        "Como se puede ver en la simulacion, el valor esperado depende en que iteración ocurre el evento donde $E_r = 0$ por lo que el valor esperado es cambiante en base a la probabilidad de obtener el valor de N"
      ],
      "metadata": {
        "id": "pNQH_Nb7G1ZY"
      }
    },
    {
      "cell_type": "markdown",
      "source": [
        "### Pregunta 7\n",
        "### Determine cómo cambian los valores esperados de C y G en la pregunta anterior cuando el algoritmo de recomendación pone un resultado relevante en la posición r con probabilidad 1 hasta las primeras R posiciones y R/r para cualquier otro r. Estudie lo que sucede con R a medida que aumenta entre 1 y 20. (20 pts)\n"
      ],
      "metadata": {
        "id": "vtlfHAoPbGdf"
      }
    },
    {
      "cell_type": "code",
      "source": [
        "\n",
        "def Probs_R(N,k,R):\n",
        "  res = []\n",
        "  for r in range(R):\n",
        "    if N < r:\n",
        "      break\n",
        "    else:  \n",
        "      prob = fdpb(N,1,r) \n",
        "      res.append(prob)\n",
        "  r = R\n",
        "  while N>r:\n",
        "    prob = fdp(N,R/r,r)\n",
        "    res.append(prob)\n",
        "    r += 1\n",
        "  return res\n",
        "\n",
        "N = 100 #Total muestra\n",
        "cant_clicks = 0 #cantidad de clicks\n",
        "contador = 1 #Cantidad de muestra\n",
        "R = 15 # cant resultados relevantes\n",
        "click = 0 #click = 1, se hizo click la anterior, click = 0, lo contrario\n",
        "for r in range(100):\n",
        "  if r < R:\n",
        "    if azar.random() <= 1:\n",
        "      cant_clicks+=1\n",
        "      click = 1\n",
        "    else:\n",
        "      click = 0\n",
        "\n",
        "  else:\n",
        "    if azar.random() <= R/r:\n",
        "        cant_clicks+=1\n",
        "        click = 1\n",
        "    else:\n",
        "        click = 0\n",
        "  if click == 1:\n",
        "    if azar.random() <= 0.9:\n",
        "      contador += 1\n",
        "    else:\n",
        "      break\n",
        "  else:\n",
        "    if azar.random() <= 1/contador:\n",
        "      contador += 1\n",
        "    else:\n",
        "      break\n",
        "\n",
        "\n",
        "resultado = Probs_R(contador,0,R)\n",
        "suma = 0\n",
        "print(resultado)\n",
        "for i in range(contador):\n",
        "  suma = suma + resultado[i]*i\n",
        "print(\"El Valor esperado de C con N =\",contador, \"es\", suma)\n",
        "#Hacer valor esperado de G, mañana se hace\n",
        "sumaG = 0\n",
        "for s in range(contador):\n",
        "  sumaG = sumaG + funcion_G(s)*s\n",
        "\n",
        "print(\"El Valor esperado de G con N =\",contador, \"es\", sumaG)"
      ],
      "metadata": {
        "id": "bTnfEBahrZB4",
        "colab": {
          "base_uri": "https://localhost:8080/"
        },
        "outputId": "3e22da26-db2c-4f3c-c98c-d48f1fbbb1e9"
      },
      "execution_count": null,
      "outputs": [
        {
          "output_type": "stream",
          "name": "stdout",
          "text": [
            "[1.0, 1.0]\n",
            "El Valor esperado de C con N = 1 es 0.0\n",
            "El Valor esperado de G con N = 1 es 0.0\n"
          ]
        }
      ]
    },
    {
      "cell_type": "markdown",
      "source": [
        "Como se puede ver en la simulación, mientras mayor sea el numero de R, habrá una mayor probabilidad de obtener, un N mayor, teniendo en cuenta la suposición mencionada en la pregunta anterior, lo que aumenta la probabilidad de tener un mayor valor esperado, tanto para C, como para G, al tener una mayor probabilidad de hacer clicks, otro dato el cual se puede anotar es que el valor esperado es que si N < R, el valor esperado es R, lo cual ocurre una mayor cantidad de veces al aumentar el numero de R"
      ],
      "metadata": {
        "id": "-DsixWcms3oY"
      }
    }
  ],
  "metadata": {
    "colab": {
      "collapsed_sections": [
        "PWblY1IUlRRU",
        "TJ4MCtOUK_dm",
        "gudzQGZUf8jm",
        "BV29TCeYeafY",
        "CSp-luDnawWO",
        "psJKclgVa3tG"
      ],
      "provenance": []
    },
    "kernelspec": {
      "display_name": "Python 3.10.7 64-bit",
      "language": "python",
      "name": "python3"
    },
    "language_info": {
      "name": "python",
      "version": "3.10.7"
    },
    "vscode": {
      "interpreter": {
        "hash": "e7370f93d1d0cde622a1f8e1c04877d8463912d04d973331ad4851f04de6915a"
      }
    }
  },
  "nbformat": 4,
  "nbformat_minor": 0
}