{
  "nbformat": 4,
  "nbformat_minor": 0,
  "metadata": {
    "colab": {
      "provenance": []
    },
    "kernelspec": {
      "name": "python3",
      "display_name": "Python 3"
    },
    "language_info": {
      "name": "python"
    }
  },
  "cells": [
    {
      "cell_type": "markdown",
      "source": [
        "<hr style=\"height:2px;border:none\"/>\n",
        "<h1 align='center'> INF-280 Estadística Computacional II-2022 </h1>\n",
        "\n",
        "<H3 align='center'> Tema 7 - Estimación de Intervalos de Confianza  </H3>\n",
        "\n",
        "\\\n",
        "\n",
        "\n",
        "Nombre del equipo: \n",
        "\n",
        "Integrantes:\n",
        "\n",
        "*   Miguel Soto Delgado - 201973623-K - [video](https://drive.google.com/drive/folders/17FG7pWxCkkUPgBBfAmCoJMoXVYcjhqIp?usp=sharing)\n",
        "*   Martin Sarubbi - 201973587-K - [video](https://www.youtube.com/watch?v=eSBWEBdApWA)\n",
        "\n",
        "*Recuerden que si su equipo se llama \"El ritmo no perdona\", entonces el nombre del archivo a subir debe ser T7_El_ritmo_no_perdona.ipynb*\n",
        "\n",
        "\n",
        "### **Formalidades**  \n",
        "* Es posible utilizar apuntes, libros, papers, ejemplos y cualquier otro material que desee de internet, pero debe ser usted quien desarrolle los ejercicios y comente los resultados en el Notebook que entregará. \n",
        "* Se permite el uso de las librerías: pandas, numpy, matplotlib y seaborn. Si desea utilizar otra librería debe indicar cómo instalarla.\n",
        "* Se debe trabajar en grupos de **dos o tres personas**, las cuales deberán estar inscritas a través de __[Aula](https://aula.usm.cl/)__.\n",
        "* Además del Notebook, deberán entregar un video explicando lo que hizo, paso a paso, como en los ejemplos entregados en AULA. Este vídeo es **individual**, es decir, cada integrante debe hacerlo por separado (debiendo utilizar el mismo Jupyter Notebook). El video puede ser subido a una plataforma externa como Youtube, Google Drive, ó Dropbox. El **link a compartir** (*visible para cualquier usuario con el link*) debe ir dentro del Notebook.\n",
        "* La nota de esta actividad es grupal.\n",
        "\n",
        "\n",
        "<hr style=\"height:2px;border:none\"/>\n",
        "\n",
        "### **Entrega** \n",
        "* **Formato**: Se debe realizar una **única** entrega por grupo (un representate del grupo) a través de  __[**Aula**](https://aula.usm.cl/)__.\n",
        "* **Archivo**: El nombre del archivo a subir debe ser **T7_Nombre_Del_Equipo.ipynb**, por ejemplo, si su equipo se llama \"El ritmo no perdona\", entonces el nombre del archivo debe ser **T7_El_ritmo_no_perdona.ipynb**\n",
        "* **Archivo**: Sus respuestas deben ser entregadas en forma de Jupyter Notebook, incluyendo **todos links** a los vídeos explicativos, uno por cada integrante.\n",
        "    * **Vídeo**: Debe grabar la pantalla (Jupyter Notebok) donde se realiza la explicación de la actividad, con una duración máxima de 25 minutos.\n",
        "* **Fecha límite**: Domingo 27 de Noviembre a las 23:59\n",
        "\n",
        "<hr style=\"height:2px;border:none\"/>\n",
        "\n",
        "### **Descuentos**\n",
        "\n",
        "* Se descontarán 5 puntos si el nombre del archivo subido no sigue el formato señalado.\n",
        "* Se descontarán 10 puntos por cada hora de atraso en la entrega.\n",
        "* Todos los gráficos que realicen deben contener los nombres de las variables en los ejes. Se descontarán 3 puntos por cada nombre faltante.\n",
        "\n",
        "<hr style=\"height:2px;border:none\"/>"
      ],
      "metadata": {
        "id": "KJ3CH3gFtttD"
      }
    },
    {
      "cell_type": "markdown",
      "source": [
        "<table align='left'>\n",
        "<tr>\n",
        "<td><img src='https://as01.epimg.net/deporteyvida/imagenes/2017/10/28/portada/1509177885_209365_1509178036_noticia_normal.jpg' width='650'/> </td>\n",
        "</tr>\n",
        "</table>"
      ],
      "metadata": {
        "id": "SaaUQp7FSjWv"
      }
    },
    {
      "cell_type": "markdown",
      "source": [
        "## Contexto"
      ],
      "metadata": {
        "id": "srxBFeLqS3TM"
      }
    },
    {
      "cell_type": "markdown",
      "metadata": {
        "id": "KULeq6-zhXTZ"
      },
      "source": [
        "Las enfermedades cardiovasculares (ECV) son la principal causa de muerte en todo el mundo y se cobran aproximadamente 17,9 millones de vidas al año, lo que representa el 31 % de todas las muertes en todo el mundo. Cuatro de cada 5 muertes por ECV se deben a ataques cardíacos y accidentes cerebrovasculares, y un tercio de estas muertes ocurren prematuramente en personas menores de 70 años. \n",
        "\n",
        "La insuficiencia cardíaca es un evento común causado por ECV. Por esto, se ha construido un dataset llamado `heart.csv`, el cual contiene 11 características que pueden usarse para predecir una posible enfermedad cardíaca. Dichas características se detallan a continuación:\n",
        "\n",
        "\n",
        "1.   `Age`: age of the patient [years]\n",
        "2.   `Sex`: sex of the patient [M: Male, F: Female]\n",
        "3.   `ChestPainType`: chest pain type [TA: Typical Angina, ATA: Atypical Angina, NAP: Non-Anginal Pain, ASY: Asymptomatic]\n",
        "4.   `RestingBP`: resting blood pressure [mm Hg]\n",
        "5.   `Cholesterol`: serum cholesterol [mm/dl]\n",
        "6.   `FastingBS`: fasting blood sugar [1: if FastingBS > 120 mg/dl, 0: otherwise]\n",
        "7.   `RestingECG`: resting electrocardiogram results [Normal: Normal, ST: having ST-T wave abnormality (T wave inversions and/or ST elevation or depression of > 0.05 mV), LVH: showing probable or definite left ventricular hypertrophy by Estes' criteria]\n",
        "8.   `MaxHR`: maximum heart rate achieved [Numeric value between 60 and 202]\n",
        "9.   `ExerciseAngina`: exercise-induced angina [Y: Yes, N: No]\n",
        "10.  `Oldpeak`: oldpeak = ST [Numeric value measured in depression]\n",
        "11.  `ST_Slope`: the slope of the peak exercise ST segment [Up: upsloping, Flat: flat, Down: downsloping]\n",
        "12.  `HeartDisease`: output class [1: heart disease, 0: Normal]\n",
        "\n",
        "\n"
      ]
    },
    {
      "cell_type": "markdown",
      "metadata": {
        "id": "Uy7o-VE6wgNg"
      },
      "source": [
        "# Librerías"
      ]
    },
    {
      "cell_type": "code",
      "metadata": {
        "id": "Fnn3KM_QwieF"
      },
      "source": [
        "import pandas as pd\n",
        "import numpy as np\n",
        "import seaborn as sns; sns.set()\n",
        "import matplotlib.pyplot as plt\n",
        "import warnings\n",
        "warnings.filterwarnings(\"ignore\")"
      ],
      "execution_count": null,
      "outputs": []
    },
    {
      "cell_type": "markdown",
      "metadata": {
        "id": "yu2fyuuKhfQo"
      },
      "source": [
        "# Datos"
      ]
    },
    {
      "cell_type": "code",
      "metadata": {
        "colab": {
          "base_uri": "https://localhost:8080/",
          "height": 424
        },
        "id": "JTb8zJpk9YIU",
        "outputId": "9a6e3ef5-470e-4bea-eb89-7b3433ab844f"
      },
      "source": [
        "data = pd.read_csv(\"heart.csv\")\n",
        "data"
      ],
      "execution_count": null,
      "outputs": [
        {
          "output_type": "execute_result",
          "data": {
            "text/plain": [
              "     Age Sex ChestPainType  RestingBP  Cholesterol  FastingBS RestingECG  \\\n",
              "0     40   M           ATA        140          289          0     Normal   \n",
              "1     49   F           NAP        160          180          0     Normal   \n",
              "2     37   M           ATA        130          283          0         ST   \n",
              "3     48   F           ASY        138          214          0     Normal   \n",
              "4     54   M           NAP        150          195          0     Normal   \n",
              "..   ...  ..           ...        ...          ...        ...        ...   \n",
              "913   45   M            TA        110          264          0     Normal   \n",
              "914   68   M           ASY        144          193          1     Normal   \n",
              "915   57   M           ASY        130          131          0     Normal   \n",
              "916   57   F           ATA        130          236          0        LVH   \n",
              "917   38   M           NAP        138          175          0     Normal   \n",
              "\n",
              "     MaxHR ExerciseAngina  Oldpeak ST_Slope  HeartDisease  \n",
              "0      172              N      0.0       Up             0  \n",
              "1      156              N      1.0     Flat             1  \n",
              "2       98              N      0.0       Up             0  \n",
              "3      108              Y      1.5     Flat             1  \n",
              "4      122              N      0.0       Up             0  \n",
              "..     ...            ...      ...      ...           ...  \n",
              "913    132              N      1.2     Flat             1  \n",
              "914    141              N      3.4     Flat             1  \n",
              "915    115              Y      1.2     Flat             1  \n",
              "916    174              N      0.0     Flat             1  \n",
              "917    173              N      0.0       Up             0  \n",
              "\n",
              "[918 rows x 12 columns]"
            ],
            "text/html": [
              "\n",
              "  <div id=\"df-1de8fb74-56b1-4dfe-ad25-fa73e31bf8e6\">\n",
              "    <div class=\"colab-df-container\">\n",
              "      <div>\n",
              "<style scoped>\n",
              "    .dataframe tbody tr th:only-of-type {\n",
              "        vertical-align: middle;\n",
              "    }\n",
              "\n",
              "    .dataframe tbody tr th {\n",
              "        vertical-align: top;\n",
              "    }\n",
              "\n",
              "    .dataframe thead th {\n",
              "        text-align: right;\n",
              "    }\n",
              "</style>\n",
              "<table border=\"1\" class=\"dataframe\">\n",
              "  <thead>\n",
              "    <tr style=\"text-align: right;\">\n",
              "      <th></th>\n",
              "      <th>Age</th>\n",
              "      <th>Sex</th>\n",
              "      <th>ChestPainType</th>\n",
              "      <th>RestingBP</th>\n",
              "      <th>Cholesterol</th>\n",
              "      <th>FastingBS</th>\n",
              "      <th>RestingECG</th>\n",
              "      <th>MaxHR</th>\n",
              "      <th>ExerciseAngina</th>\n",
              "      <th>Oldpeak</th>\n",
              "      <th>ST_Slope</th>\n",
              "      <th>HeartDisease</th>\n",
              "    </tr>\n",
              "  </thead>\n",
              "  <tbody>\n",
              "    <tr>\n",
              "      <th>0</th>\n",
              "      <td>40</td>\n",
              "      <td>M</td>\n",
              "      <td>ATA</td>\n",
              "      <td>140</td>\n",
              "      <td>289</td>\n",
              "      <td>0</td>\n",
              "      <td>Normal</td>\n",
              "      <td>172</td>\n",
              "      <td>N</td>\n",
              "      <td>0.0</td>\n",
              "      <td>Up</td>\n",
              "      <td>0</td>\n",
              "    </tr>\n",
              "    <tr>\n",
              "      <th>1</th>\n",
              "      <td>49</td>\n",
              "      <td>F</td>\n",
              "      <td>NAP</td>\n",
              "      <td>160</td>\n",
              "      <td>180</td>\n",
              "      <td>0</td>\n",
              "      <td>Normal</td>\n",
              "      <td>156</td>\n",
              "      <td>N</td>\n",
              "      <td>1.0</td>\n",
              "      <td>Flat</td>\n",
              "      <td>1</td>\n",
              "    </tr>\n",
              "    <tr>\n",
              "      <th>2</th>\n",
              "      <td>37</td>\n",
              "      <td>M</td>\n",
              "      <td>ATA</td>\n",
              "      <td>130</td>\n",
              "      <td>283</td>\n",
              "      <td>0</td>\n",
              "      <td>ST</td>\n",
              "      <td>98</td>\n",
              "      <td>N</td>\n",
              "      <td>0.0</td>\n",
              "      <td>Up</td>\n",
              "      <td>0</td>\n",
              "    </tr>\n",
              "    <tr>\n",
              "      <th>3</th>\n",
              "      <td>48</td>\n",
              "      <td>F</td>\n",
              "      <td>ASY</td>\n",
              "      <td>138</td>\n",
              "      <td>214</td>\n",
              "      <td>0</td>\n",
              "      <td>Normal</td>\n",
              "      <td>108</td>\n",
              "      <td>Y</td>\n",
              "      <td>1.5</td>\n",
              "      <td>Flat</td>\n",
              "      <td>1</td>\n",
              "    </tr>\n",
              "    <tr>\n",
              "      <th>4</th>\n",
              "      <td>54</td>\n",
              "      <td>M</td>\n",
              "      <td>NAP</td>\n",
              "      <td>150</td>\n",
              "      <td>195</td>\n",
              "      <td>0</td>\n",
              "      <td>Normal</td>\n",
              "      <td>122</td>\n",
              "      <td>N</td>\n",
              "      <td>0.0</td>\n",
              "      <td>Up</td>\n",
              "      <td>0</td>\n",
              "    </tr>\n",
              "    <tr>\n",
              "      <th>...</th>\n",
              "      <td>...</td>\n",
              "      <td>...</td>\n",
              "      <td>...</td>\n",
              "      <td>...</td>\n",
              "      <td>...</td>\n",
              "      <td>...</td>\n",
              "      <td>...</td>\n",
              "      <td>...</td>\n",
              "      <td>...</td>\n",
              "      <td>...</td>\n",
              "      <td>...</td>\n",
              "      <td>...</td>\n",
              "    </tr>\n",
              "    <tr>\n",
              "      <th>913</th>\n",
              "      <td>45</td>\n",
              "      <td>M</td>\n",
              "      <td>TA</td>\n",
              "      <td>110</td>\n",
              "      <td>264</td>\n",
              "      <td>0</td>\n",
              "      <td>Normal</td>\n",
              "      <td>132</td>\n",
              "      <td>N</td>\n",
              "      <td>1.2</td>\n",
              "      <td>Flat</td>\n",
              "      <td>1</td>\n",
              "    </tr>\n",
              "    <tr>\n",
              "      <th>914</th>\n",
              "      <td>68</td>\n",
              "      <td>M</td>\n",
              "      <td>ASY</td>\n",
              "      <td>144</td>\n",
              "      <td>193</td>\n",
              "      <td>1</td>\n",
              "      <td>Normal</td>\n",
              "      <td>141</td>\n",
              "      <td>N</td>\n",
              "      <td>3.4</td>\n",
              "      <td>Flat</td>\n",
              "      <td>1</td>\n",
              "    </tr>\n",
              "    <tr>\n",
              "      <th>915</th>\n",
              "      <td>57</td>\n",
              "      <td>M</td>\n",
              "      <td>ASY</td>\n",
              "      <td>130</td>\n",
              "      <td>131</td>\n",
              "      <td>0</td>\n",
              "      <td>Normal</td>\n",
              "      <td>115</td>\n",
              "      <td>Y</td>\n",
              "      <td>1.2</td>\n",
              "      <td>Flat</td>\n",
              "      <td>1</td>\n",
              "    </tr>\n",
              "    <tr>\n",
              "      <th>916</th>\n",
              "      <td>57</td>\n",
              "      <td>F</td>\n",
              "      <td>ATA</td>\n",
              "      <td>130</td>\n",
              "      <td>236</td>\n",
              "      <td>0</td>\n",
              "      <td>LVH</td>\n",
              "      <td>174</td>\n",
              "      <td>N</td>\n",
              "      <td>0.0</td>\n",
              "      <td>Flat</td>\n",
              "      <td>1</td>\n",
              "    </tr>\n",
              "    <tr>\n",
              "      <th>917</th>\n",
              "      <td>38</td>\n",
              "      <td>M</td>\n",
              "      <td>NAP</td>\n",
              "      <td>138</td>\n",
              "      <td>175</td>\n",
              "      <td>0</td>\n",
              "      <td>Normal</td>\n",
              "      <td>173</td>\n",
              "      <td>N</td>\n",
              "      <td>0.0</td>\n",
              "      <td>Up</td>\n",
              "      <td>0</td>\n",
              "    </tr>\n",
              "  </tbody>\n",
              "</table>\n",
              "<p>918 rows × 12 columns</p>\n",
              "</div>\n",
              "      <button class=\"colab-df-convert\" onclick=\"convertToInteractive('df-1de8fb74-56b1-4dfe-ad25-fa73e31bf8e6')\"\n",
              "              title=\"Convert this dataframe to an interactive table.\"\n",
              "              style=\"display:none;\">\n",
              "        \n",
              "  <svg xmlns=\"http://www.w3.org/2000/svg\" height=\"24px\"viewBox=\"0 0 24 24\"\n",
              "       width=\"24px\">\n",
              "    <path d=\"M0 0h24v24H0V0z\" fill=\"none\"/>\n",
              "    <path d=\"M18.56 5.44l.94 2.06.94-2.06 2.06-.94-2.06-.94-.94-2.06-.94 2.06-2.06.94zm-11 1L8.5 8.5l.94-2.06 2.06-.94-2.06-.94L8.5 2.5l-.94 2.06-2.06.94zm10 10l.94 2.06.94-2.06 2.06-.94-2.06-.94-.94-2.06-.94 2.06-2.06.94z\"/><path d=\"M17.41 7.96l-1.37-1.37c-.4-.4-.92-.59-1.43-.59-.52 0-1.04.2-1.43.59L10.3 9.45l-7.72 7.72c-.78.78-.78 2.05 0 2.83L4 21.41c.39.39.9.59 1.41.59.51 0 1.02-.2 1.41-.59l7.78-7.78 2.81-2.81c.8-.78.8-2.07 0-2.86zM5.41 20L4 18.59l7.72-7.72 1.47 1.35L5.41 20z\"/>\n",
              "  </svg>\n",
              "      </button>\n",
              "      \n",
              "  <style>\n",
              "    .colab-df-container {\n",
              "      display:flex;\n",
              "      flex-wrap:wrap;\n",
              "      gap: 12px;\n",
              "    }\n",
              "\n",
              "    .colab-df-convert {\n",
              "      background-color: #E8F0FE;\n",
              "      border: none;\n",
              "      border-radius: 50%;\n",
              "      cursor: pointer;\n",
              "      display: none;\n",
              "      fill: #1967D2;\n",
              "      height: 32px;\n",
              "      padding: 0 0 0 0;\n",
              "      width: 32px;\n",
              "    }\n",
              "\n",
              "    .colab-df-convert:hover {\n",
              "      background-color: #E2EBFA;\n",
              "      box-shadow: 0px 1px 2px rgba(60, 64, 67, 0.3), 0px 1px 3px 1px rgba(60, 64, 67, 0.15);\n",
              "      fill: #174EA6;\n",
              "    }\n",
              "\n",
              "    [theme=dark] .colab-df-convert {\n",
              "      background-color: #3B4455;\n",
              "      fill: #D2E3FC;\n",
              "    }\n",
              "\n",
              "    [theme=dark] .colab-df-convert:hover {\n",
              "      background-color: #434B5C;\n",
              "      box-shadow: 0px 1px 3px 1px rgba(0, 0, 0, 0.15);\n",
              "      filter: drop-shadow(0px 1px 2px rgba(0, 0, 0, 0.3));\n",
              "      fill: #FFFFFF;\n",
              "    }\n",
              "  </style>\n",
              "\n",
              "      <script>\n",
              "        const buttonEl =\n",
              "          document.querySelector('#df-1de8fb74-56b1-4dfe-ad25-fa73e31bf8e6 button.colab-df-convert');\n",
              "        buttonEl.style.display =\n",
              "          google.colab.kernel.accessAllowed ? 'block' : 'none';\n",
              "\n",
              "        async function convertToInteractive(key) {\n",
              "          const element = document.querySelector('#df-1de8fb74-56b1-4dfe-ad25-fa73e31bf8e6');\n",
              "          const dataTable =\n",
              "            await google.colab.kernel.invokeFunction('convertToInteractive',\n",
              "                                                     [key], {});\n",
              "          if (!dataTable) return;\n",
              "\n",
              "          const docLinkHtml = 'Like what you see? Visit the ' +\n",
              "            '<a target=\"_blank\" href=https://colab.research.google.com/notebooks/data_table.ipynb>data table notebook</a>'\n",
              "            + ' to learn more about interactive tables.';\n",
              "          element.innerHTML = '';\n",
              "          dataTable['output_type'] = 'display_data';\n",
              "          await google.colab.output.renderOutput(dataTable, element);\n",
              "          const docLink = document.createElement('div');\n",
              "          docLink.innerHTML = docLinkHtml;\n",
              "          element.appendChild(docLink);\n",
              "        }\n",
              "      </script>\n",
              "    </div>\n",
              "  </div>\n",
              "  "
            ]
          },
          "metadata": {},
          "execution_count": 281
        }
      ]
    },
    {
      "cell_type": "markdown",
      "metadata": {
        "id": "KknvDAeG2V9j"
      },
      "source": [
        "# Preguntas"
      ]
    },
    {
      "cell_type": "markdown",
      "source": [
        "Para las siguientes preguntas considere un nivel de confianza del **$95\\%$**, a menos que se indique lo contrario.\n",
        "\n",
        "\n",
        "1. Se piensa que la edad es un factor importante a la hora de determinar si una persona tiene una enfermedad al corazón(HeartDisease=1). En particular, se cree que las mujeres tienden a presentar una enfermedad al corazón a una edad mayor que los hombres. ¿Se puede afirmar que la edad media de las mujeres que tienen una enfermedad al corazón es mayor que la edad media de los hombres con una enfermedad al corazón? **(15 pts)**\n",
        "2. Determine qué ocurre con su respuesta de la pregunta anterior a medida que $α$ aumenta entre 0 y 1. **(10 pts)**\n",
        "3. Se está realizando una campaña preventiva contra las enfermedades al corazón, donde se ha observado que estas enfermedades afectan principalmente a personas mayores de 50 años. Sin embargo, se busca determinar si afecta más a los hombres o a las mujeres, o bien afecta a ambos sexos por igual. Considerando solamente a las personas mayores de 50 años, determine si la proporción de hombres con enfermedades al corazón es mayor que la proporción de mujeres con enfermedades al corazón. **(15 pts)**\n",
        "4. Determine si la media del colesterol de los hombres \"sanos\"(HeartDisease=0) es mayor que la media del colesterol de las mujeres \"sanas\". Además, analice lo que ocurre con sus varianzas y concluya al respecto. **(20 pts)**. **IMPORTANTE: No considere los datos que tengan Cholesterol=0**\n",
        "5. Se cree que la media de la presión arterial durante el reposo (RestingBP) suele ser mayor en personas con enfermedades al corazón (HeartDisease=1). Para las siguiente preguntas **considere un nivel de confianza del $99.5\\%$. Además, No considere los datos que tengan RestingBP=0**\n",
        "\n",
        "    > a) Determine si la afirmación es verdadera considerando solamente a las mujeres. En caso de no ser cierta, ¿Cuál es el valor mínimo de $\\alpha$ para que la afirmación sea verdadera? **(5 pts)**\n",
        "\n",
        "    > b) Determine si la afirmación es verdadera considerando solamente a los hombres. En caso de no ser cierta, ¿Cuál es el valor mínimo de $\\alpha$ para que la afirmación sea verdadera? **(5 pts)**\n",
        "\n",
        "    > c) Determine si la afirmación es verdadera para todas las personas. En caso de no ser cierta, ¿Cuál es el valor mínimo de $\\alpha$ para que la afirmación sea verdadera? **(5 pts)**\n",
        "\n",
        "6.  El dolor en el pecho al realizar ejercicios (ExerciseAngina='Y') es un síntoma que se suele presentar en personas con enfermedades al corazón, ya que el corazón de estas personas no recibe suficiente sangre oxigenada.\n",
        "    \n",
        "    > a) Considerando solamente a las personas **con** enfermedades al corazón, ¿Se puede afirmar que la proporción de personas con dolor en el pecho cuando realizan ejercicios (ExerciseAngina='Y')` es mayor al 50%?, ¿Cuál es el máximo nivel de confianza con el cual se cumple esta afirmación? **(15 pts)**\n",
        "\n",
        "    > b) ¿Qué ocurre si solamente se consideran a las mujeres con enfermedades al corazón en la pregunta a)? **(5 pts)**\n",
        "\n",
        "    > c) ¿Qué ocurre si solamente se consideran a los hombres con enfermedades al corazón en la pregunta a)? **(5 pts)**\n",
        "\n"
      ],
      "metadata": {
        "id": "IvUsPbc-dMyL"
      }
    },
    {
      "cell_type": "markdown",
      "source": [
        "### Pregunta 1)\n",
        "\n",
        "Primero, se nos dice que para las preguntas se toma un intervalo de confianza de $95\\%$, de esto tendremos que:\n",
        "\n",
        "\\begin{align}\n",
        "P( \\theta \\in [ \\theta_1, \\theta_2]) = 1 - \\alpha\n",
        "\\end{align}\n",
        "\n",
        "Será de la siguiente forma:\n",
        "\n",
        "\\begin{align}\n",
        "P( \\theta \\in [ \\theta_1, \\theta_2]) = 0.95\n",
        "\\end{align}\n",
        "\n",
        "Entonces para obtener el intervalo de confianza deseado, utilizamos la fórmula:\n",
        "\n",
        "\\begin{align*}\n",
        " \\left[\\bar{X} - \\frac{{t}^{n-1}_{\\alpha/2} S}{\\sqrt{n}} , \\bar{X} + \\frac{{t}^{n-1}_{\\alpha/2} S}{\\sqrt{n}} \\right]\n",
        "\\end{align*}\n",
        "\n",
        "Usando la función entregada para calcular el intervalo de confianza dada una distribución normal tendremos:"
      ],
      "metadata": {
        "id": "QiRobd1m9LAD"
      }
    },
    {
      "cell_type": "code",
      "source": [
        "from scipy.stats import t, norm\n",
        "\n",
        "def IC_media_Norm(muestra, alpha=0.05, std_real=None):\n",
        "  n = len(muestra)\n",
        "  media_muestral = np.mean(muestra)\n",
        "  if std_real is None: \n",
        "    std_real = np.std(muestra)\n",
        "  confianza = 1-alpha\n",
        "  z_alpha = norm.ppf(1-alpha/2)\n",
        "  IC_inf = media_muestral - z_alpha * std_real/np.sqrt(n) \n",
        "  IC_sup = media_muestral + z_alpha * std_real/np.sqrt(n) \n",
        "  return IC_inf,IC_sup\n",
        "\n",
        "data = pd.read_csv(\"heart.csv\")\n",
        "data_heart_disease = data[data['HeartDisease'] == 1]\n",
        "data_heart_disease_only_age = data_heart_disease['Age']\n",
        "\n",
        "print(\"La cantidad de personas con problemas cardiácos\")\n",
        "print(len(data_heart_disease_only_age))\n",
        "\n",
        "print(\"La media muestral de edad para personas con problemas cardiácos\")\n",
        "print(np.mean(data_heart_disease_only_age))\n",
        "\n",
        "print(\"El intervalo de confianza de edad para personas con problemas cardiácos\")\n",
        "IC_media_Norm(data_heart_disease_only_age)"
      ],
      "metadata": {
        "id": "hFQdEIIYEtvx",
        "colab": {
          "base_uri": "https://localhost:8080/"
        },
        "outputId": "713d9da9-3497-4c80-edc1-e46b20fab2c4"
      },
      "execution_count": null,
      "outputs": [
        {
          "output_type": "stream",
          "name": "stdout",
          "text": [
            "La cantidad de personas con problemas cardiácos\n",
            "508\n",
            "La media muestral de edad para personas con problemas cardiácos\n",
            "55.8996062992126\n",
            "El intervalo de confianza de edad para personas con problemas cardiácos\n"
          ]
        },
        {
          "output_type": "execute_result",
          "data": {
            "text/plain": [
              "(55.14145462284182, 56.65775797558338)"
            ]
          },
          "metadata": {},
          "execution_count": 282
        }
      ]
    },
    {
      "cell_type": "markdown",
      "source": [
        "Tras esto, graficamos la distribución de edades con un gráfico de barra (ya que las edades son discretas), para hacernos una idea de como se ordenan los datos."
      ],
      "metadata": {
        "id": "cj1OKz4Ua4Cg"
      }
    },
    {
      "cell_type": "code",
      "source": [
        "import seaborn as sns; sns.set()\n",
        "import matplotlib.pyplot as plt\n",
        "\n",
        "data = pd.read_csv(\"heart.csv\")\n",
        "\n",
        "data_heart_disease = data[data['HeartDisease'] == 1]\n",
        "\n",
        "f = plt.figure(figsize=(10,6))\n",
        "ax = f.add_axes([0.1, 0.1, 0.9, 0.9])\n",
        "data_heart_disease.groupby('Age').Age.count().plot(kind='bar',ax=ax)\n",
        "plt.plot()"
      ],
      "metadata": {
        "colab": {
          "base_uri": "https://localhost:8080/",
          "height": 478
        },
        "id": "7VBB8YKla8bw",
        "outputId": "50ea12f4-d263-452e-c008-e8897ca5eccd"
      },
      "execution_count": null,
      "outputs": [
        {
          "output_type": "execute_result",
          "data": {
            "text/plain": [
              "[]"
            ]
          },
          "metadata": {},
          "execution_count": 283
        },
        {
          "output_type": "display_data",
          "data": {
            "text/plain": [
              "<Figure size 720x432 with 1 Axes>"
            ],
            "image/png": "[encoded data removed]"
          },
          "metadata": {}
        }
      ]
    },
    {
      "cell_type": "markdown",
      "source": [
        "Ahora, para comparar los datos entre hombres y mujeres, calculamos el intervalo de confianza para ambos por separado y luego realizar el análisis. Partimos con los hombres."
      ],
      "metadata": {
        "id": "brPyZ2mFbCwr"
      }
    },
    {
      "cell_type": "code",
      "source": [
        "data_heart_disease_men = data_heart_disease[data_heart_disease['Sex'] == 'M']\n",
        "data_heart_disease_men_age_only = data_heart_disease_men['Age']\n",
        "data_heart_disease_men_qty = len(data_heart_disease_men)\n",
        "\n",
        "print(\"Cantidad de hombres con problemas cardiácos:\")\n",
        "print(data_heart_disease_men_qty)\n",
        "\n",
        "print(\"Intervalo de confianza:\",IC_media_Norm(data_heart_disease_men_age_only))\n",
        "\n",
        "\n",
        "print(\"Media de edad:\")\n",
        "print(np.mean(data_heart_disease_men['Age']))\n"
      ],
      "metadata": {
        "colab": {
          "base_uri": "https://localhost:8080/"
        },
        "id": "Kx0zmte6bF8w",
        "outputId": "02a11912-befb-46b5-e0d5-e46151560851"
      },
      "execution_count": null,
      "outputs": [
        {
          "output_type": "stream",
          "name": "stdout",
          "text": [
            "Cantidad de hombres con problemas cardiácos:\n",
            "458\n",
            "Intervalo de confianza: (55.064991054415586, 56.67300021195996)\n",
            "Media de edad:\n",
            "55.86899563318777\n"
          ]
        }
      ]
    },
    {
      "cell_type": "code",
      "source": [
        "data_heart_disease_women = data_heart_disease[data_heart_disease['Sex'] == 'F']\n",
        "data_heart_disease_women_age_only = data_heart_disease_women['Age']\n",
        "data_heart_disease_women_qty = len(data_heart_disease_women)\n",
        "\n",
        "print(\"Cantidad de mujeres con problemas cardiácos:\")\n",
        "print(data_heart_disease_women_qty)\n",
        "\n",
        "print(\"Intervalo de confianza:\",IC_media_Norm(data_heart_disease_women_age_only))\n",
        "\n",
        "\n",
        "print(\"Media de edad:\")\n",
        "print(np.mean(data_heart_disease_women['Age']))"
      ],
      "metadata": {
        "colab": {
          "base_uri": "https://localhost:8080/"
        },
        "id": "6P8FMcSrbH6e",
        "outputId": "b92ac53e-dc53-4d81-8c73-f46941669243"
      },
      "execution_count": null,
      "outputs": [
        {
          "output_type": "stream",
          "name": "stdout",
          "text": [
            "Cantidad de mujeres con problemas cardiácos:\n",
            "50\n",
            "Intervalo de confianza: (53.924293466811775, 58.435706533188224)\n",
            "Media de edad:\n",
            "56.18\n"
          ]
        }
      ]
    },
    {
      "cell_type": "code",
      "source": [],
      "metadata": {
        "id": "LjJN7q9FveLQ"
      },
      "execution_count": null,
      "outputs": []
    },
    {
      "cell_type": "markdown",
      "source": [
        "Ahora graficamos."
      ],
      "metadata": {
        "id": "d4OjzNlSbJvj"
      }
    },
    {
      "cell_type": "code",
      "source": [
        "f = plt.figure(figsize=(10,6))\n",
        "ax = f.add_axes([0.1, 0.1, 0.9, 0.9])\n",
        "data_heart_disease_men.groupby('Age').Age.count().plot(kind='bar',ax=ax)\n",
        "plt.plot()"
      ],
      "metadata": {
        "colab": {
          "base_uri": "https://localhost:8080/",
          "height": 478
        },
        "id": "MNlZ_pzCbM3x",
        "outputId": "b70fe74f-7339-4d07-eea9-b99ee5c7601d"
      },
      "execution_count": null,
      "outputs": [
        {
          "output_type": "execute_result",
          "data": {
            "text/plain": [
              "[]"
            ]
          },
          "metadata": {},
          "execution_count": 286
        },
        {
          "output_type": "display_data",
          "data": {
            "text/plain": [
              "<Figure size 720x432 with 1 Axes>"
            ],
            "image/png": "[encoded data removed]"
          },
          "metadata": {}
        }
      ]
    },
    {
      "cell_type": "code",
      "source": [
        "f = plt.figure(figsize=(10,6))\n",
        "ax = f.add_axes([0.1, 0.1, 0.9, 0.9])\n",
        "data_heart_disease_women.groupby('Age').Age.count().plot(kind='bar',ax=ax)\n",
        "plt.plot()"
      ],
      "metadata": {
        "colab": {
          "base_uri": "https://localhost:8080/",
          "height": 478
        },
        "id": "fiZwI7rybO-i",
        "outputId": "7f6bfe42-99af-43ba-bc25-ef1fd46958d2"
      },
      "execution_count": null,
      "outputs": [
        {
          "output_type": "execute_result",
          "data": {
            "text/plain": [
              "[]"
            ]
          },
          "metadata": {},
          "execution_count": 287
        },
        {
          "output_type": "display_data",
          "data": {
            "text/plain": [
              "<Figure size 720x432 with 1 Axes>"
            ],
            "image/png": "[encoded data removed]"
          },
          "metadata": {}
        }
      ]
    },
    {
      "cell_type": "markdown",
      "source": [
        "Finalmente ¿Pódemos afirmar que la media de edad para mujeres en este caso es \n",
        "mayor? Podemos estar muy seguros que sí, ya que la media al presentar problemas \n",
        "cardiácos en las mujeres es, en efecto, más alta que para los hombres. Sin \n",
        "embargo, el intervalo para la edad en mujeres también es más amplio, indicando\n",
        "que la media podría ser menor o mayor dada una población diferente.\n",
        "También es importante recalcar que la cantidad de hombres para este caso era\n",
        "casi diez veces mayor que las mujeres."
      ],
      "metadata": {
        "id": "tA-iC2_FFa2d"
      }
    },
    {
      "cell_type": "markdown",
      "source": [
        "### Pregunta 2)\n",
        "\n",
        "Usando la mísma teoría que para el ejercicio anterior:\n",
        "\n",
        "\\begin{align}\n",
        "P( \\theta \\in [ \\theta_1, \\theta_2]) = 1 - \\alpha\n",
        "\\end{align}\n",
        "\n",
        "Será de la siguiente forma:\n",
        "\n",
        "\\begin{align}\n",
        "P( \\theta \\in [ \\theta_1, \\theta_2]) = 0.95\n",
        "\\end{align}\n",
        "\n",
        "Entonces para obtener el intervalo de confianza deseado, utilizamos la fórmula:\n",
        "\n",
        "\\begin{align*}\n",
        " \\left[\\bar{X} - \\frac{{t}^{n-1}_{\\alpha/2} S}{\\sqrt{n}} , \\bar{X} + \\frac{{t}^{n-1}_{\\alpha/2} S}{\\sqrt{n}} \\right]\n",
        "\\end{align*}\n",
        "\n",
        "Como disponemos de la maravillosa tecnología y de Python, podemos programar una función que nos calcule los intervalos de confianza dado una cantidad de alfas diferentes en el rango de cero a uno."
      ],
      "metadata": {
        "id": "LcFrlU9GGvLe"
      }
    },
    {
      "cell_type": "code",
      "source": [
        "from scipy.stats import t, norm, f, chi2\n",
        "\n",
        "def IC_media_Norm(muestra, alpha, std_real=None):\n",
        "  n = len(muestra)\n",
        "  media_muestral = np.mean(muestra)\n",
        "  if std_real is None: \n",
        "    std_real = np.std(muestra)\n",
        "  confianza = 1-alpha\n",
        "  z_alpha = norm.ppf(1-alpha/2)\n",
        "  IC_inf = media_muestral - z_alpha * std_real/np.sqrt(n) \n",
        "  IC_sup = media_muestral + z_alpha * std_real/np.sqrt(n) \n",
        "  return IC_inf,IC_sup\n",
        "\n",
        "def IC_between_range(muestra, precision):\n",
        "  delta_alpha = 1 / precision\n",
        "  alpha = 0\n",
        "  for i in range(precision):\n",
        "    print(\"Intervalo de confianza para alpha = \", alpha)\n",
        "    print(IC_media_Norm(muestra, alpha))\n",
        "    print(\"\\n\")\n",
        "    alpha += delta_alpha\n",
        "\n",
        "\n",
        "data = pd.read_csv(\"heart.csv\")\n",
        "data_heart_disease = data[data['HeartDisease'] == 1]\n",
        "data_heart_disease_only_age = data_heart_disease['Age']\n",
        "\n",
        "cantidad = 20\n",
        "IC_between_range(data_heart_disease_only_age, cantidad)\n"
      ],
      "metadata": {
        "colab": {
          "base_uri": "https://localhost:8080/"
        },
        "outputId": "54d7f0c3-4b9f-4bdc-b946-3a58aa0e7f1c",
        "id": "-llwO3ADHKTL"
      },
      "execution_count": null,
      "outputs": [
        {
          "output_type": "stream",
          "name": "stdout",
          "text": [
            "Intervalo de confianza para alpha =  0\n",
            "(-inf, inf)\n",
            "\n",
            "\n",
            "Intervalo de confianza para alpha =  0.05\n",
            "(55.14145462284182, 56.65775797558338)\n",
            "\n",
            "\n",
            "Intervalo de confianza para alpha =  0.1\n",
            "(55.26334535539201, 56.53586724303319)\n",
            "\n",
            "\n",
            "Intervalo de confianza para alpha =  0.15000000000000002\n",
            "(55.34276790499251, 56.45644469343269)\n",
            "\n",
            "\n",
            "Intervalo de confianza para alpha =  0.2\n",
            "(55.40387756366584, 56.39533503475936)\n",
            "\n",
            "\n",
            "Intervalo de confianza para alpha =  0.25\n",
            "(55.454629086353854, 56.344583512071345)\n",
            "\n",
            "\n",
            "Intervalo de confianza para alpha =  0.3\n",
            "(55.49869397741003, 56.30051862101517)\n",
            "\n",
            "\n",
            "Intervalo de confianza para alpha =  0.35\n",
            "(55.5380892288304, 56.2611233695948)\n",
            "\n",
            "\n",
            "Intervalo de confianza para alpha =  0.39999999999999997\n",
            "(55.57405105731243, 56.22516154111277)\n",
            "\n",
            "\n",
            "Intervalo de confianza para alpha =  0.44999999999999996\n",
            "(55.60739727235884, 56.19181532606636)\n",
            "\n",
            "\n",
            "Intervalo de confianza para alpha =  0.49999999999999994\n",
            "(55.638700721947075, 56.160511876478125)\n",
            "\n",
            "\n",
            "Intervalo de confianza para alpha =  0.5499999999999999\n",
            "(55.66838121283273, 56.13083138559247)\n",
            "\n",
            "\n",
            "Intervalo de confianza para alpha =  0.6\n",
            "(55.69675811887086, 56.10245447955434)\n",
            "\n",
            "\n",
            "Intervalo de confianza para alpha =  0.65\n",
            "(55.72408237741375, 56.07513022101145)\n",
            "\n",
            "\n",
            "Intervalo de confianza para alpha =  0.7000000000000001\n",
            "(55.75055694940252, 56.04865564902268)\n",
            "\n",
            "\n",
            "Intervalo de confianza para alpha =  0.7500000000000001\n",
            "(55.776350479282826, 56.022862119142374)\n",
            "\n",
            "\n",
            "Intervalo de confianza para alpha =  0.8000000000000002\n",
            "(55.801606778577955, 55.997605819847244)\n",
            "\n",
            "\n",
            "Intervalo de confianza para alpha =  0.8500000000000002\n",
            "(55.826451663187505, 55.972760935237694)\n",
            "\n",
            "\n",
            "Intervalo de confianza para alpha =  0.9000000000000002\n",
            "(55.85099807910005, 55.94821451932515)\n",
            "\n",
            "\n",
            "Intervalo de confianza para alpha =  0.9500000000000003\n",
            "(55.87535011430693, 55.92386248411827)\n",
            "\n",
            "\n"
          ]
        }
      ]
    },
    {
      "cell_type": "markdown",
      "source": [
        "Notamos como el rango se reduce al incrementar el alfa, esto ocurre porque nuestro grado de confianza se reduce para alfas mayores. Ahora veamos que ocurre para los hombres y mujeres. Para esto, decidí hacer una función que toma ambos intervalos y los agrega a una lista, para así después poder mostrarlos por pantalla."
      ],
      "metadata": {
        "id": "FH0_-3JdI55d"
      }
    },
    {
      "cell_type": "code",
      "source": [
        "import matplotlib.pyplot as plt\n",
        "\n",
        "cantidad = 20\n",
        "\n",
        "def IC_between_range_to_list(muestra, precision):\n",
        "  product = []\n",
        "  delta_alpha = 1 / precision\n",
        "  alpha = 0\n",
        "  for i in range(precision):\n",
        "    product.append(IC_media_Norm(muestra, alpha))\n",
        "    alpha += delta_alpha\n",
        "\n",
        "  return product\n",
        "\n",
        "def alpha_to_array(precision):\n",
        "  product = []\n",
        "  delta_alpha = 1 / precision\n",
        "  alpha = 0\n",
        "  for i in range(precision):\n",
        "    product.append(alpha)\n",
        "    alpha += delta_alpha\n",
        "\n",
        "  return product\n",
        "\n",
        "cantidad = 40\n",
        "men_data_array = IC_between_range_to_list(data_heart_disease_men['Age'], cantidad)\n",
        "women_data_array = IC_between_range_to_list(data_heart_disease_women['Age'], cantidad)\n",
        "alpha_array = alpha_to_array(cantidad)\n",
        "\n",
        "alpha_array = []\n",
        "a = 0\n",
        "for i in range(cantidad):\n",
        "  a += 1 / cantidad\n",
        "  alpha_array.append(a)\n",
        "\n",
        "plt.title('Alpha vs. Intervalos de Confianza')\n",
        "plt.plot(men_data_array, alpha_array, label = \"Edad Hombres\")\n",
        "plt.plot(women_data_array, alpha_array, label = \"Edad Mujeres\")\n",
        "plt.legend()\n"
      ],
      "metadata": {
        "id": "IYoYdhj1JU9e",
        "colab": {
          "base_uri": "https://localhost:8080/",
          "height": 302
        },
        "outputId": "cc071db4-497c-495a-f17d-9ac69917f75e"
      },
      "execution_count": null,
      "outputs": [
        {
          "output_type": "execute_result",
          "data": {
            "text/plain": [
              "<matplotlib.legend.Legend at 0x7f8383cb01d0>"
            ]
          },
          "metadata": {},
          "execution_count": 289
        },
        {
          "output_type": "display_data",
          "data": {
            "text/plain": [
              "<Figure size 432x288 with 1 Axes>"
            ],
            "image/png": "[encoded data removed]"
          },
          "metadata": {}
        }
      ]
    },
    {
      "cell_type": "markdown",
      "source": [
        "A partir de esto, podemos notar como los intervalos de confianza disminuyen en rango en donde cierto punto las cotas se intersectan. De esto podemos inferir que hay ciertos intervalos de confianza que pueden alterar la respuesta a nuestra hipótesis, en específico, para alfas cercanos a 0.675, la edad de las mujeres tiende a ser similar a la de los hombres a la hora de presentar problemas cardiácos. Sin embargo, también hay que notar que la media nunca cambia, independiente del alfa dado."
      ],
      "metadata": {
        "id": "gZUxlpVJDspY"
      }
    },
    {
      "cell_type": "markdown",
      "source": [
        "### Pregunta 3)\n",
        "Se está realizando una campaña preventiva contra las enfermedades al corazón, donde se ha observado que estas enfermedades afectan principalmente a personas mayores de 50 años. Sin embargo, se busca determinar si afecta más a los hombres o a las mujeres, o bien afecta a ambos sexos por igual. Considerando solamente a las personas mayores de 50 años, determine si la proporción de hombres con enfermedades al corazón es mayor que la proporción de mujeres con enfermedades al corazón. (15 pts)"
      ],
      "metadata": {
        "id": "0sPUQti3GLTr"
      }
    },
    {
      "cell_type": "code",
      "source": [
        "def IC_prop_diff(datos1,datos2,alpha=0.05):\n",
        "    n1 = len(datos1)\n",
        "    n2 = len(datos2)\n",
        "    media1 = np.mean(datos1)\n",
        "    media2 = np.mean(datos2)\n",
        "    diff = media1-media2\n",
        "    print(\"La diferencia de medias equivale a: \", diff)\n",
        "    ALPHA = norm.ppf(1-alpha/2)\n",
        "    prop1 = (media1*(1-media1))/n1\n",
        "    prop2 = (media2*(1-media2))/n2\n",
        "    form = ALPHA*np.sqrt(prop1+prop2)\n",
        "    ICinf = diff - form\n",
        "    ICsup = diff + form\n",
        "    return (ICinf,ICsup)\n",
        "\n",
        "    \n",
        "    \n",
        "\n",
        "Total = data[data['Age'] > 50]\n",
        "Hombres = Total[Total['Sex'] == 'M']\n",
        "HombresCorazon = Hombres['HeartDisease']\n",
        "\n",
        "\n",
        "Mujeres = Total[Total['Sex'] == 'F']\n",
        "MujeresCorazon = Mujeres['HeartDisease']\n",
        "\n",
        "IC_prop_diff(HombresCorazon,MujeresCorazon,alpha=0.05)\n"
      ],
      "metadata": {
        "colab": {
          "base_uri": "https://localhost:8080/"
        },
        "id": "zLST-17TGSA2",
        "outputId": "56127b7e-a7af-403c-a30f-5ff2a0349e66"
      },
      "execution_count": null,
      "outputs": [
        {
          "output_type": "stream",
          "name": "stdout",
          "text": [
            "La diferencia de medias equivale a:  0.3672350682974735\n"
          ]
        },
        {
          "output_type": "execute_result",
          "data": {
            "text/plain": [
              "(0.27172270174452595, 0.462747434850421)"
            ]
          },
          "metadata": {},
          "execution_count": 290
        }
      ]
    },
    {
      "cell_type": "markdown",
      "source": [
        "Como se puede observar, tomando como nivel de confianza un 95% se puede confirmar por los Intervalos de Confianza obtenidos que la proporción de los hombres con problemas al corazón es mayor a la proporción de las mujeres con problemas al corazón, por lo que podemos verificar que estos problemas al corazón afectan mas a los hombres"
      ],
      "metadata": {
        "id": "slpNXNVj0SMp"
      }
    },
    {
      "cell_type": "markdown",
      "source": [
        "### Pregunta 4\n",
        "\n",
        "Determine si la media del colesterol de los hombres \"sanos\"(HeartDisease=0) es mayor que la media del colesterol de las mujeres \"sanas\". Además, analice lo que ocurre con sus varianzas y concluya al respecto. (20 pts). IMPORTANTE: No considere los datos que tengan Cholesterol=0"
      ],
      "metadata": {
        "id": "1R-IBpKQGcwr"
      }
    },
    {
      "cell_type": "code",
      "source": [
        "from scipy.stats import t, norm, f, chi2\n",
        "#Intervalo de Confianza para la diferencia de medias sin varianza\n",
        "\n",
        "def IC_diferencia_medias_sinV(datos1,datos2,alpha=0.05):\n",
        "    n1=len(datos1)\n",
        "    n2=len(datos2)\n",
        "    media1=np.mean(datos1)\n",
        "    media2=np.mean(datos2)\n",
        "    std1=np.std(datos1,ddof=1)\n",
        "    std2=np.std(datos2,ddof=1)\n",
        "    grados_libertad=((((std1**2)/n1)+((std2**2)/n2))**2)/(((((std1**2)/n1)**2)/(n1-1))+(((std2**2)/n2)**2)/(n2-1))\n",
        "    t_alpha=t.ppf(1-alpha/2, df=grados_libertad)    \n",
        "    ICinf=(media1-media2)-t_alpha*np.sqrt((std1/n1)+(std2/n2))\n",
        "    ICsup=(media1-media2)+t_alpha*np.sqrt((std1/n1)+(std2/n2))\n",
        "    print(\"La diferencia entre las medias es: \",(media1-media2))\n",
        "    return(ICinf,ICsup)\n",
        "\n",
        "#Intervalo de Confianza para varianza   \n",
        "\n",
        "def IC_var(datos,alpha=0.05):\n",
        "  n=len(datos)\n",
        "  std = np.std(datos)\n",
        "  chi_alpha1 = chi2.ppf(1-alpha/2, df=n-1)\n",
        "  chi_alpha2 = chi2.ppf(alpha/2, df=n-1)\n",
        "  ICinf = (((n-1)*std)/chi_alpha1)\n",
        "  ICsup = (((n-1)*std)/chi_alpha2)\n",
        "  return(ICinf,ICsup)\n",
        "\n",
        "#Intervalo de Confianza para el cuociente de dos varianzas\n",
        "\n",
        "def IC_couc_var(datos1,datos2,alpha=0.05):\n",
        "  n1 = len(datos1)\n",
        "  n2 = len(datos2)\n",
        "  std1 = np.std(datos1)\n",
        "  std2 = np.std(datos2)\n",
        "  ALPHA1 = f.ppf((alpha/2),n1-1,n2-1)\n",
        "  ALPHA2 = f.ppf(1-(alpha/2),n1-1,n2-1)\n",
        "  couciente = std1/std2\n",
        "  ICinf = ALPHA1*couciente\n",
        "  ICsup = ALPHA2*couciente\n",
        "  return(ICinf,ICsup)\n",
        "\n",
        "\n",
        "HombresTotal = data[data['Sex'] == 'M']\n",
        "HombreSanos = HombresTotal[HombresTotal[\"HeartDisease\"] == 0]\n",
        "\n",
        "HombresCol = HombreSanos[HombreSanos['Cholesterol'] != 0]\n",
        "HombresCol = HombresCol['Cholesterol']\n",
        "\n",
        "MujeresTotal = data[data['Sex'] == 'F']\n",
        "MujeresSanos = MujeresTotal[MujeresTotal[\"HeartDisease\"] == 0]\n",
        "\n",
        "MujeresCol = MujeresSanos[MujeresSanos['Cholesterol'] != 0]\n",
        "MujeresCol = MujeresCol['Cholesterol']\n",
        "\n",
        "MediaHombre = np.mean(HombresCol)\n",
        "MediaMujer = np.mean(MujeresCol)\n",
        "\n",
        "\n",
        "print(\"\\nIntevalo de Confianza para la diferencia de medias:\", IC_diferencia_medias_sinV(HombresCol,MujeresCol,alpha=0.05))\n",
        "\n",
        "print(\"\\nIntervalo de Confianza para la Varinza de hombres:\",IC_var(HombresCol,alpha=0.05))\n",
        "\n",
        "print(\"\\nIntervalo de Confianza para la Varinza de Mujeres:\", IC_var(MujeresCol,alpha=0.05))\n",
        "\n",
        "print(\"\\nIntervalo de Confianza para el couciente de las dos varianzas:\", IC_couc_var(HombresCol,MujeresCol,alpha=0.05))\n",
        "\n",
        "\n",
        "\n"
      ],
      "metadata": {
        "id": "_RVcbjqaGjYL",
        "colab": {
          "base_uri": "https://localhost:8080/"
        },
        "outputId": "07c32290-3249-4608-8099-628e4db5c5d3"
      },
      "execution_count": null,
      "outputs": [
        {
          "output_type": "stream",
          "name": "stdout",
          "text": [
            "La diferencia entre las medias es:  -16.37664697864605\n",
            "\n",
            "Intevalo de Confianza para la diferencia de medias: (-17.953357048451323, -14.799936908840778)\n",
            "\n",
            "Intervalo de Confianza para la Varinza de hombres: (42.35046202249843, 60.30491092976554)\n",
            "\n",
            "Intervalo de Confianza para la Varinza de Mujeres: (49.74396135341458, 79.46971172364579)\n",
            "\n",
            "Intervalo de Confianza para el couciente de las dos varianzas: (0.6064910137126119, 1.0909249532607133)\n"
          ]
        }
      ]
    },
    {
      "cell_type": "markdown",
      "source": [
        "Al ver los intervalos de confianza de las medias se puede ver que la media del colesterol en la mujeres \"sanas\" es mayor que la media del colesterol en los hombres \"sanos\", debido a que tanto su intervalo inferior como superior dan como resultado un numero negativo.\n",
        "\n",
        "Otra cosa que se puede analizar es que el Intervalo de Confianza para el cuociente de dos varianzas si pasa por el uno, lo que podemos concluir que las varianzas son similares, también se puede concluir que la varianza del colesterol dentro de las mujeres \"sanas\" es mayor a la varianza del colesterol de hombres \"sanos\", por lo que el colesterol de las mujeres \"sanas\" esta mas disperso que el colesterol de los hombres \"sanos\", lo anterior se afirmo con un intervalo de confianza para la varianza con un nivel de confianza del 95%\n",
        "\n"
      ],
      "metadata": {
        "id": "zjM0Dmae2QSP"
      }
    },
    {
      "cell_type": "markdown",
      "source": [
        "### Pregunta 5\n",
        "\n",
        "5. Se cree que la media de la presión arterial durante el reposo (RestingBP) suele ser mayor en personas con enfermedades al corazón (HeartDisease=1). Para las siguiente preguntas **considere un nivel de confianza del $99.5\\%$. Además, No considere los datos que tengan RestingBP=0**\n",
        "\n",
        "    > a) Determine si la afirmación es verdadera considerando solamente a las mujeres. En caso de no ser cierta, ¿Cuál es el valor mínimo de $\\alpha$ para que la afirmación sea verdadera? **(5 pts)**\n",
        "\n",
        "    > b) Determine si la afirmación es verdadera considerando solamente a los hombres. En caso de no ser cierta, ¿Cuál es el valor mínimo de $\\alpha$ para que la afirmación sea verdadera? **(5 pts)**\n",
        "\n",
        "    > c) Determine si la afirmación es verdadera para todas las personas. En caso de no ser cierta, ¿Cuál es el valor mínimo de $\\alpha$ para que la afirmación sea verdadera? **(5 pts)**"
      ],
      "metadata": {
        "id": "JtXpenBZ5SNn"
      }
    },
    {
      "cell_type": "markdown",
      "source": [
        "Primero, veamos como se distribuyen las presiones arteriales, tomando en consideración si es que poseen o no problemas cardiácos."
      ],
      "metadata": {
        "id": "Hm6uNPF2IO2h"
      }
    },
    {
      "cell_type": "markdown",
      "source": [
        "### Distribución para las mujeres"
      ],
      "metadata": {
        "id": "_qnl5gsnxcTf"
      }
    },
    {
      "cell_type": "code",
      "source": [
        "import seaborn as sns; sns.set()\n",
        "import matplotlib.pyplot as plt\n",
        "f = plt.figure(figsize=(10,6))\n",
        "ax = f.add_axes([0.1, 0.1, 0.9, 0.9])\n",
        "\n",
        "data_men = data[data['Sex'] == 'M']\n",
        "data_women = data[data['Sex'] == 'F']\n",
        "data_women_disease = data_women[data_women['HeartDisease'] == 1]\n",
        "data_women_no_disease = data_women[data_women['HeartDisease'] == 0]\n",
        "data_women_disease_resting = data_women_disease['RestingBP']\n",
        "data_women_no_disease_resting = data_women_no_disease['RestingBP']\n",
        "\n",
        "sns.distplot(data_women_disease_resting, ax=ax, rug=True, hist=False, kde=True, kde_kws={\"shade\": True}, label = 'Con Problemas Cardiacos')\n",
        "sns.distplot(data_women_no_disease_resting, ax=ax, rug=True, hist=False, kde=True, kde_kws={\"shade\": True}, label = 'Sin Problemas Cardiacos')\n",
        "plt.legend()\n",
        "plt.show()\n",
        "\n",
        "print(\"La media de presiones arteriales para mujeres con problemas cardiácos:\")\n",
        "print(np.mean(data_women_disease_resting))\n",
        "\n",
        "print(\"La media de presiones arteriales para mujeres sin problemas cardiácos:\")\n",
        "print(np.mean(data_women_no_disease_resting))\n",
        "\n",
        "print(\"El intervalo de confianza de presión para mujeres con problemas cardiácos (Dist. Normal)\")\n",
        "print(IC_media_Norm(data_women_disease_resting, 0.005))\n",
        "\n",
        "print(\"El intervalo de confianza de presión para mujeres sin problemas cardiácos (Dist. Normal)\")\n",
        "print(IC_media_Norm(data_women_no_disease_resting, 0.005))"
      ],
      "metadata": {
        "colab": {
          "base_uri": "https://localhost:8080/",
          "height": 599
        },
        "id": "y9vMCqpyPsxH",
        "outputId": "5ca26652-443e-4540-fac2-9a402f506085"
      },
      "execution_count": null,
      "outputs": [
        {
          "output_type": "display_data",
          "data": {
            "text/plain": [
              "<Figure size 720x432 with 1 Axes>"
            ],
            "image/png": "[encoded data removed]"
          },
          "metadata": {}
        },
        {
          "output_type": "stream",
          "name": "stdout",
          "text": [
            "La media de presiones arteriales para mujeres con problemas cardiácos:\n",
            "142.0\n",
            "La media de presiones arteriales para mujeres sin problemas cardiácos:\n",
            "128.7902097902098\n",
            "El intervalo de confianza de presión para mujeres con problemas cardiácos (Dist. Normal)\n",
            "(132.86544457836064, 151.13455542163936)\n",
            "El intervalo de confianza de presión para mujeres sin problemas cardiácos (Dist. Normal)\n",
            "(124.90039102851513, 132.68002855190443)\n"
          ]
        }
      ]
    },
    {
      "cell_type": "markdown",
      "source": [
        "### Distribución para los hombres"
      ],
      "metadata": {
        "id": "5j-VmOtwxkmV"
      }
    },
    {
      "cell_type": "code",
      "source": [
        "import seaborn as sns; sns.set()\n",
        "import matplotlib.pyplot as plt\n",
        "f = plt.figure(figsize=(10,6))\n",
        "ax = f.add_axes([0.1, 0.1, 0.9, 0.9])\n",
        "\n",
        "data_men_disease = data_men[data_men['HeartDisease'] == 1]\n",
        "data_men_no_disease = data_men[data_men['HeartDisease'] == 0]\n",
        "data_men_disease_resting = data_men_disease['RestingBP']\n",
        "data_men_no_disease_resting = data_men_no_disease['RestingBP']\n",
        "\n",
        "sns.distplot(data_men_disease_resting, ax=ax, rug=True, hist=False, kde=True, kde_kws={\"shade\": True}, label = 'Con Problemas Cardiacos')\n",
        "sns.distplot(data_men_no_disease_resting, ax=ax, rug=True, hist=False, kde=True, kde_kws={\"shade\": True}, label = 'Sin Problemas Cardiacos')\n",
        "plt.legend()\n",
        "plt.show()\n",
        "\n",
        "print(\"La media de presiones arteriales para hombres con problemas cardiácos:\")\n",
        "print(np.mean(data_men_disease_resting))\n",
        "\n",
        "print(\"La media de presiones arteriales para hombres sin problemas cardiácos:\")\n",
        "print(np.mean(data_men_no_disease_resting))\n",
        "\n",
        "print(\"El intervalo de confianza de presión para hombres con problemas cardiácos (Dist. Normal)\")\n",
        "print(IC_media_Norm(data_men_disease_resting, 0.005))\n",
        "\n",
        "print(\"El intervalo de confianza de presión para hombres sin problemas cardiácos (Dist. Normal)\")\n",
        "print(IC_media_Norm(data_men_no_disease_resting, 0.005))"
      ],
      "metadata": {
        "colab": {
          "base_uri": "https://localhost:8080/",
          "height": 599
        },
        "id": "RBnsqYsjvFlB",
        "outputId": "111af2ef-6a4f-4ab8-caeb-a3580614b0f9"
      },
      "execution_count": null,
      "outputs": [
        {
          "output_type": "display_data",
          "data": {
            "text/plain": [
              "<Figure size 720x432 with 1 Axes>"
            ],
            "image/png": "[encoded data removed]"
          },
          "metadata": {}
        },
        {
          "output_type": "stream",
          "name": "stdout",
          "text": [
            "La media de presiones arteriales para hombres con problemas cardiácos:\n",
            "133.33187772925766\n",
            "La media de presiones arteriales para hombres sin problemas cardiácos:\n",
            "130.9250936329588\n",
            "El intervalo de confianza de presión para hombres con problemas cardiácos (Dist. Normal)\n",
            "(130.80874082280158, 135.85501463571373)\n",
            "El intervalo de confianza de presión para hombres sin problemas cardiácos (Dist. Normal)\n",
            "(128.11091244612714, 133.73927481979047)\n"
          ]
        }
      ]
    },
    {
      "cell_type": "markdown",
      "source": [
        "### Distribución independiente del sexo"
      ],
      "metadata": {
        "id": "-Xz3QwhAymJm"
      }
    },
    {
      "cell_type": "code",
      "source": [
        "import seaborn as sns; sns.set()\n",
        "import matplotlib.pyplot as plt\n",
        "f = plt.figure(figsize=(10,6))\n",
        "ax = f.add_axes([0.1, 0.1, 0.9, 0.9])\n",
        "\n",
        "data_heart_disease = data[data['HeartDisease'] == 1]\n",
        "data_heart_no_disease = data[data['HeartDisease'] == 0]\n",
        "\n",
        "data_resting = data['RestingBP']\n",
        "\n",
        "data_resting_disease = data_heart_disease['RestingBP']\n",
        "data_resting_no_disease = data_heart_no_disease['RestingBP']\n",
        "\n",
        "sns.distplot(data_resting_disease, ax=ax, rug=True, hist=False, kde=True, kde_kws={\"shade\": True}, label = 'Con Problemas Cardiacos')\n",
        "sns.distplot(data_resting_no_disease, ax=ax, rug=True, hist=False, kde=True, kde_kws={\"shade\": True}, label = 'Sin Problemas Cardiacos')\n",
        "plt.legend()\n",
        "plt.show()\n",
        "\n",
        "print(\"La media de presiones arteriales para personas con problemas cardiácos:\")\n",
        "print(np.mean(data_resting_disease))\n",
        "\n",
        "print(\"La media de presiones arteriales para personas sin problemas cardiácos:\")\n",
        "print(np.mean(data_resting_no_disease))\n",
        "\n",
        "print(\"\\nUsando un alpha = 0.005\\n\")\n",
        "\n",
        "print(\"El intervalo de confianza de presión para hombres con problemas cardiácos (Dist. Normal)\")\n",
        "print(IC_media_Norm(data_men_disease_resting, 0.005))\n",
        "\n",
        "print(\"El intervalo de confianza de presión para hombres sin problemas cardiácos (Dist. Normal)\")\n",
        "print(IC_media_Norm(data_men_no_disease_resting, 0.005))"
      ],
      "metadata": {
        "colab": {
          "base_uri": "https://localhost:8080/",
          "height": 653
        },
        "id": "mvjSSGhCB2yn",
        "outputId": "3fa68c5b-4e94-4b06-9219-8c1f3dbf7452"
      },
      "execution_count": null,
      "outputs": [
        {
          "output_type": "display_data",
          "data": {
            "text/plain": [
              "<Figure size 720x432 with 1 Axes>"
            ],
            "image/png": "[encoded data removed]"
          },
          "metadata": {}
        },
        {
          "output_type": "stream",
          "name": "stdout",
          "text": [
            "La media de presiones arteriales para personas con problemas cardiácos:\n",
            "134.18503937007873\n",
            "La media de presiones arteriales para personas sin problemas cardiácos:\n",
            "130.18048780487806\n",
            "\n",
            "Usando un alpha = 0.005\n",
            "\n",
            "El intervalo de confianza de presión para hombres con problemas cardiácos (Dist. Normal)\n",
            "(130.80874082280158, 135.85501463571373)\n",
            "El intervalo de confianza de presión para hombres sin problemas cardiácos (Dist. Normal)\n",
            "(128.11091244612714, 133.73927481979047)\n"
          ]
        }
      ]
    },
    {
      "cell_type": "markdown",
      "source": [
        "Dados los datos presentes, podemos empezar a responder las preguntas:\n",
        "\n",
        "> a) Determine si la afirmación es verdadera considerando solamente a las mujeres. En caso de no ser cierta, ¿Cuál es el valor mínimo de $\\alpha$ para que la afirmación sea verdadera? **(5 pts)**\n",
        "\n",
        "Para las mujeres, es aparente que al tener problemas al corazón, la tendencia de tener presión alta. Esto se puede ver a através del gráfico, en donde la frecuencia para presiones altas es significativamente mayor para personas con problemas cardiácos, además de tener una media de presión mucho mayor.\n",
        "\n",
        "#### Si se cumple.\n",
        "\n",
        "> b) Determine si la afirmación es verdadera considerando solamente a los hombres. En caso de no ser cierta, ¿Cuál es el valor mínimo de $\\alpha$ para que la afirmación sea verdadera? **(5 pts)**\n",
        "\n",
        "Para los hombres, la respuesta es mucho más difusa, ya que la frecuencia para presiones más altas es mayor, pero con un grado mucho menor que en las mujeres. Al igual que en el caso anterior, la media de presión también es mayor, pero con un margen reducido.\n",
        "\n",
        "#### Si se cumple.\n",
        "\n",
        "> c) Determine si la afirmación es verdadera para todas las personas. En caso de no ser cierta, ¿Cuál es el valor mínimo de $\\alpha$ para que la afirmación sea verdadera? **(5 pts)**\n",
        "\n",
        "Para la población general, se comporta de forma muy similar a la distribución de los hombres, sin embargo, también se cumple que las personas con problemas cardiácos tienden a tener presiones más altas.\n",
        "\n",
        "#### Si se cumple."
      ],
      "metadata": {
        "id": "zxhI1a5wv454"
      }
    },
    {
      "cell_type": "markdown",
      "source": [
        "### Pregunta 6 \n",
        "\n",
        "El dolor en el pecho al realizar ejercicios (ExerciseAngina='Y') es un síntoma que se suele presentar en personas con enfermedades al corazón, ya que el corazón de estas personas no recibe suficiente sangre oxigenada.\n",
        "\n",
        "a) Considerando solamente a las personas con enfermedades al corazón, ¿Se puede afirmar que la proporción de personas con dolor en el pecho cuando realizan ejercicios (ExerciseAngina='Y')` es mayor al 50%?, ¿Cuál es el máximo nivel de confianza con el cual se cumple esta afirmación? (15 pts)\n",
        "\n",
        "b) ¿Qué ocurre si solamente se consideran a las mujeres con enfermedades al corazón en la pregunta a)? (5 pts)\n",
        "\n",
        "c) ¿Qué ocurre si solamente se consideran a los hombres con enfermedades al corazón en la pregunta a)? (5 pts)"
      ],
      "metadata": {
        "id": "8FfCD_VctiKg"
      }
    },
    {
      "cell_type": "code",
      "source": [
        "#Parte a\n",
        "\n",
        "#IC proporcion para ExerciseAngina\n",
        "def IC_prop(datos, alpha = 0.001):\n",
        "  cont = 0\n",
        "  for i in datos:\n",
        "      if i == 'Y':\n",
        "        cont+=1\n",
        "  n = len(datos)\n",
        "  p = cont/n\n",
        "  z_alpha = norm.ppf(1-alpha/2) \n",
        "  inter = z_alpha * np.sqrt((p*(1-p))/n)\n",
        "  ICinf = p - inter\n",
        "  ICsup = p + inter\n",
        "  return(ICinf,ICsup)  \n",
        "  \n",
        "PersonasCorazon = data[data['HeartDisease'] == 1]\n",
        "PersonasEx = PersonasCorazon['ExerciseAngina']\n",
        "\n",
        "print('\\nIntervalo de Confianza para una proporcion de Personas con dolor de pecho al hacer ejercicio para las personas con problemas al corazon:\\n', IC_prop(PersonasEx))\n",
        "\n",
        "#Parte b\n",
        "\n",
        "MujeresCorazon = PersonasCorazon[PersonasCorazon['Sex']=='F']\n",
        "MujeresEx = MujeresCorazon['ExerciseAngina']\n",
        "\n",
        "print('\\nIntervalo de Confianza para una proporcion de Mujeres con dolor de pecho al hacer ejercicio para los mujeres con problemas al corazon:\\n', IC_prop(MujeresEx,0.58))\n",
        "\n",
        "#Parte c\n",
        "\n",
        "HombresCorazon = PersonasCorazon[PersonasCorazon['Sex']=='M']\n",
        "HombresEx = HombresCorazon['ExerciseAngina']\n",
        "\n",
        "print('\\nIntervalo de Confianza para una proporcion de Hombres con dolor de pecho al hacer ejercicio para los hombres con problemas al corazon:\\n', IC_prop(HombresEx))"
      ],
      "metadata": {
        "id": "uA6IABWCS--r",
        "colab": {
          "base_uri": "https://localhost:8080/"
        },
        "outputId": "e591a260-2aed-42e4-fa95-82933a2dabb5"
      },
      "execution_count": null,
      "outputs": [
        {
          "output_type": "stream",
          "name": "stdout",
          "text": [
            "\n",
            "Intervalo de Confianza para una proporcion de Personas con dolor de pecho al hacer ejercicio para las personas con problemas al corazon:\n",
            " (0.5512585320816473, 0.6928359561073291)\n",
            "\n",
            "Intervalo de Confianza para una proporcion de Mujeres con dolor de pecho al hacer ejercicio para los mujeres con problemas al corazon:\n",
            " (0.5009952088781681, 0.579004791121832)\n",
            "\n",
            "Intervalo de Confianza para una proporcion de Hombres con dolor de pecho al hacer ejercicio para los hombres con problemas al corazon:\n",
            " (0.5568119565738886, 0.7051967770505655)\n"
          ]
        }
      ]
    },
    {
      "cell_type": "markdown",
      "source": [
        "a) Una vez obtenido el intervalo de confianza, si se puede puede afirmar que la proporción de personas con dolor en el pecho cuando realizan ejercicios es mayor al 50%, una vez obtenido este resultado se obtuvo que el máximo nivel de confianza donde se cumple la afirmación es de un nivel de confianza de un 99.9%\n",
        "\n",
        "b) Si solamente se consideran las mujeres la afirmación deja de realizarse con un 95%, esto se debe a que el intevalo inferior llega a ser menor que 50%, para que el limite inferior se mayor que 50%, el nivel de confianza debe ser de 42%, el cual es el máximo nivel de confianza para el cual se cumpla la afirmación\n",
        "\n",
        "c)Si solamente se consideran los hombres la afirmación se realiza, siendo su máximo nivel de confianza de 99.9%, al igual que la población total"
      ],
      "metadata": {
        "id": "i0T6wTb57-7P"
      }
    },
    {
      "cell_type": "markdown",
      "source": [
        "# Código de Honor UTFSM\n",
        "La realización de este taller de adhiere al código de honor de la Universidad Federico Santa María."
      ],
      "metadata": {
        "id": "w6cr7PcRwfy5"
      }
    }
  ]
}