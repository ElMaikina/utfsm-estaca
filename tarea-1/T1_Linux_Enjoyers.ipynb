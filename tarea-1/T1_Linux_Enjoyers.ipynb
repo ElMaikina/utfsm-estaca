{
  "cells": [
    {
      "cell_type": "markdown",
      "metadata": {
        "id": "4D19V_ND43Uh"
      },
      "source": [
        "<hr style=\"height:2px;border:none\"/>\n",
        "<h1 align='center'> INF-280 Estadística Computacional II-2022 </h1>\n",
        "\n",
        "<H3 align='center'> Tema 1 - Análisis Exploratorio de Datos  </H3>\n",
        "\n",
        "\n",
        "## Objetivos de aprendizaje\n",
        "Al final de este taller el/la alumno/a sabrá:\n",
        "\n",
        "> * Distinguir las funciones de las principales librerías en Python para el manejo y análisis exploratorio de datos.\n",
        "> * Aplicar técnicas de visualización para generar gráficos que le permitan llegar a conclusiones descriptivas acerca de una muestra.\n",
        "> * Obtener estadísticas de tendencia y dispersión univariadas sobre las variables presentes en la muestra.\n",
        "> * Aplicar transformaciones sobre conjuntos de datos que le permitan, posteriormente, preparár los datos de la muestra para realizar un proceso de modelamiento.\n",
        "\n",
        "\n",
        "\n",
        "\n",
        "\n",
        "\n",
        "Integrantes:\n",
        "\n",
        "\n",
        "*   Miguel Soto Delgado - 201973623-K - [video](https://drive.google.com/drive/folders/17FG7pWxCkkUPgBBfAmCoJMoXVYcjhqIp?usp=sharing)\n",
        "*   Martin Ignacio Sarubbi - 201973587-K - [video](https://www.youtube.com/watch?v=JvIp26JolhQ)\n",
        "\n",
        "\n",
        "\n",
        "\n",
        "\n",
        "### **Formalidades**  \n",
        "* Es posible utilizar apuntes, libros, papers, ejemplos y cualquier otro material que desee de internet, pero debe ser usted quien desarrolle los ejercicios y comente los resultados en el Notebook que entregará. \n",
        "* Se permite el uso de las librerías: pandas, numpy, matplotlib y seaborn. Si desea utilizar otra librería debe indicar cómo instalarla.\n",
        "* Se debe trabajar en grupos de **dos o tres personas**, las cuales deberán estar inscritas a través de __[Aula](https://aula.usm.cl/)__.\n",
        "* Además del Notebook, deberán entregar un video explicando lo que hizo, paso a paso, como en los ejemplos entregados en AULA. Este vídeo es **individual**, es decir, cada integrante debe hacerlo por separado (debiendo utilizar el mismo Jupyter Notebook). El video puede ser subido a una plataforma externa como Youtube, Google Drive, ó Dropbox. El **link a compartir** (*visible para cualquier usuario con el link*) debe ir dentro del Notebook.\n",
        "* La nota de esta actividad es grupal.\n",
        "\n",
        "\n",
        "<hr style=\"height:2px;border:none\"/>\n",
        "\n",
        "### **Entrega** \n",
        "* **Formato**: Se debe realizar una **única** entrega por grupo (un representate del grupo) a través de  __[**Aula**](https://aula.usm.cl/)__.\n",
        "* **Archivo**: Sus respuestas deben ser entregadas en forma de Jupyter Notebook, incluyendo **todos links** a los vídeos explicativos, uno por cada integrante.\n",
        "    * **Vídeo**: Debe grabar la pantalla (Jupyter Notebok) donde se realiza la explicación de la actividad, con una duración de 10 a 15 minutos.\n",
        "* **Fecha límite**: Viernes 2 de Septiembre a las 23:59.\n",
        "\n",
        "<hr style=\"height:2px;border:none\"/>\n",
        "\n",
        "\n",
        "\n",
        "\n",
        "\n",
        "\n"
      ]
    },
    {
      "cell_type": "markdown",
      "metadata": {
        "id": "SRpEAFNr46Dy"
      },
      "source": [
        "\n",
        "<hr style=\"height:2px;border:none\"/>\n",
        "\n",
        "\n",
        "<table align='left'>\n",
        "<tr>\n",
        "<td><img src='https://ik.imgkit.net/3vlqs5axxjf/PCWW/uploadedImages/Articles/News/2020/July/bike-share-coronavirus.jpeg?tr=w-600%2Ch-300%2Cfo-auto' width='900'/> </td>\n",
        "</tr>\n",
        "</table>"
      ]
    },
    {
      "cell_type": "markdown",
      "metadata": {
        "id": "uzd4yR7K4116"
      },
      "source": [
        "\n",
        "\n",
        "## Enunciado\n",
        "\n",
        "Los sistemas de bicicletas compartidas son una forma de alquilar bicicletas en las que el proceso de obtención de membresía, alquiler y devolución de bicicletas se automatiza a través de una red de quioscos en toda la ciudad. Con estos sistemas, las personas pueden alquilar una bicicleta en un lugar y devolverla en un lugar diferente según sea necesario. Actualmente, hay más de 500 programas de bicicletas compartidas en todo el mundo. Los datos generados por estos sistemas los hacen atractivos para los investigadores porque la duración del viaje, el lugar de salida, el lugar de llegada y el tiempo transcurrido se registran explícitamente. Por lo tanto, los sistemas de bicicletas compartidas funcionan como una red de sensores que se puede utilizar para estudiar la movilidad en una ciudad. En esta taller, se les muestra a kis participantes el alquiler de bicicletas en el programa Capital Bikeshare en Washington, D.C.\n",
        "\n",
        "En este taller se utilizará el dataset `Bike Sharing Demand`, disponible libremente en\n",
        "[Kaggle](https://https://www.kaggle.com/competitions/bike-sharing-demand/overview).\n",
        "\n",
        "En la carpeta se encuentra un archivo llamado `Bike.csv` donde está el dataset a trabajar.\n",
        "\n",
        "Con respecto a las variables contenidas tenemos:\n",
        "* `datetime` - Fecha  + hora. \n",
        "* `season` -  1 = primavera, 2 = verano, 3 = otoño, 4 = invierno.\n",
        "* `holiday` - Si el día es considerado feriado.\n",
        "* `workingday` - Si el día no es feriado ni fin de semana.\n",
        "* `weather` - 1: Despejado, Pocas nubes, Parcialmente nublado, Parcialmente nublado\n",
        "2: Niebla + Nublado, Niebla + Nubes rotas, Niebla + Pocas nubes, Niebla\n",
        "3: Nieve ligera, Lluvia ligera + Tormenta eléctrica + Nubes dispersas, Lluvia ligera + Nubes dispersas\n",
        "4: luvia intensa + Paletas de hielo + Tormenta eléctrica + Niebla, nieve + Niebla.\n",
        "* `temp` - Temperatura en Celsius.\n",
        "* `atemp` - Temperatura \"se siente como\" en grados Celsius\n",
        "* `humidity` - Humedad relativa\n",
        "* `windspeed` - Velocidad del viento\n",
        "* `casual` - Número de alquileres de usuarios no registrados iniciados\n",
        "* `registered` - Número de alquileres de usuarios registrados iniciados.\n",
        "* `count` - Número de alquileres totales.\n"
      ]
    },
    {
      "cell_type": "markdown",
      "metadata": {
        "id": "es9Xie4w5Epb"
      },
      "source": [
        "## Problema de estudio: \n",
        "Se desea hacer un estudio del uso de estos alquileres, el comportamiento general que tienen las personas para arrendar una bicicleta, bajo alguna temporada o algún clima especial, para eso contratan a tu equipo, que como tarea debe responder lo siguiente.\n",
        "\n",
        "\n",
        "\n",
        "\n",
        "## Requerimientos del cliente:\n",
        "\n",
        "1.   Compare la cantidad de alquileres según 'workingday'. ¿Se puede afirmar que la gente prefiere alquilar una bicleta los fines de semana? (10 pts)\n",
        "\n",
        "2.   Compare la cantidad de alquileres totales según la estación ('season') para los años 2011 y 2012, ¿Existe algún cambio significativo entre estos años? (10 pts)\n",
        "\n",
        "3.   Para cada una de las estaciones del año, realice un boxplot de la temperatura cuando se realizó el alquiler. Compare los boxplots y concluya. (10 pts)\n",
        "\n",
        "4.   Construya un gráfico de barras de la cantidad de alquileres según el clima ('weather'), ¿Qué se puede concluir? (10 pts)\n",
        "\n",
        "5.   Para la estación de invierno, realice un gráfico de barras sobre el clima. ¿Qué se puede concluir? (10 pts)\n",
        "\n",
        "6.   Para las estaciones de invierno y verano, realice un histograma sobre la temperatura aparente al momento de realizar el alquiler. ¿Se puede afirmar que en invierno la gente tiende a alquilar una bicicleta cuando la temperatura aparente es mayor(horas de más calor en invierno)?.¿Se puede afirmar que en verano la gente tiende a alquilar una bicicleta cuando la temperatura aparente es menor(hora de menor temperatura)? (20 pts)\n",
        "\n",
        "7.   Para cada una de las estaciones del año, construya un histograma de la hora en que se realizan los alquileres. ¿Existe alguna diferencia en la distribución de la hora de alquiler? ¿Qué se puede concluir?. Ejemplo: \"en invierno los alquileres se realizan(en promedio) a una hora más temprano que en verano\". (20 pts)\n",
        "\n",
        "8. Proponga y desarrolle un análisis libre que no haya sido cubierto  (10 pts)\n"
      ]
    },
    {
      "cell_type": "code",
      "execution_count": null,
      "metadata": {
        "id": "-Uz21ZqA5AD-",
        "scrolled": false
      },
      "outputs": [],
      "source": [
        "import pandas\n",
        "import matplotlib\n",
        "import numpy\n",
        "from matplotlib import pyplot\n",
        "\n",
        "# Lee los datos del archivo CSV\n",
        "data = pandas.read_csv('bike.csv')\n",
        "\n",
        "# Descomentar esta sección para ver la tabla completa\n",
        "#print(data.to_string())"
      ]
    },
    {
      "cell_type": "markdown",
      "metadata": {
        "id": "kPpPCKVJej37"
      },
      "source": [
        "## Pregunta 1\n",
        "\n",
        "### Compare la cantidad de alquileres según 'workingday'. ¿Se puede afirmar que la gente prefiere alquilar una bicleta los fines de semana? (10 pts)\n",
        "\n",
        "En vista de que tenemos los datos representados como tablas, ahora podemos empezar a manipular los datos. Como deseamos analizar la cantidad de arriendos de bicicletas por día laboral y días festivos o fines de semana, debemos conseguir la cantidad de filas en la tabla que sean días de trabajo en relación a aquellos que no lo sean."
      ]
    },
    {
      "cell_type": "code",
      "execution_count": null,
      "metadata": {
        "id": "8PPuKEZbej37",
        "outputId": "5c23f731-4c7d-4bbe-e657-b1c99e4777ef",
        "colab": {
          "base_uri": "https://localhost:8080/"
        }
      },
      "outputs": [
        {
          "output_type": "stream",
          "name": "stdout",
          "text": [
            "Días laborales en los que se arrendó bicicletas:  7412\n",
            "Días no laborales en los que se arrendó bicicletas:  3474\n"
          ]
        }
      ],
      "source": [
        "data_work = data[data['workingday'] == 1]\n",
        "data_no_work = data[data['workingday'] == 0]\n",
        "\n",
        "print('Días laborales en los que se arrendó bicicletas: ', len(data_work))\n",
        "print('Días no laborales en los que se arrendó bicicletas: ', len(data_no_work))\n"
      ]
    },
    {
      "cell_type": "markdown",
      "metadata": {
        "id": "nnKEt-1Mej38"
      },
      "source": [
        "Lo cuál es una cantidad de datos esperables, ya que los días de la semana versus los días no laborales siguen una relación de cinco a dos, y si bien los días festivos alteran esta relación, en la práctica es poco lo que afectan a los datos. Ahora veamos la suma entre la cantidad diaria de arriendos y los dias registrados en nuestro dataframe."
      ]
    },
    {
      "cell_type": "code",
      "execution_count": null,
      "metadata": {
        "id": "Z2zScpRGej39",
        "colab": {
          "base_uri": "https://localhost:8080/"
        },
        "outputId": "eee9b2b0-9c56-43b6-f2fa-d5d14b378845"
      },
      "outputs": [
        {
          "output_type": "stream",
          "name": "stdout",
          "text": [
            "Suma de los arriendos en dias laborales:  1430604\n",
            "Suma de los arriendos en dias no laborales:  654872\n"
          ]
        }
      ],
      "source": [
        "print('Suma de los arriendos en dias laborales: ', data_work['count'].sum())\n",
        "print('Suma de los arriendos en dias no laborales: ', data_no_work['count'].sum())"
      ]
    },
    {
      "cell_type": "markdown",
      "metadata": {
        "id": "6IS6eekfej3-"
      },
      "source": [
        "Finalmente, dividimos la suma de los arriendos diarios entre la cantidad de columnas y obtendremos nuestra relación final. Podemos aseverar entonces que la gente tiende a arrendar bicicletas con más frecuencia en los días laborales."
      ]
    },
    {
      "cell_type": "code",
      "execution_count": null,
      "metadata": {
        "id": "931wh9A4ej3-",
        "colab": {
          "base_uri": "https://localhost:8080/"
        },
        "outputId": "8fa7b035-d7d3-4355-c482-f7fa4bc4c253"
      },
      "outputs": [
        {
          "output_type": "stream",
          "name": "stdout",
          "text": [
            "Relación entre dias laborales y no laborales\n",
            "193.01187263896384\n",
            "188.50662061024755\n"
          ]
        }
      ],
      "source": [
        "print('Relación entre dias laborales y no laborales')\n",
        "print(data_work['count'].sum() / len(data_work))\n",
        "print(data_no_work['count'].sum() / len(data_no_work))"
      ]
    },
    {
      "cell_type": "markdown",
      "source": [
        "Una vez vista la relación entre los dias laborales y no laborales, efectivamente se puede afirmar que la gente prefiere alquilar una bicicleta, los dias de semana, no los fines de semana."
      ],
      "metadata": {
        "id": "XJeoveBGhiVu"
      }
    },
    {
      "cell_type": "markdown",
      "metadata": {
        "id": "d5cZjYZsej3-"
      },
      "source": [
        "## Pregunta 2\n",
        "\n",
        "### Compare la cantidad de alquileres totales según la estación ('season') para los años 2011 y 2012, ¿Existe algún cambio significativo entre estos años? (10 pts)"
      ]
    },
    {
      "cell_type": "markdown",
      "metadata": {
        "id": "DD-ebablej3_"
      },
      "source": [
        "Primero empezamos obteniendo y visualizando los datos que corresponde para los años anteriormente señalados"
      ]
    },
    {
      "cell_type": "code",
      "execution_count": null,
      "metadata": {
        "id": "l9NQwDzLej3_"
      },
      "outputs": [],
      "source": [
        "# Obtiene todos los datos que se hayan obtenido del 2011\n",
        "data_in_2011 = data[data.datetime.str.match('2011[0-9 ]*')]\n",
        "\n",
        "#print(data_2011.to_string())"
      ]
    },
    {
      "cell_type": "code",
      "execution_count": null,
      "metadata": {
        "id": "Mr_wDE_Vej3_"
      },
      "outputs": [],
      "source": [
        "# Obtiene todos los datos que se hayan obtenido del 2012\n",
        "data_in_2012 = data[data.datetime.str.match('2012[0-9 ]*')]\n",
        "\n",
        "#print(data_2012.to_string())"
      ]
    },
    {
      "cell_type": "markdown",
      "metadata": {
        "id": "ST3AOqSGej4A"
      },
      "source": [
        "Luego, obtenemos las tablas para los respectivos años y estaciones, para poder hacer una comparación directa"
      ]
    },
    {
      "cell_type": "code",
      "execution_count": null,
      "metadata": {
        "id": "eQVRk__Gej4A",
        "colab": {
          "base_uri": "https://localhost:8080/",
          "height": 558
        },
        "outputId": "8301ec6c-9d8c-43a5-b829-120105b759f2"
      },
      "outputs": [
        {
          "output_type": "stream",
          "name": "stdout",
          "text": [
            "Suma de los alquileres en primavera del 2011:  220006\n",
            "Suma de los alquileres en verano del 2011:  255248\n",
            "Suma de los alquileres en otoño del 2011:  211594\n",
            "Suma de los alquileres en invierno del 2011:  95131\n",
            "\n",
            "\n",
            "Suma de los alquileres en primavera del 2012:  368276\n",
            "Suma de los alquileres en verano del 2012:  385414\n",
            "Suma de los alquileres en otoño del 2012:  332440\n",
            "Suma de los alquileres en invierno del 2012:  217367\n",
            "\n",
            "\n"
          ]
        },
        {
          "output_type": "display_data",
          "data": {
            "text/plain": [
              "<Figure size 1080x360 with 2 Axes>"
            ],
            "image/png": "[encoded data removed]"
          },
          "metadata": {
            "needs_background": "light"
          }
        }
      ],
      "source": [
        "# Recordamos la correspondencia de las estaciones\n",
        "# season - 1 = invierno, 2 = primavera, 3 = verano, 4 = otoño.\n",
        "\n",
        "data_in_2011_spring = data_in_2011[data_in_2011['season'] == 2]\n",
        "data_in_2011_summer = data_in_2011[data_in_2011['season'] == 3]\n",
        "data_in_2011_fall = data_in_2011[data_in_2011['season'] == 4]\n",
        "data_in_2011_winter = data_in_2011[data_in_2011['season'] == 1]\n",
        "\n",
        "print('Suma de los alquileres en primavera del 2011: ', data_in_2011_spring['count'].sum())\n",
        "print('Suma de los alquileres en verano del 2011: ', data_in_2011_summer['count'].sum())\n",
        "print('Suma de los alquileres en otoño del 2011: ', data_in_2011_fall['count'].sum())\n",
        "print('Suma de los alquileres en invierno del 2011: ', data_in_2011_winter['count'].sum())\n",
        "print(\"\\n\")\n",
        "\n",
        "lista_2011_por_estacion = []\n",
        "lista_2011_por_estacion.append(data_in_2011_winter['count'].sum())\n",
        "lista_2011_por_estacion.append(data_in_2011_spring['count'].sum())\n",
        "lista_2011_por_estacion.append(data_in_2011_summer['count'].sum())\n",
        "lista_2011_por_estacion.append(data_in_2011_fall['count'].sum())\n",
        "\n",
        "lista_de_estaciones = ['Invierno', 'Primavera', 'Verano', 'Otoño']\n",
        "\n",
        "\n",
        "data_in_2012_spring = data_in_2012[data_in_2012['season'] == 2]\n",
        "data_in_2012_summer = data_in_2012[data_in_2012['season'] == 3]\n",
        "data_in_2012_fall = data_in_2012[data_in_2012['season'] == 4]\n",
        "data_in_2012_winter = data_in_2012[data_in_2012['season'] == 1]\n",
        "\n",
        "print('Suma de los alquileres en primavera del 2012: ', data_in_2012_spring['count'].sum())\n",
        "print('Suma de los alquileres en verano del 2012: ', data_in_2012_summer['count'].sum())\n",
        "print('Suma de los alquileres en otoño del 2012: ', data_in_2012_fall['count'].sum())\n",
        "print('Suma de los alquileres en invierno del 2012: ', data_in_2012_winter['count'].sum())\n",
        "print(\"\\n\")\n",
        "\n",
        "lista_2012_por_estacion = []\n",
        "lista_2012_por_estacion.append(data_in_2012_winter['count'].sum())\n",
        "lista_2012_por_estacion.append(data_in_2012_spring['count'].sum())\n",
        "lista_2012_por_estacion.append(data_in_2012_summer['count'].sum())\n",
        "lista_2012_por_estacion.append(data_in_2012_fall['count'].sum())\n",
        "\n",
        "\n",
        "pyplot.subplots(2,2,figsize=(15,5))\n",
        "pyplot.subplot(1, 2, 1) # row 1, col 2 index 1\n",
        "matplotlib.pyplot.bar(lista_de_estaciones, lista_2011_por_estacion, color ='maroon', width = 0.4)\n",
        "pyplot.title(\"Año 2011\")\n",
        "pyplot.xlabel('Estación')\n",
        "pyplot.ylabel('Alquileres')\n",
        "\n",
        "\n",
        "\n",
        "pyplot.subplot(1, 2, 2) # row 1, col 2 index 1\n",
        "matplotlib.pyplot.bar(lista_de_estaciones, lista_2012_por_estacion, color ='maroon', width = 0.4)\n",
        "pyplot.title(\"Año 2012\")\n",
        "pyplot.xlabel('Estacion')\n",
        "pyplot.ylabel('Alquileres')\n",
        "\n",
        "\n",
        "\n",
        "pyplot.show()\n",
        "\n"
      ]
    },
    {
      "cell_type": "markdown",
      "source": [
        "Al ver el gráfico obtenido, se puede ver que en el año 2012 se alquilaron mas bicicletas en todas las estaciones, siendo el cambio mas significativo entre los años"
      ],
      "metadata": {
        "id": "U90bD6vrzSuZ"
      }
    },
    {
      "cell_type": "markdown",
      "source": [
        "## Pregunta 3 \n",
        "\n",
        "### Para cada una de las estaciones del año, realice un boxplot de la temperatura cuando se realizó el alquiler. Compare los boxplots y concluya. (10 pts)"
      ],
      "metadata": {
        "id": "_654DY0ofWGf"
      }
    },
    {
      "cell_type": "code",
      "source": [
        "# Codigo para hacer un boxplot de los datos\n",
        "data.boxplot(column = 'temp', by = 'season', figsize = (6,6))"
      ],
      "metadata": {
        "colab": {
          "base_uri": "https://localhost:8080/",
          "height": 492
        },
        "id": "p2UuEScuf0Pn",
        "outputId": "6e1bc499-f8d7-44ae-e96b-d6df85e11342"
      },
      "execution_count": null,
      "outputs": [
        {
          "output_type": "stream",
          "name": "stderr",
          "text": [
            "/usr/local/lib/python3.7/dist-packages/matplotlib/cbook/__init__.py:1376: VisibleDeprecationWarning: Creating an ndarray from ragged nested sequences (which is a list-or-tuple of lists-or-tuples-or ndarrays with different lengths or shapes) is deprecated. If you meant to do this, you must specify 'dtype=object' when creating the ndarray.\n",
            "  X = np.atleast_1d(X.T if isinstance(X, np.ndarray) else np.asarray(X))\n"
          ]
        },
        {
          "output_type": "execute_result",
          "data": {
            "text/plain": [
              "<matplotlib.axes._subplots.AxesSubplot at 0x7fe1c779f1d0>"
            ]
          },
          "metadata": {},
          "execution_count": 8
        },
        {
          "output_type": "display_data",
          "data": {
            "text/plain": [
              "<Figure size 432x432 with 1 Axes>"
            ],
            "image/png": "[encoded data removed]"
          },
          "metadata": {
            "needs_background": "light"
          }
        }
      ]
    },
    {
      "cell_type": "markdown",
      "source": [
        "Con el grafico obtenido se pueden registrar lo siguiente:\n",
        "  - La mayor temperatura promedio ocurre en verano\n",
        "  - La menor temperatura promedio ocurre en invierno\n",
        "  - La estación con la menor disperción de temperatura es verano\n",
        "  - Las otras tres estaciones tienen una dispercion de temperaturas casi igualadas"
      ],
      "metadata": {
        "id": "97LCDUDQ1isB"
      }
    },
    {
      "cell_type": "markdown",
      "source": [
        "## Pregunta 4\n",
        "### Construya un gráfico de barras de la cantidad de alquileres según el clima ('weather'), ¿Qué se puede concluir? (10 pts)"
      ],
      "metadata": {
        "id": "YWDu2dMNpSWP"
      }
    },
    {
      "cell_type": "code",
      "execution_count": null,
      "metadata": {
        "id": "dabZlmPXpeng",
        "colab": {
          "base_uri": "https://localhost:8080/",
          "height": 293
        },
        "outputId": "1ff6ca4d-920c-4db2-b32f-2731cbca2c6d"
      },
      "outputs": [
        {
          "output_type": "execute_result",
          "data": {
            "text/plain": [
              "<BarContainer object of 4 artists>"
            ]
          },
          "metadata": {},
          "execution_count": 9
        },
        {
          "output_type": "display_data",
          "data": {
            "text/plain": [
              "<Figure size 432x288 with 1 Axes>"
            ],
            "image/png": "[encoded data removed]"
          },
          "metadata": {
            "needs_background": "light"
          }
        }
      ],
      "source": [
        "# Recordamos la correspondencia de las estaciones\n",
        "# season - 1 = invierno, 2 = primavera, 3 = verano, 4 = otoño.\n",
        "\n",
        "# 1: Despejado, Pocas nubes, Parcialmente nublado, Parcialmente nublado \n",
        "# 2: Niebla + Nublado, Niebla + Nubes rotas, Niebla + Pocas nubes, Niebla \n",
        "# 3: Nieve ligera, Lluvia ligera + Tormenta eléctrica + Nubes dispersas, Lluvia ligera + Nubes dispersas \n",
        "# 4: luvia intensa + Paletas de hielo + Tormenta eléctrica + Niebla, nieve + Niebla.\n",
        "\n",
        "data_despejado = data[data['weather'] == 1]\n",
        "data_niebla = data[data['weather'] == 2]\n",
        "data_lluvia = data[data['weather'] == 3]\n",
        "data_tormenta = data[data['weather'] == 4]\n",
        "\n",
        "lista_por_clima = []\n",
        "\n",
        "lista_por_clima.append(data_despejado['count'].sum())\n",
        "lista_por_clima.append(data_niebla['count'].sum())\n",
        "lista_por_clima.append(data_lluvia['count'].sum())\n",
        "lista_por_clima.append(data_tormenta['count'].sum())\n",
        "\n",
        "nombres_de_clima = ['Despejado', 'Niebla', 'Lluvia', 'Tormenta']\n",
        "\n",
        "matplotlib.pyplot.bar(nombres_de_clima, lista_por_clima, color ='maroon', width = 0.4)\n"
      ]
    },
    {
      "cell_type": "markdown",
      "source": [
        "Con la información obtenida se puede concluir que:\n",
        " - El momento en el que se alquilan mas bicicletas es cuando cuando hay un clima despejado\n",
        " - El momento en el que se alquilan menos bicicletas es cuando hay un clima de tormenta\n",
        "\n"
      ],
      "metadata": {
        "id": "x0QRgFhX5EV2"
      }
    },
    {
      "cell_type": "markdown",
      "source": [
        "## Pregunta 5\n",
        "### Para la estación de invierno, realice un gráfico de barras sobre el clima. ¿Qué se puede concluir? (10 pts)"
      ],
      "metadata": {
        "id": "aQyhy8CRrm0R"
      }
    },
    {
      "cell_type": "code",
      "source": [
        "data_invierno = data[data['season'] == 1]\n",
        "data_despejado2 = data_invierno[data_invierno['weather'] == 1]\n",
        "data_niebla2 = data_invierno[data_invierno['weather'] == 2]\n",
        "data_lluvia2 = data_invierno[data_invierno['weather'] == 3]\n",
        "data_tormenta2 = data_invierno[data_invierno['weather'] == 4]\n",
        "lista_por_invierno = []\n",
        "lista_por_invierno.append(data_despejado2.shape[0])\n",
        "lista_por_invierno.append(data_niebla2.shape[0])\n",
        "lista_por_invierno.append(data_lluvia2.shape[0])\n",
        "lista_por_invierno.append(data_tormenta2.shape[0])\n",
        "\n",
        "lista_de_climas = ['Despejado', 'Niebla', 'Lluvia', 'Tormenta']\n",
        "matplotlib.pyplot.bar(lista_de_climas, lista_por_invierno, color ='maroon', width = 0.4)"
      ],
      "metadata": {
        "id": "NKV1J9D2rl9a",
        "colab": {
          "base_uri": "https://localhost:8080/",
          "height": 282
        },
        "outputId": "5270c768-3bdd-4baa-d69c-31147b9543de"
      },
      "execution_count": null,
      "outputs": [
        {
          "output_type": "execute_result",
          "data": {
            "text/plain": [
              "<BarContainer object of 4 artists>"
            ]
          },
          "metadata": {},
          "execution_count": 10
        },
        {
          "output_type": "display_data",
          "data": {
            "text/plain": [
              "<Figure size 432x288 with 1 Axes>"
            ],
            "image/png": "[encoded data removed]"
          },
          "metadata": {
            "needs_background": "light"
          }
        }
      ]
    },
    {
      "cell_type": "markdown",
      "source": [
        "Podemos aserverar, en relación a la pregunta anterior, que en estación de invierno, la tendencia de alquileres mantiene una relación similar, con un leve aumento en el número de alquileres durante días lluviosos"
      ],
      "metadata": {
        "id": "YvBQfAX0vKiJ"
      }
    },
    {
      "cell_type": "markdown",
      "source": [
        "## Pregunta 6\n",
        "### Para las estaciones de invierno y verano, realice un histograma sobre la temperatura aparente al momento de realizar el alquiler. ¿Se puede afirmar que en invierno la gente tiende a alquilar una bicicleta cuando la temperatura aparente es mayor(horas de más calor en invierno)?.¿Se puede afirmar que en verano la gente tiende a alquilar una bicicleta cuando la temperatura aparente es menor(hora de menor temperatura)? (20 pts)\n"
      ],
      "metadata": {
        "id": "LuetId9WzrfE"
      }
    },
    {
      "cell_type": "code",
      "source": [
        "data_invierno = data[data['season'] == 1]\n",
        "data_verano = data[data['season'] == 3]\n",
        "\n",
        "data_invierno = data_invierno.loc[:,['atemp']]\n",
        "data_verano = data_verano.loc[:,['atemp']]\n",
        "\n",
        "data_invierno.plot.hist(bins= 50, title = \"Invierno\")\n",
        "data_verano.plot.hist(bins= 50, title = \"Verano\")"
      ],
      "metadata": {
        "id": "SDgJom7fzzww",
        "colab": {
          "base_uri": "https://localhost:8080/",
          "height": 562
        },
        "outputId": "abe2ef2e-58be-43a6-cb67-95ec6d062932"
      },
      "execution_count": null,
      "outputs": [
        {
          "output_type": "execute_result",
          "data": {
            "text/plain": [
              "<matplotlib.axes._subplots.AxesSubplot at 0x7fe1c749a490>"
            ]
          },
          "metadata": {},
          "execution_count": 11
        },
        {
          "output_type": "display_data",
          "data": {
            "text/plain": [
              "<Figure size 432x288 with 1 Axes>"
            ],
            "image/png": "[encoded data removed]"
          },
          "metadata": {
            "needs_background": "light"
          }
        },
        {
          "output_type": "display_data",
          "data": {
            "text/plain": [
              "<Figure size 432x288 with 1 Axes>"
            ],
            "image/png": "[encoded data removed]"
          },
          "metadata": {
            "needs_background": "light"
          }
        }
      ]
    },
    {
      "cell_type": "markdown",
      "source": [
        "Una vez obtenido el histograma se puede ver que:\n",
        "  - En invierno la gente alquila bicicletas cuando la temperatura es alrededor de la mediana de la temperatura, es decir entre los 10 y 17 grados\n",
        "  - En verano se puede observar que la gente también tiende a alquilar bicicletas alrededor de la mitad de la temperatura, es decir entre 32 a 35 grados"
      ],
      "metadata": {
        "id": "zf7MW1ja8llV"
      }
    },
    {
      "cell_type": "markdown",
      "source": [
        "## Pregunta 7\n",
        "### Para cada una de las estaciones del año, construya un histograma de la hora en que se realizan los alquileres. ¿Existe alguna diferencia en la distribución de la hora de alquiler? ¿Qué se puede concluir?. Ejemplo: \"en invierno los alquileres se realizan(en promedio) a una hora más temprano que en verano\". (20 pts)"
      ],
      "metadata": {
        "id": "UHOKzoxjxjuh"
      }
    },
    {
      "cell_type": "code",
      "source": [
        "# Obtiene todos los datos que se hayan obtenido por hora\n",
        "data['time'] = data['datetime'].str.replace(r'[0-9 -]{11}', '')\n",
        "data['time'] = data['time'].str.replace(r'\\:[0-9:]*', '')\n",
        "data['time'] = pandas.to_numeric(data[\"time\"])\n",
        "\n",
        "# Genera los dataframe de las estaciones a partir de la original\n",
        "data_invierno = data[data['season'] == 1]\n",
        "data_primavera = data[data['season'] == 2]\n",
        "data_verano = data[data['season'] == 3]\n",
        "data_otoño = data[data['season'] == 4]\n",
        "\n",
        "# Obtiene las horas en el día a través de la tabla, para aseverar\n",
        "# que las horas están bien registradas\n",
        "hours_in_a_day = data['time'].to_numpy()\n",
        "\n",
        "# Imprime por pantalla para corroborar que las columnas\n",
        "# están bien asignadas\n",
        "print('\\nAquí está el eje x del histograma:')\n",
        "print(hours_in_a_day)\n",
        "print('\\n')\n",
        "\n",
        "# Genera el mísmo efecto que el histograma, excepto que usando gráfico de barras\n",
        "# matplotlib.pyplot.bar(hours_in_a_day, data['count'], color ='maroon', width = 0.4)\n",
        "\n",
        "# Muestra por pantalla las tablas divididas por estacion\n",
        "\n",
        "pyplot.subplots(2,2,figsize=(15,7))\n",
        "pyplot.subplot(2, 2, 1)\n",
        "pyplot.title(\"Verano\")\n",
        "matplotlib.pyplot.bar(data_verano['time'], data_verano['count'], color ='yellow', width = 0.4)\n",
        "pyplot.subplot(2, 2, 2)\n",
        "pyplot.title(\"Primavera\")\n",
        "matplotlib.pyplot.bar(data_primavera['time'], data_primavera['count'], color ='blue', width = 0.4)\n",
        "pyplot.subplot(2, 2, 3)\n",
        "pyplot.title(\"Otoño\")\n",
        "matplotlib.pyplot.bar(data_otoño['time'], data_otoño['count'], color ='green', width = 0.4)\n",
        "pyplot.subplot(2, 2, 4)\n",
        "pyplot.title(\"Invierno\")\n",
        "matplotlib.pyplot.bar(data_invierno['time'], data_invierno['count'], color ='red', width = 0.4)\n"
      ],
      "metadata": {
        "id": "VQZp6D2dxiP5",
        "colab": {
          "base_uri": "https://localhost:8080/",
          "height": 618
        },
        "outputId": "9e0fa271-6872-4aa0-c5df-e68f88df5bc0"
      },
      "execution_count": null,
      "outputs": [
        {
          "output_type": "stream",
          "name": "stderr",
          "text": [
            "/usr/local/lib/python3.7/dist-packages/ipykernel_launcher.py:2: FutureWarning: The default value of regex will change from True to False in a future version.\n",
            "  \n",
            "/usr/local/lib/python3.7/dist-packages/ipykernel_launcher.py:3: FutureWarning: The default value of regex will change from True to False in a future version.\n",
            "  This is separate from the ipykernel package so we can avoid doing imports until\n"
          ]
        },
        {
          "output_type": "stream",
          "name": "stdout",
          "text": [
            "\n",
            "Aquí está el eje x del histograma:\n",
            "[ 0  1  2 ... 21 22 23]\n",
            "\n",
            "\n"
          ]
        },
        {
          "output_type": "execute_result",
          "data": {
            "text/plain": [
              "<BarContainer object of 2686 artists>"
            ]
          },
          "metadata": {},
          "execution_count": 12
        },
        {
          "output_type": "display_data",
          "data": {
            "text/plain": [
              "<Figure size 1080x504 with 4 Axes>"
            ],
            "image/png": "[encoded data removed]"
          },
          "metadata": {
            "needs_background": "light"
          }
        }
      ]
    },
    {
      "cell_type": "markdown",
      "source": [
        "Analizando los cuatro graficos se puede concluir que:\n",
        "  - En promedio en verano se alquilan mas bicicletas\n",
        "  - En todas las estaciones cuando se alquilan mas bicicletas entre las 15:00 y las 20:00\n",
        "  - En otoño es donde mas gente alquila bicicletas entre las 00:00 y 5:00\n",
        "  - En Otoño es donde mas gente alquila bicicletas entre las 5:00 y 10:00\n",
        "  - En Verano es donde mas gente alquila bicicletas entre las 10:00 y 15:00, ademas ente 15:00 y 20:00 y entre 20:00 y 00:00"
      ],
      "metadata": {
        "id": "0saNxit_97Tw"
      }
    },
    {
      "cell_type": "markdown",
      "source": [],
      "metadata": {
        "id": "h27n3cilryOF"
      }
    },
    {
      "cell_type": "markdown",
      "source": [
        "## Pregunta 8\n",
        "#Proponga y desarrolle un análisis libre que no haya sido cubierto (10 pts)"
      ],
      "metadata": {
        "id": "Kui8697Sv_wa"
      }
    },
    {
      "cell_type": "markdown",
      "source": [
        "En vista de que fue poco cubierto, analizaremos la relación entre la humedad y el tiempo de los alquileres según estación. El motivo de este, es ver como una condición desfavorable para las bicicletas (ya que pueden oxidarse, resbalar con más facilidad o ser incomodas de usar) y como esta puede tener algún tipo de incidencia a la hora de tomar la decisión de realizar el alquiler."
      ],
      "metadata": {
        "id": "AnREcJPmwFHr"
      }
    },
    {
      "cell_type": "code",
      "source": [
        "#Codigo para hacer un boxplot de los datos\n",
        "data.boxplot(column = 'humidity', by = 'season', figsize = (6,6))"
      ],
      "metadata": {
        "id": "4Pcp7o4GwEso",
        "colab": {
          "base_uri": "https://localhost:8080/",
          "height": 492
        },
        "outputId": "68ff318b-5886-4be2-aee2-37c37ff3e13b"
      },
      "execution_count": null,
      "outputs": [
        {
          "output_type": "stream",
          "name": "stderr",
          "text": [
            "/usr/local/lib/python3.7/dist-packages/matplotlib/cbook/__init__.py:1376: VisibleDeprecationWarning: Creating an ndarray from ragged nested sequences (which is a list-or-tuple of lists-or-tuples-or ndarrays with different lengths or shapes) is deprecated. If you meant to do this, you must specify 'dtype=object' when creating the ndarray.\n",
            "  X = np.atleast_1d(X.T if isinstance(X, np.ndarray) else np.asarray(X))\n"
          ]
        },
        {
          "output_type": "execute_result",
          "data": {
            "text/plain": [
              "<matplotlib.axes._subplots.AxesSubplot at 0x7fe1c0109fd0>"
            ]
          },
          "metadata": {},
          "execution_count": 13
        },
        {
          "output_type": "display_data",
          "data": {
            "text/plain": [
              "<Figure size 432x432 with 1 Axes>"
            ],
            "image/png": "[encoded data removed]"
          },
          "metadata": {
            "needs_background": "light"
          }
        }
      ]
    },
    {
      "cell_type": "markdown",
      "source": [
        "Con este gráfico, podemos observar que la tendencia de los alquileres sigue un patrón similar al que ocurre al observar el clima. Esto puede parecer un hecho trivial, sin embargo, en vista de no tener un pronóstico preciso o acertado del clima, se puede usar la humedad como base para presentar una posible predicción para algún otro análisis. En este caso por ejemplo, Otoño se presta a presentar los índices más altos de humedad, seguido por Verano y la Primavera, y finalmente la estación menos húmeda resulta ser el Invierno."
      ],
      "metadata": {
        "id": "NjXykMVhxTf8"
      }
    },
    {
      "cell_type": "markdown",
      "source": [
        "# Código de Honor UTFSM\n",
        "La realización de este taller de adhiere al código de honor de la Universidad Federico Santa María."
      ],
      "metadata": {
        "id": "wQjFhGQpIt8K"
      }
    }
  ],
  "metadata": {
    "colab": {
      "provenance": [],
      "collapsed_sections": []
    },
    "kernelspec": {
      "display_name": "Python 3 (ipykernel)",
      "language": "python",
      "name": "python3"
    },
    "language_info": {
      "codemirror_mode": {
        "name": "ipython",
        "version": 3
      },
      "file_extension": ".py",
      "mimetype": "text/x-python",
      "name": "python",
      "nbconvert_exporter": "python",
      "pygments_lexer": "ipython3",
      "version": "3.10.6"
    }
  },
  "nbformat": 4,
  "nbformat_minor": 0
}